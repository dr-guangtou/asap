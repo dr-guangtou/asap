{
 "cells": [
  {
   "cell_type": "markdown",
   "metadata": {},
   "source": [
    "# Test MDPL2"
   ]
  },
  {
   "cell_type": "markdown",
   "metadata": {},
   "source": [
    "## Imports etc"
   ]
  },
  {
   "cell_type": "code",
   "execution_count": 83,
   "metadata": {
    "ExecuteTime": {
     "end_time": "2018-09-11T07:51:59.326120Z",
     "start_time": "2018-09-11T07:51:59.311676Z"
    }
   },
   "outputs": [],
   "source": [
    "import pandas as pd\n",
    "import matplotlib.pyplot as plt\n",
    "import numpy as np\n",
    "import h5py\n",
    "import colossus.cosmology.cosmology\n",
    "import colossus.halo.mass_so\n",
    "import scipy.stats\n",
    "import matplotlib as mpl"
   ]
  },
  {
   "cell_type": "code",
   "execution_count": 84,
   "metadata": {
    "ExecuteTime": {
     "end_time": "2018-09-11T07:52:00.937514Z",
     "start_time": "2018-09-11T07:52:00.917721Z"
    }
   },
   "outputs": [
    {
     "name": "stdout",
     "output_type": "stream",
     "text": [
      "The autoreload extension is already loaded. To reload it, use:\n",
      "  %reload_ext autoreload\n"
     ]
    },
    {
     "data": {
      "text/html": [
       "<style>.container { width:90% !important; }</style>"
      ],
      "text/plain": [
       "<IPython.core.display.HTML object>"
      ]
     },
     "metadata": {},
     "output_type": "display_data"
    }
   ],
   "source": [
    "%load_ext autoreload\n",
    "%autoreload 2\n",
    "%matplotlib inline\n",
    "\n",
    "from IPython.core.display import display, HTML\n",
    "display(HTML(\"<style>.container { width:90% !important; }</style>\"))\n",
    "np.set_printoptions(linewidth=1000)\n",
    "mpl.rcParams.update({\n",
    "    \"figure.dpi\": 200,                    \n",
    "    \"font.size\": 12,\n",
    "    # Ticks\n",
    "    \"ytick.right\": True,\n",
    "    \"ytick.direction\": \"in\",\n",
    "    \"ytick.minor.visible\": False,\n",
    "    \"xtick.top\": True,\n",
    "    \"xtick.direction\": \"in\",\n",
    "    \"xtick.minor.visible\": False,\n",
    "})"
   ]
  },
  {
   "cell_type": "markdown",
   "metadata": {},
   "source": [
    "# Load data"
   ]
  },
  {
   "cell_type": "code",
   "execution_count": 4,
   "metadata": {
    "ExecuteTime": {
     "end_time": "2018-09-11T07:21:15.267292Z",
     "start_time": "2018-09-11T07:21:15.262499Z"
    }
   },
   "outputs": [
    {
     "name": "stdout",
     "output_type": "stream",
     "text": [
      "[('halo_id', '<i8'), ('halo_upid', '<f8'), ('halo_pid', '<f8'), ('halo_x', '<f8'), ('halo_y', '<f8'), ('halo_z', '<f8'), ('halo_mvir', '<f8'), ('halo_M200b', '<f8'), ('halo_Vpeak', '<f8'), ('halo_Acc_Rate_2*Tdyn', '<f8'), ('halo_hostid', '<i8')]\n"
     ]
    }
   ],
   "source": [
    "datafile = \"/home/christopher/Data/data/hlist_0.73330_vpeak3.hdf5\"\n",
    "\n",
    "f = h5py.File(datafile, \"r\")[\"data\"]\n",
    "print(f.dtype)"
   ]
  },
  {
   "cell_type": "code",
   "execution_count": 50,
   "metadata": {
    "ExecuteTime": {
     "end_time": "2018-09-11T07:44:11.269600Z",
     "start_time": "2018-09-11T07:43:58.438277Z"
    }
   },
   "outputs": [],
   "source": [
    "df = pd.DataFrame()\n",
    "\n",
    "masses = f[\"halo_mvir\"]\n",
    "mass_filter = masses > 1e12\n",
    "\n",
    "for col in ['halo_id', 'halo_upid', 'halo_mvir', 'halo_Vpeak', 'halo_Acc_Rate_2*Tdyn']:\n",
    "    # Not sure why this is a float in the hdf5 file?\n",
    "    if col == \"halo_upid\":\n",
    "        df[col] = f[col][mass_filter].astype(np.int64)\n",
    "    else:\n",
    "        df[col] = f[col][mass_filter]\n",
    "    \n",
    "parents = df[df[\"halo_upid\"] == -1]\n",
    "children = df[df[\"halo_upid\"] != -1]"
   ]
  },
  {
   "cell_type": "markdown",
   "metadata": {},
   "source": [
    "## Add Gamma"
   ]
  },
  {
   "cell_type": "code",
   "execution_count": 51,
   "metadata": {
    "ExecuteTime": {
     "end_time": "2018-09-11T07:44:11.776380Z",
     "start_time": "2018-09-11T07:44:11.271606Z"
    }
   },
   "outputs": [
    {
     "name": "stdout",
     "output_type": "stream",
     "text": [
      "448617 here are less than 0\n"
     ]
    },
    {
     "name": "stderr",
     "output_type": "stream",
     "text": [
      "/home/christopher/.virtualenvs/hsc_um2/lib/python3.6/site-packages/ipykernel_launcher.py:23: RuntimeWarning: invalid value encountered in log10\n",
      "/home/christopher/.virtualenvs/hsc_um2/lib/python3.6/site-packages/ipykernel_launcher.py:27: SettingWithCopyWarning: \n",
      "A value is trying to be set on a copy of a slice from a DataFrame.\n",
      "Try using .loc[row_indexer,col_indexer] = value instead\n",
      "\n",
      "See the caveats in the documentation: http://pandas.pydata.org/pandas-docs/stable/indexing.html#indexing-view-versus-copy\n"
     ]
    }
   ],
   "source": [
    "def f_acc(sample):\n",
    "    cosmo = colossus.cosmology.cosmology.setCosmology('planck15')               \n",
    "\n",
    "    a_now = 0.712400\n",
    "    z_now = (1 / a_now) - 1\n",
    "    t_now = cosmo.age(z_now)\n",
    "\n",
    "    t_ago = 2*colossus.halo.mass_so.dynamicalTime(z_now, \"vir\", \"crossing\") \n",
    "    key = \"halo_Acc_Rate_2*Tdyn\"\n",
    "\n",
    "    t_then = t_now - t_ago\n",
    "    z_then = cosmo.age(t_then, inverse=True)\n",
    "    a_then = 1/(1 + z_then)\n",
    "    if np.any(a_then < 0):\n",
    "        print(\"Some are less than 0\")\n",
    "\n",
    "    delta_mass = sample[key] * t_ago * 1e9 # t_dyn is in Gyr                    \n",
    "    x = np.count_nonzero(sample[\"halo_mvir\"] - delta_mass < 0)                          \n",
    "    if x > 0:\n",
    "        print(x, \"here are less than 0\")\n",
    "\n",
    "    res = (\n",
    "            np.log10(sample[\"halo_mvir\"]) - np.log10(sample[\"halo_mvir\"] - delta_mass)) / (     \n",
    "            np.log10(a_now) - np.log10(a_then))\n",
    "    return res\n",
    "\n",
    "parents[\"gamma2\"] = f_acc(parents)\n",
    "\n",
    "# Filer out NANs\n",
    "parents = parents[np.isfinite(parents[\"gamma2\"])]"
   ]
  },
  {
   "cell_type": "markdown",
   "metadata": {},
   "source": [
    "## Add richness"
   ]
  },
  {
   "cell_type": "code",
   "execution_count": 66,
   "metadata": {
    "ExecuteTime": {
     "end_time": "2018-09-11T07:47:48.361791Z",
     "start_time": "2018-09-11T07:47:48.335562Z"
    }
   },
   "outputs": [],
   "source": [
    "sorted_children_upids = np.sort(children[\"halo_upid\"].values)"
   ]
  },
  {
   "cell_type": "code",
   "execution_count": 69,
   "metadata": {
    "ExecuteTime": {
     "end_time": "2018-09-11T07:48:04.779988Z",
     "start_time": "2018-09-11T07:48:04.230902Z"
    }
   },
   "outputs": [],
   "source": [
    "richness = (np.searchsorted(sorted_children_upids, parents[\"halo_id\"].values, side = \"right\") - \n",
    "            np.searchsorted(sorted_children_upids, parents[\"halo_id\"].values, side = \"left\"))\n",
    "parents[\"richness\"] = richness"
   ]
  },
  {
   "cell_type": "code",
   "execution_count": 68,
   "metadata": {
    "ExecuteTime": {
     "end_time": "2018-09-11T07:47:49.771094Z",
     "start_time": "2018-09-11T07:47:49.375983Z"
    }
   },
   "outputs": [
    {
     "data": {
      "text/plain": [
       "[None]"
      ]
     },
     "execution_count": 68,
     "metadata": {},
     "output_type": "execute_result"
    },
    {
     "data": {
      "image/png": "[encoded data removed]",
      "text/plain": [
       "<matplotlib.figure.Figure at 0x7f1ccf8c8b38>"
      ]
     },
     "metadata": {},
     "output_type": "display_data"
    }
   ],
   "source": [
    "_, ax = plt.subplots()\n",
    "ax.hist(richness)\n",
    "ax.set(yscale=\"log\")"
   ]
  },
  {
   "cell_type": "markdown",
   "metadata": {},
   "source": [
    "# Plots"
   ]
  },
  {
   "cell_type": "code",
   "execution_count": 71,
   "metadata": {
    "ExecuteTime": {
     "end_time": "2018-09-11T07:49:18.361571Z",
     "start_time": "2018-09-11T07:49:18.356323Z"
    }
   },
   "outputs": [],
   "source": [
    "def _imshow(ax, binned_stats, **kwargs):\n",
    "    return ax.imshow(\n",
    "            binned_stats.statistic.T,\n",
    "            origin=\"lower\",\n",
    "            extent=[binned_stats.x_edge[0], binned_stats.x_edge[-1], binned_stats.y_edge[0], binned_stats.y_edge[-1]],\n",
    "            aspect=\"auto\",\n",
    "            **kwargs,\n",
    "    )"
   ]
  },
  {
   "cell_type": "code",
   "execution_count": 85,
   "metadata": {
    "ExecuteTime": {
     "end_time": "2018-09-11T07:52:05.111695Z",
     "start_time": "2018-09-11T07:52:03.890908Z"
    }
   },
   "outputs": [
    {
     "data": {
      "text/plain": [
       "<matplotlib.colorbar.Colorbar at 0x7f1cb40c2828>"
      ]
     },
     "execution_count": 85,
     "metadata": {},
     "output_type": "execute_result"
    },
    {
     "data": {
      "image/png": "[encoded data removed]",
      "text/plain": [
       "<matplotlib.figure.Figure at 0x7f1ccefc0f28>"
      ]
     },
     "metadata": {},
     "output_type": "display_data"
    }
   ],
   "source": [
    "s = scipy.stats.binned_statistic_2d(\n",
    "    np.log10(parents[\"halo_mvir\"]), \n",
    "    parents[\"gamma2\"],\n",
    "    parents[\"richness\"],\n",
    "    statistic=\"mean\",\n",
    "    bins=(30, 30),\n",
    ")\n",
    "fig, ax = plt.subplots()\n",
    "img = _imshow(ax, s, cmap=\"OrRd\")\n",
    "ax.set(\n",
    "    xlabel=\"Mvir\",\n",
    "    ylabel=\"Gamma\",\n",
    ")\n",
    "fig.colorbar(img, ax=ax, label=\"Mean number of subhalos with log(Mvir) > 12\")\n"
   ]
  }
 ],
 "metadata": {
  "kernelspec": {
   "display_name": "hsc_um2",
   "language": "python",
   "name": "hsc_um2"
  },
  "language_info": {
   "codemirror_mode": {
    "name": "ipython",
    "version": 3
   },
   "file_extension": ".py",
   "mimetype": "text/x-python",
   "name": "python",
   "nbconvert_exporter": "python",
   "pygments_lexer": "ipython3",
   "version": "3.6.5"
  },
  "toc": {
   "base_numbering": 1,
   "nav_menu": {},
   "number_sections": true,
   "sideBar": true,
   "skip_h1_title": false,
   "title_cell": "Table of Contents",
   "title_sidebar": "Contents",
   "toc_cell": false,
   "toc_position": {},
   "toc_section_display": true,
   "toc_window_display": false
  }
 },
 "nbformat": 4,
 "nbformat_minor": 2
}
