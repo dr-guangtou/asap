{
 "cells": [
  {
   "cell_type": "markdown",
   "metadata": {},
   "source": [
    "# Find fit to SMF"
   ]
  },
  {
   "cell_type": "code",
   "execution_count": 2,
   "metadata": {
    "ExecuteTime": {
     "end_time": "2018-04-24T00:51:28.107092Z",
     "start_time": "2018-04-24T00:51:27.783238Z"
    }
   },
   "outputs": [
    {
     "data": {
      "text/html": [
       "<style>.container { width:90% !important; }</style>"
      ],
      "text/plain": [
       "<IPython.core.display.HTML object>"
      ]
     },
     "metadata": {},
     "output_type": "display_data"
    }
   ],
   "source": [
    "%load_ext autoreload\n",
    "%autoreload 2\n",
    "%matplotlib inline\n",
    "\n",
    "import numpy as np\n",
    "from IPython.core.display import display, HTML\n",
    "display(HTML(\"<style>.container { width:90% !important; }</style>\"))\n",
    "np.set_printoptions(linewidth=1000)"
   ]
  },
  {
   "cell_type": "code",
   "execution_count": 3,
   "metadata": {
    "ExecuteTime": {
     "end_time": "2018-04-24T00:51:28.515736Z",
     "start_time": "2018-04-24T00:51:28.431223Z"
    }
   },
   "outputs": [],
   "source": [
    "import numpy as np\n",
    "import matplotlib.pyplot as plt\n",
    "import scipy.optimize"
   ]
  },
  {
   "cell_type": "markdown",
   "metadata": {},
   "source": [
    "# Load data"
   ]
  },
  {
   "cell_type": "markdown",
   "metadata": {},
   "source": [
    "Note that we can't use our normal data file because we have done some cuts on it."
   ]
  },
  {
   "cell_type": "code",
   "execution_count": 4,
   "metadata": {
    "ExecuteTime": {
     "end_time": "2018-04-24T00:51:29.294342Z",
     "start_time": "2018-04-24T00:51:29.283363Z"
    }
   },
   "outputs": [],
   "source": [
    "datafile = \"/home/christopher/Data/data/universe_machine/sfr_catalog_insitu_exsitu_0.712400_reduced_cols.npy\""
   ]
  },
  {
   "cell_type": "code",
   "execution_count": 5,
   "metadata": {
    "ExecuteTime": {
     "end_time": "2018-04-24T00:52:05.836548Z",
     "start_time": "2018-04-24T00:51:29.512166Z"
    }
   },
   "outputs": [],
   "source": [
    "data = np.load(datafile)"
   ]
  },
  {
   "cell_type": "code",
   "execution_count": 6,
   "metadata": {
    "ExecuteTime": {
     "end_time": "2018-04-24T00:52:10.968797Z",
     "start_time": "2018-04-24T00:52:05.838989Z"
    }
   },
   "outputs": [
    {
     "name": "stdout",
     "output_type": "stream",
     "text": [
      "85019771\n",
      "85019767\n",
      "41031918\n"
     ]
    },
    {
     "data": {
      "image/png": "[encoded data removed]",
      "text/plain": [
       "<matplotlib.figure.Figure at 0x7fa885d6e828>"
      ]
     },
     "metadata": {},
     "output_type": "display_data"
    }
   ],
   "source": [
    "sm = data[\"sm\"] + data[\"icl\"]\n",
    "print(len(sm))\n",
    "sm = sm[sm != 0]\n",
    "print(len(sm))\n",
    "plt.hist(np.log10(sm), log=True)\n",
    "sm = sm[sm > 1e6]\n",
    "print(len(sm))"
   ]
  },
  {
   "cell_type": "code",
   "execution_count": 7,
   "metadata": {
    "ExecuteTime": {
     "end_time": "2018-04-24T00:52:12.841027Z",
     "start_time": "2018-04-24T00:52:10.970031Z"
    }
   },
   "outputs": [
    {
     "data": {
      "text/plain": [
       "(array([1.6391591e+07, 1.0977647e+07, 6.2745400e+06, 3.5081400e+06, 1.7889540e+06, 1.0177300e+06, 7.1402500e+05, 3.3353400e+05, 2.5356000e+04, 4.0100000e+02]),\n",
       " array([ 6.00000434,  6.66541578,  7.33082723,  7.99623867,  8.66165011,  9.32706155,  9.99247299, 10.65788444, 11.32329588, 11.98870732, 12.65411876]),\n",
       " <a list of 10 Patch objects>)"
      ]
     },
     "execution_count": 7,
     "metadata": {},
     "output_type": "execute_result"
    },
    {
     "data": {
      "image/png": "[encoded data removed]",
      "text/plain": [
       "<matplotlib.figure.Figure at 0x7fa6c59b7898>"
      ]
     },
     "metadata": {},
     "output_type": "display_data"
    }
   ],
   "source": [
    "plt.hist(np.log10(sm), log=True)"
   ]
  },
  {
   "cell_type": "markdown",
   "metadata": {},
   "source": [
    "# Write and test schecter funcs"
   ]
  },
  {
   "cell_type": "code",
   "execution_count": 144,
   "metadata": {
    "ExecuteTime": {
     "end_time": "2018-04-24T02:34:28.628938Z",
     "start_time": "2018-04-24T02:34:28.577868Z"
    }
   },
   "outputs": [],
   "source": [
    "# e.g. https://arxiv.org/pdf/1604.00008.pdf section 4, eq 9\n",
    "def schechter_func(mass, m_star, alpha, phi_star):\n",
    "    m_rat = mass / m_star\n",
    "    return phi_star * np.exp(-m_rat) * m_rat**alpha\n",
    "\n",
    "\n",
    "def integrated_schechter_func(mass0, mass1, mass, m_star, alpha, phi_star):\n",
    "    return schechter_func(mass, m_star, alpha, phi_star) * (mass1 - mass0)\n",
    "    \n",
    "    \n",
    "# e.g. https://arxiv.org/pdf/1604.00008.pdf section 4, eq 10\n",
    "def log_schechter_func(mass, m_star, alpha, phi_star):\n",
    "    mass, m_star, phi_star = 10**mass, 10**m_star, 10**phi_star\n",
    "    \n",
    "    m_rat = 10**(np.log10(mass) - np.log10(m_star))\n",
    "    return np.log(10) * phi_star * np.exp(-m_rat) * m_rat**(alpha + 1)\n",
    "\n",
    "    \n",
    "# e.g. https://arxiv.org/pdf/1604.00008.pdf section 4, eq 10\n",
    "def log_double_schechter_func(mass, m_star, alpha1, alpha2, phi_star1, phi_star2):\n",
    "    mass, m_star, phi_star1, phi_star2 = 10**mass, 10**m_star, 10**phi_star1, 10**phi_star2\n",
    "\n",
    "    m_rat = 10**(np.log10(mass) - np.log10(m_star))\n",
    "    return np.log(10) * np.exp(-m_rat) * (\n",
    "        phi_star1 * m_rat**(alpha1 + 1) +\n",
    "        phi_star2 * m_rat**(alpha2 + 1))\n",
    "\n",
    "def integrated_log_schechter_func(mass0, mass1, mass, m_star, alpha, phi_star):\n",
    "    return log_schechter_func(mass, m_star, alpha, phi_star) * (\n",
    "        np.log10(mass1) - np.log10(mass0))\n",
    "# These appear to disagree but that might make sense."
   ]
  },
  {
   "cell_type": "code",
   "execution_count": 9,
   "metadata": {
    "ExecuteTime": {
     "end_time": "2018-04-24T00:52:12.880080Z",
     "start_time": "2018-04-24T00:52:12.868376Z"
    }
   },
   "outputs": [],
   "source": [
    "mass, m_star, alpha, phi_star = 5e10, 1e10, 0.1, 0.1\n",
    "s = schechter_func(mass, m_star, alpha, phi_star)\n",
    "ls = log_schechter_func(mass, m_star, alpha, phi_star)"
   ]
  },
  {
   "cell_type": "code",
   "execution_count": 10,
   "metadata": {
    "ExecuteTime": {
     "end_time": "2018-04-24T00:52:12.893198Z",
     "start_time": "2018-04-24T00:52:12.881780Z"
    }
   },
   "outputs": [],
   "source": [
    "mass0, mass1 = 1e11, 2e11\n",
    "ints = integrated_schechter_func(mass0, mass1, mass, m_star, alpha, phi_star)\n",
    "intls = integrated_log_schechter_func(mass0, mass1, mass, m_star, alpha, phi_star)"
   ]
  },
  {
   "cell_type": "code",
   "execution_count": 11,
   "metadata": {
    "ExecuteTime": {
     "end_time": "2018-04-24T00:52:12.906729Z",
     "start_time": "2018-04-24T00:52:12.894885Z"
    }
   },
   "outputs": [
    {
     "name": "stdout",
     "output_type": "stream",
     "text": [
      "0.000791452018264886 0.009111928095383899\n",
      "79145201.8264886 0.002742963675043924\n"
     ]
    }
   ],
   "source": [
    "print(s, ls)\n",
    "print(ints, intls)"
   ]
  },
  {
   "cell_type": "markdown",
   "metadata": {},
   "source": [
    "# Fit"
   ]
  },
  {
   "cell_type": "code",
   "execution_count": 227,
   "metadata": {
    "ExecuteTime": {
     "end_time": "2018-04-24T02:43:22.845886Z",
     "start_time": "2018-04-24T02:43:21.296665Z"
    }
   },
   "outputs": [],
   "source": [
    "count, edges = np.histogram(np.log10(sm), bins=130)\n",
    "centers  = edges[:-1] + (edges[1:] - edges[:-1])/2\n",
    "\n",
    "x = 30\n",
    "count = count[x:]\n",
    "centers = centers[x:]\n",
    "edges = edges[x:]"
   ]
  },
  {
   "cell_type": "code",
   "execution_count": 228,
   "metadata": {
    "ExecuteTime": {
     "end_time": "2018-04-24T02:43:22.858475Z",
     "start_time": "2018-04-24T02:43:22.847571Z"
    }
   },
   "outputs": [],
   "source": [
    "g_m_star, g_alpha, g_phi_star = 11.2, -1, 4"
   ]
  },
  {
   "cell_type": "code",
   "execution_count": 229,
   "metadata": {
    "ExecuteTime": {
     "end_time": "2018-04-24T02:43:22.960934Z",
     "start_time": "2018-04-24T02:43:22.859883Z"
    }
   },
   "outputs": [
    {
     "data": {
      "text/plain": [
       "[<matplotlib.lines.Line2D at 0x7fa6ee21c240>]"
      ]
     },
     "execution_count": 229,
     "metadata": {},
     "output_type": "execute_result"
    },
    {
     "data": {
      "image/png": "[encoded data removed]",
      "text/plain": [
       "<matplotlib.figure.Figure at 0x7fa6ee21c748>"
      ]
     },
     "metadata": {},
     "output_type": "display_data"
    }
   ],
   "source": [
    "plt.plot(centers, np.log10(count))\n",
    "plt.plot(centers, np.log10(\n",
    "    log_schechter_func(centers, g_m_star, g_alpha, g_phi_star,)))"
   ]
  },
  {
   "cell_type": "markdown",
   "metadata": {},
   "source": [
    "## Schechter"
   ]
  },
  {
   "cell_type": "code",
   "execution_count": 230,
   "metadata": {
    "ExecuteTime": {
     "end_time": "2018-04-24T02:43:22.977003Z",
     "start_time": "2018-04-24T02:43:22.962664Z"
    }
   },
   "outputs": [],
   "source": [
    "exp_count = count\n",
    "bin_centers = centers\n",
    "def min_func(params):\n",
    "    m_star, alpha, phi_star = params\n",
    "    return np.sum(\n",
    "        np.power(\n",
    "            np.log10(log_schechter_func(bin_centers, m_star, alpha, phi_star)) - np.log10(exp_count),\n",
    "            2,\n",
    "        )\n",
    "    )\n",
    "bounds = [\n",
    "    (9, 13),\n",
    "    (-4, 4),\n",
    "    (1e2, 1e8),\n",
    "]"
   ]
  },
  {
   "cell_type": "code",
   "execution_count": 231,
   "metadata": {
    "ExecuteTime": {
     "end_time": "2018-04-24T02:43:23.090582Z",
     "start_time": "2018-04-24T02:43:22.978636Z"
    }
   },
   "outputs": [],
   "source": [
    "res1 = scipy.optimize.minimize(min_func, x0=[g_m_star, g_alpha, g_phi_star], tol=1e-16, method=\"powell\")"
   ]
  },
  {
   "cell_type": "code",
   "execution_count": 232,
   "metadata": {
    "ExecuteTime": {
     "end_time": "2018-04-24T02:43:23.197005Z",
     "start_time": "2018-04-24T02:43:23.092043Z"
    }
   },
   "outputs": [
    {
     "name": "stdout",
     "output_type": "stream",
     "text": [
      "   direc: array([[-1.72696593e-04,  2.42208705e-04,  6.21941765e-04],\n",
      "       [ 0.00000000e+00,  1.00000000e+00,  0.00000000e+00],\n",
      "       [ 1.71396603e-07,  1.28893461e-07,  5.74588610e-07]])\n",
      "     fun: 7.518401580077869\n",
      " message: 'Optimization terminated successfully.'\n",
      "    nfev: 1288\n",
      "     nit: 12\n",
      "  status: 0\n",
      " success: True\n",
      "       x: array([11.64184413, -1.50063066,  3.47593977])\n",
      "True\n",
      "[11.64184413 -1.50063066  3.47593977]\n"
     ]
    },
    {
     "data": {
      "text/plain": [
       "[<matplotlib.lines.Line2D at 0x7fa6ee10f400>]"
      ]
     },
     "execution_count": 232,
     "metadata": {},
     "output_type": "execute_result"
    },
    {
     "data": {
      "image/png": "[encoded data removed]",
      "text/plain": [
       "<matplotlib.figure.Figure at 0x7fa6ee1154a8>"
      ]
     },
     "metadata": {},
     "output_type": "display_data"
    }
   ],
   "source": [
    "print(res1)\n",
    "print(res1.success)\n",
    "print(res1.x)\n",
    "plt.plot(centers, np.log10(count))\n",
    "plt.plot(centers, np.log10(\n",
    "    log_schechter_func(centers, *res1.x)))"
   ]
  },
  {
   "cell_type": "markdown",
   "metadata": {
    "ExecuteTime": {
     "end_time": "2018-04-24T01:58:31.473795Z",
     "start_time": "2018-04-24T01:58:31.458318Z"
    }
   },
   "source": [
    "## Double Schechter"
   ]
  },
  {
   "cell_type": "code",
   "execution_count": 233,
   "metadata": {
    "ExecuteTime": {
     "end_time": "2018-04-24T02:43:24.958233Z",
     "start_time": "2018-04-24T02:43:24.942475Z"
    }
   },
   "outputs": [],
   "source": [
    "exp_count = count\n",
    "bin_centers = centers\n",
    "def min_func_double(params):\n",
    "    m_star, alpha1, alpha2, phi_star1, phi_star2 = params\n",
    "    return np.sum(\n",
    "        np.power(\n",
    "            np.log10(log_double_schechter_func(bin_centers, m_star, alpha1, alpha2, phi_star1, phi_star2)) - np.log10(exp_count),\n",
    "            2,\n",
    "        )\n",
    "    )\n",
    "\n",
    "bounds = [\n",
    "    (9, 13),\n",
    "    (-4, 4),\n",
    "    (-4, 4),\n",
    "    (2, 8),\n",
    "    (2, 8),\n",
    "]"
   ]
  },
  {
   "cell_type": "code",
   "execution_count": 234,
   "metadata": {
    "ExecuteTime": {
     "end_time": "2018-04-24T02:43:25.647415Z",
     "start_time": "2018-04-24T02:43:25.285934Z"
    }
   },
   "outputs": [
    {
     "name": "stderr",
     "output_type": "stream",
     "text": [
      "/home/christopher/.virtualenvs/hsc_um2/lib/python3.6/site-packages/scipy/optimize/_minimize.py:430: RuntimeWarning: Method powell cannot handle constraints nor bounds.\n",
      "  RuntimeWarning)\n"
     ]
    }
   ],
   "source": [
    "res2 = scipy.optimize.minimize(min_func_double, x0=[g_m_star, g_alpha-0.1, g_alpha, g_phi_star, g_phi_star-2], bounds=bounds, tol=1e-16, method=\"powell\")"
   ]
  },
  {
   "cell_type": "code",
   "execution_count": 235,
   "metadata": {
    "ExecuteTime": {
     "end_time": "2018-04-24T02:43:25.925131Z",
     "start_time": "2018-04-24T02:43:25.818129Z"
    }
   },
   "outputs": [
    {
     "name": "stdout",
     "output_type": "stream",
     "text": [
      "   direc: array([[ 3.27265141e-07,  5.92447479e-07,  9.19141517e-06,  6.43951364e-07, -1.00040327e-05],\n",
      "       [ 3.59442890e-05, -2.40519749e-05,  1.45038269e-04, -6.46654479e-05, -4.04144004e-04],\n",
      "       [-5.71352422e-02,  1.71476049e-02,  2.27356243e+00,  8.64082213e-02, -2.14155893e+00],\n",
      "       [ 0.00000000e+00,  0.00000000e+00,  0.00000000e+00,  1.00000000e+00,  0.00000000e+00],\n",
      "       [ 2.68296455e-09, -4.05667212e-09, -6.65340288e-08, -9.32778611e-09,  7.46186303e-08]])\n",
      "     fun: 2.102341276561266\n",
      " message: 'Optimization terminated successfully.'\n",
      "    nfev: 3807\n",
      "     nit: 24\n",
      "  status: 0\n",
      " success: True\n",
      "       x: array([11.34460881, -1.37091631,  7.71171754,  3.9465065 , -3.56963991])\n",
      "[11.34460881 -1.37091631  7.71171754  3.9465065  -3.56963991]\n"
     ]
    },
    {
     "data": {
      "text/plain": [
       "[<matplotlib.lines.Line2D at 0x7fa6ee0c9b00>]"
      ]
     },
     "execution_count": 235,
     "metadata": {},
     "output_type": "execute_result"
    },
    {
     "data": {
      "image/png": "[encoded data removed]",
      "text/plain": [
       "<matplotlib.figure.Figure at 0x7fa6ee0c9470>"
      ]
     },
     "metadata": {},
     "output_type": "display_data"
    }
   ],
   "source": [
    "print(res2)\n",
    "print(res2.x)\n",
    "r1 = np.log10(log_schechter_func(centers, *res1.x))\n",
    "r2 = np.log10(log_double_schechter_func(centers, *res2.x))\n",
    "\n",
    "plt.plot(centers, np.log10(count))\n",
    "#plt.plot(centers, r1)\n",
    "plt.plot(centers, r2)\n"
   ]
  },
  {
   "cell_type": "code",
   "execution_count": null,
   "metadata": {},
   "outputs": [],
   "source": []
  }
 ],
 "metadata": {
  "kernelspec": {
   "display_name": "hsc_um2",
   "language": "python",
   "name": "hsc_um2"
  },
  "language_info": {
   "codemirror_mode": {
    "name": "ipython",
    "version": 3
   },
   "file_extension": ".py",
   "mimetype": "text/x-python",
   "name": "python",
   "nbconvert_exporter": "python",
   "pygments_lexer": "ipython3",
   "version": "3.6.5"
  },
  "toc": {
   "base_numbering": 1,
   "nav_menu": {},
   "number_sections": true,
   "sideBar": true,
   "skip_h1_title": false,
   "title_cell": "Table of Contents",
   "title_sidebar": "Contents",
   "toc_cell": false,
   "toc_position": {},
   "toc_section_display": true,
   "toc_window_display": true
  }
 },
 "nbformat": 4,
 "nbformat_minor": 2
}
