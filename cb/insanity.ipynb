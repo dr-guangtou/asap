{
 "cells": [
  {
   "cell_type": "markdown",
   "metadata": {},
   "source": [
    "Something weird happened when moving from having the initial cut at 12 and at 11.5 (HM).      \n",
    "                                                                                              \n",
    "As I understand it, that should just increase or keep the same the number > a mass cut (when cutting on stellar mass). This is true in the central and insitu case. This is not true in the case where we are adding sats. This feels like a bug.                                         \n",
    "\n",
    "**Solotion** we changed the mass cut to use m not mp."
   ]
  },
  {
   "cell_type": "code",
   "execution_count": 2,
   "metadata": {
    "ExecuteTime": {
     "end_time": "2018-03-07T09:40:59.743584Z",
     "start_time": "2018-03-07T09:40:59.538346Z"
    }
   },
   "outputs": [
    {
     "data": {
      "text/html": [
       "<style>.container { width:90% !important; }</style>"
      ],
      "text/plain": [
       "<IPython.core.display.HTML object>"
      ]
     },
     "metadata": {},
     "output_type": "display_data"
    }
   ],
   "source": [
    "%load_ext autoreload\n",
    "%autoreload 2\n",
    "%matplotlib inline\n",
    "\n",
    "from IPython.core.display import display, HTML\n",
    "display(HTML(\"<style>.container { width:90% !important; }</style>\"))"
   ]
  },
  {
   "cell_type": "code",
   "execution_count": 3,
   "metadata": {
    "ExecuteTime": {
     "end_time": "2018-03-07T09:41:00.008655Z",
     "start_time": "2018-03-07T09:40:59.997503Z"
    }
   },
   "outputs": [],
   "source": [
    "import data\n",
    "\n",
    "# when we mess up imports\n",
    "from importlib import reload"
   ]
  },
  {
   "cell_type": "code",
   "execution_count": 4,
   "metadata": {
    "ExecuteTime": {
     "end_time": "2018-03-07T09:41:05.165715Z",
     "start_time": "2018-03-07T09:41:00.282470Z"
    }
   },
   "outputs": [],
   "source": [
    "cen12, sat12 = data.load(f=\"sfr_catalog_insitu_exsitu_0.712400_final_extended_12_mass_cut.npz\")\n",
    "cen11_5, sat11_5 = data.load()"
   ]
  },
  {
   "cell_type": "code",
   "execution_count": 5,
   "metadata": {
    "ExecuteTime": {
     "end_time": "2018-03-07T09:41:05.176531Z",
     "start_time": "2018-03-07T09:41:05.167072Z"
    }
   },
   "outputs": [
    {
     "name": "stdout",
     "output_type": "stream",
     "text": [
      "385125 1076948\n"
     ]
    }
   ],
   "source": [
    "print(len(cen12), len(cen11_5))"
   ]
  },
  {
   "cell_type": "code",
   "execution_count": 6,
   "metadata": {
    "ExecuteTime": {
     "end_time": "2018-03-07T09:41:05.279564Z",
     "start_time": "2018-03-07T09:41:05.178106Z"
    }
   },
   "outputs": [
    {
     "name": "stdout",
     "output_type": "stream",
     "text": [
      "372165 1076948\n"
     ]
    }
   ],
   "source": [
    "print(len(cen12[cen12[\"m\"] > 10**12]), len(cen11_5[cen11_5[\"m\"] > 10**11.5]))"
   ]
  },
  {
   "cell_type": "code",
   "execution_count": null,
   "metadata": {},
   "outputs": [],
   "source": []
  }
 ],
 "metadata": {
  "kernelspec": {
   "display_name": "hsc_um2",
   "language": "python",
   "name": "hsc_um2"
  },
  "language_info": {
   "codemirror_mode": {
    "name": "ipython",
    "version": 3
   },
   "file_extension": ".py",
   "mimetype": "text/x-python",
   "name": "python",
   "nbconvert_exporter": "python",
   "pygments_lexer": "ipython3",
   "version": "3.6.4"
  },
  "toc": {
   "nav_menu": {},
   "number_sections": true,
   "sideBar": true,
   "skip_h1_title": false,
   "title_cell": "Table of Contents",
   "title_sidebar": "Contents",
   "toc_cell": false,
   "toc_position": {},
   "toc_section_display": true,
   "toc_window_display": false
  }
 },
 "nbformat": 4,
 "nbformat_minor": 2
}
