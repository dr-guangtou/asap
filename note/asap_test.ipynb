{
 "cells": [
  {
   "cell_type": "code",
   "execution_count": 309,
   "metadata": {},
   "outputs": [
    {
     "name": "stdout",
     "output_type": "stream",
     "text": [
      "The autoreload extension is already loaded. To reload it, use:\n",
      "  %reload_ext autoreload\n"
     ]
    }
   ],
   "source": [
    "%matplotlib inline\n",
    "%load_ext autoreload \n",
    "%autoreload 2\n",
    "\n",
    "import os\n",
    "import sys\n",
    "import copy \n",
    "import warnings\n",
    "from time import time\n",
    "\n",
    "from astropy.table import Table, Column, vstack\n",
    "\n",
    "import numpy as np \n",
    "\n",
    "import matplotlib.pyplot as plt\n",
    "import matplotlib.patches as patches\n",
    "\n",
    "plt.rc('text', usetex=True)"
   ]
  },
  {
   "cell_type": "markdown",
   "metadata": {},
   "source": [
    "### Visualize the student-T distribution as prior for the slope of the scaling relation"
   ]
  },
  {
   "cell_type": "code",
   "execution_count": 124,
   "metadata": {},
   "outputs": [],
   "source": [
    "from prospect.models import priors\n",
    "\n",
    "from scipy.stats import uniform\n",
    "from scipy.stats import t as student_t"
   ]
  },
  {
   "cell_type": "code",
   "execution_count": 175,
   "metadata": {},
   "outputs": [
    {
     "data": {
      "image/png": "[encoded data removed]",
      "text/plain": [
       "<Figure size 600x400 with 1 Axes>"
      ]
     },
     "metadata": {},
     "output_type": "display_data"
    }
   ],
   "source": [
    "from asap import priors\n",
    "\n",
    "flat = priors.TopHat(low=0.1, upp=0.8)\n",
    "\n",
    "_ = plt.hist(flat.sample(nsample=1000))"
   ]
  },
  {
   "cell_type": "code",
   "execution_count": 126,
   "metadata": {},
   "outputs": [
    {
     "data": {
      "text/plain": [
       "0.0"
      ]
     },
     "execution_count": 126,
     "metadata": {},
     "output_type": "execute_result"
    }
   ],
   "source": [
    "flat.inverse_unit_transform(0.1)"
   ]
  },
  {
   "cell_type": "code",
   "execution_count": 176,
   "metadata": {},
   "outputs": [
    {
     "data": {
      "image/png": "[encoded data removed]",
      "text/plain": [
       "<Figure size 600x400 with 1 Axes>"
      ]
     },
     "metadata": {},
     "output_type": "display_data"
    }
   ],
   "source": [
    "student = priors.StudentT(loc=0.6, scale=0.3, df=1)\n",
    "\n",
    "_ = plt.hist(student.sample(nsample=1000, limit=True))"
   ]
  },
  {
   "cell_type": "code",
   "execution_count": 289,
   "metadata": {},
   "outputs": [
    {
     "name": "stdout",
     "output_type": "stream",
     "text": [
      "[0.5 1. ]\n",
      "[ 0. -1.] [1. 3.]\n",
      "[<asap.priors.TopHat object at 0x169f74080>, <asap.priors.StudentT object at 0x169f74a90>]\n",
      "[[0.03558836 0.50710278]]\n",
      "(100, 2)\n",
      "[[0.65422401 0.84743317]\n",
      " [0.50455991 0.88369361]\n",
      " [0.41102608 1.26310917]\n",
      " [0.4839083  0.96745281]\n",
      " [0.60968016 1.13684102]\n",
      " [0.56399299 0.69378113]\n",
      " [0.43557554 1.13588799]\n",
      " [0.44812913 0.70116876]\n",
      " [0.29788239 0.89502531]\n",
      " [0.43747993 0.78462898]]\n",
      "-1.1447298858494\n",
      "-inf\n"
     ]
    }
   ],
   "source": [
    "from asap import priors, parameters\n",
    "\n",
    "# Parameters are described by a dictionary, which can be loaded from `yaml` configuration file.\n",
    "# The format of the config for parameter is:\n",
    "\n",
    "\"\"\"\n",
    "parameter_1:\n",
    "    name : 'a'\n",
    "    label : 'a'\n",
    "    type : 'flat'\n",
    "    ini : 0.0\n",
    "    sig : 1.0\n",
    "    min : -1.0\n",
    "    max : 1.0\n",
    "\"\"\"\n",
    "\n",
    "# For example, here are two parameters\n",
    "#    a : flat distribution between 0.0 and 1.0; use the min and max parameters\n",
    "#    b : 1-D student T-distribution with mean = 1.0, nu = 0.5; use the ini and sig parameters\n",
    "param_a = {'name': 'a', 'type': 'flat', 'min': 0.0, 'max': 1.0}\n",
    "param_b = {'name': 'b', 'type': 'student', 'ini': 1.0, 'sig': 0.5}\n",
    "param_dict = {'param_1': param_a, 'param_2': param_b}\n",
    "\n",
    "param = parameters.AsapParams(param_dict)\n",
    "\n",
    "# If you want to use the mean of each distribution to initiate the sample\n",
    "print(param.ini)\n",
    "\n",
    "# If you want to get the lower and upper boundaries of the distributinos.\n",
    "# For Student-T, using mean +/- 4 * nu\n",
    "print(param.low, param.upp)\n",
    "\n",
    "# The \"distr\" property gives you a list of prior distributions defined in priors.py\n",
    "print(param.distr)\n",
    "\n",
    "# If you want to generate a random set of parameters\n",
    "print(param.sample())\n",
    "\n",
    "# If you want to populate the emcee walkers using the prior distributions\n",
    "# e.g. N_walker = 100; the output is in (N_walker, N_param) shape.\n",
    "print(param.sample(nsamples=100).shape)\n",
    "\n",
    "# If you want to populate the emcee walkers using small perturbations around the mean \n",
    "# of each distribution \n",
    "# e.g. 10 walkers, 10% level perturbation\n",
    "print(param.perturb(nsample=10, level=0.1))\n",
    "\n",
    "# If you have a set of parameters, and need the sum of log(Prior) probabilities\n",
    "theta = [0.5, 0.5]\n",
    "print(param.lnprior(theta))\n",
    "\n",
    "# It will return -np.inf when the parameter is out of bounds\n",
    "theta = [1.2, 0.5]\n",
    "print(param.lnprior(theta))"
   ]
  },
  {
   "cell_type": "markdown",
   "metadata": {},
   "source": [
    "### Test: configuration file"
   ]
  },
  {
   "cell_type": "code",
   "execution_count": 310,
   "metadata": {},
   "outputs": [],
   "source": [
    "from asap import io\n",
    "from asap import config\n",
    "\n",
    "config_file = '/Users/song/Dropbox/work/project/asap/asap/default_config.yaml'"
   ]
  },
  {
   "cell_type": "code",
   "execution_count": 311,
   "metadata": {},
   "outputs": [
    {
     "name": "stdout",
     "output_type": "stream",
     "text": [
      "1.5641465809610384\n",
      "[ 6.00000000e-01  3.50000000e+00  4.08878139e-18  1.00000000e-01\n",
      "  6.50000000e-01 -2.00000000e-01  2.50000000e-01]\n"
     ]
    }
   ],
   "source": [
    "from asap.parameters import AsapParams\n",
    "\n",
    "params = AsapParams(cfg_param)\n",
    "\n",
    "print(params.lnprior([0.2, 3.0, 0.05, 0.1, 0.6, -0.1, 0.2]))\n",
    "\n",
    "print(params.transform([0.5, 0.5, 0.5, 0.5, 0.5, 0.5, 0.5]))"
   ]
  },
  {
   "cell_type": "code",
   "execution_count": 312,
   "metadata": {},
   "outputs": [
    {
     "name": "stdout",
     "output_type": "stream",
     "text": [
      "# Running model: asap_mmax_m10_frac4_test_A\n",
      "#    Will use emcee as sampler ...\n",
      "#    Use   128 walkers with    stretch moves for   100 steps of burn-in\n",
      "#    Use   400 walkers with        kde moves for   100 steps of sampling\n",
      "\n",
      "# Observations:\n",
      "# Galaxy catalog: s16a_wide2_massive_fsps1_imgsub_use_short.fits\n",
      "# DSigma results: s16a_wide2_massive_boxbin7_default_dsigma_results.pkl\n",
      "# SMF of inner Mstar: s16a_wide2_massive_smf_m10_11.6.npy\n",
      "# SMF of total Mstar: s16a_wide2_massive_smf_mmax_11.6.npy\n",
      "# Covariances for SMFs: s16a_wide2_massive_smf_mmax_m10_cov.npy\n",
      "# Reference SMF: primus_smf_z0.3_0.4.fits\n",
      "# Column of inner Mstar: logm_10\n",
      "# Column of total Mstar: logm_max\n",
      "\n",
      "# UniverseMachine:\n",
      "# Galaxy catalog : um_smdpl_0.7124_new_vagc_mpeak_11.5.npy\n",
      "# DSigma results : um_smdpl_0.7124_new_vagc_mpeak_11.5_50m_r_0.08_50_22bins.npy\n",
      "# Volumn of the simulation:    205348196.23 Mpc^3\n",
      "# Halo mass : logmh_host\n",
      "# Stellar mass : logms_tot\n",
      "# There are 12 DSigma profiles in this sample\n",
      "# SMF for total stellar mass: \n",
      "  11.6000 -- 12.3000 in 7 bins\n",
      "# SMF for inner stellar mass: \n",
      "  10.8000 -- 11.8000 in 10 bins\n",
      "# For inner stellar mass: \n",
      "    10 bins at 10.80 < logMinn < 11.80\n",
      "# For total stellar mass: \n",
      "    7 bins at 11.60 < logMtot < 12.30\n",
      "# The volume of the HSC data is    102860189.63 Mpc^3\n",
      "# 385125 out of 806306 galaxies are central\n"
     ]
    }
   ],
   "source": [
    "from asap import fitting\n",
    "\n",
    "cfg, params, obs_data, um_data = fitting.initial_model(config_file, verbose=True)"
   ]
  },
  {
   "cell_type": "code",
   "execution_count": 314,
   "metadata": {},
   "outputs": [
    {
     "data": {
      "text/html": [
       "<i>Table length=12</i>\n",
       "<table id=\"table6046232360\" class=\"table-striped table-bordered table-condensed\">\n",
       "<thead><tr><th>bin_id</th><th>min_logm_1</th><th>max_logm_1</th><th>min_logm_2</th><th>max_logm_2</th><th>n_gal</th></tr></thead>\n",
       "<thead><tr><th>int64</th><th>float64</th><th>float64</th><th>float64</th><th>float64</th><th>int64</th></tr></thead>\n",
       "<tr><td>1</td><td>11.600151491155703</td><td>11.692986502149385</td><td>10.894132861645366</td><td>11.279281317732739</td><td>559</td></tr>\n",
       "<tr><td>2</td><td>11.600111114967284</td><td>11.693179957110186</td><td>11.27947751766791</td><td>11.34235868168652</td><td>559</td></tr>\n",
       "<tr><td>3</td><td>11.600075995764213</td><td>11.69324885107798</td><td>11.342473530681904</td><td>11.580828883820999</td><td>558</td></tr>\n",
       "<tr><td>4</td><td>11.693384906904946</td><td>11.786393284048767</td><td>10.961286916417574</td><td>11.335788209248166</td><td>288</td></tr>\n",
       "<tr><td>5</td><td>11.693934050535818</td><td>11.786314823179838</td><td>11.33587223445542</td><td>11.395767744233344</td><td>288</td></tr>\n",
       "<tr><td>6</td><td>11.693644425784651</td><td>11.786309289274852</td><td>11.396242714951454</td><td>11.560091892749517</td><td>286</td></tr>\n",
       "<tr><td>7</td><td>11.786965093487783</td><td>11.877999748357684</td><td>11.033718451476588</td><td>11.37597591351112</td><td>131</td></tr>\n",
       "<tr><td>8</td><td>11.786788813734335</td><td>11.877812535160476</td><td>11.37703312293129</td><td>11.446836720900821</td><td>131</td></tr>\n",
       "<tr><td>9</td><td>11.78882197729743</td><td>11.878763414813388</td><td>11.447028360504143</td><td>11.595663247101403</td><td>131</td></tr>\n",
       "<tr><td>10</td><td>11.880281277896016</td><td>12.110200648005456</td><td>11.163592751837369</td><td>11.403597740272714</td><td>74</td></tr>\n",
       "<tr><td>11</td><td>11.88213188283051</td><td>12.133992099671193</td><td>11.404190738422924</td><td>11.484608855876541</td><td>74</td></tr>\n",
       "<tr><td>12</td><td>11.880363968480772</td><td>12.160188328627656</td><td>11.484747236384061</td><td>11.700482092032257</td><td>73</td></tr>\n",
       "</table>"
      ],
      "text/plain": [
       "<Table length=12>\n",
       "bin_id     min_logm_1         max_logm_1     ...     max_logm_2     n_gal\n",
       "int64       float64            float64       ...      float64       int64\n",
       "------ ------------------ ------------------ ... ------------------ -----\n",
       "     1 11.600151491155703 11.692986502149385 ... 11.279281317732739   559\n",
       "     2 11.600111114967284 11.693179957110186 ...  11.34235868168652   559\n",
       "     3 11.600075995764213  11.69324885107798 ... 11.580828883820999   558\n",
       "     4 11.693384906904946 11.786393284048767 ... 11.335788209248166   288\n",
       "     5 11.693934050535818 11.786314823179838 ... 11.395767744233344   288\n",
       "     6 11.693644425784651 11.786309289274852 ... 11.560091892749517   286\n",
       "     7 11.786965093487783 11.877999748357684 ...  11.37597591351112   131\n",
       "     8 11.786788813734335 11.877812535160476 ... 11.446836720900821   131\n",
       "     9  11.78882197729743 11.878763414813388 ... 11.595663247101403   131\n",
       "    10 11.880281277896016 12.110200648005456 ... 11.403597740272714    74\n",
       "    11  11.88213188283051 12.133992099671193 ... 11.484608855876541    74\n",
       "    12 11.880363968480772 12.160188328627656 ... 11.700482092032257    73"
      ]
     },
     "execution_count": 314,
     "metadata": {},
     "output_type": "execute_result"
    }
   ],
   "source": [
    "obs_data['wl_bin']"
   ]
  },
  {
   "cell_type": "code",
   "execution_count": 317,
   "metadata": {},
   "outputs": [
    {
     "data": {
      "text/plain": [
       "array([0.18154998, 0.26595373, 0.38959733, 0.57072364, 0.83605672,\n",
       "       1.22474487, 1.79413664, 2.6282423 , 3.85012905, 5.6400788 ,\n",
       "       8.2621877 ])"
      ]
     },
     "execution_count": 317,
     "metadata": {},
     "output_type": "execute_result"
    }
   ],
   "source": [
    "obs_data['wl_dsigma'][0].r"
   ]
  },
  {
   "cell_type": "code",
   "execution_count": null,
   "metadata": {},
   "outputs": [],
   "source": []
  }
 ],
 "metadata": {
  "kernelspec": {
   "display_name": "Python 3",
   "language": "python",
   "name": "python3"
  },
  "language_info": {
   "codemirror_mode": {
    "name": "ipython",
    "version": 3
   },
   "file_extension": ".py",
   "mimetype": "text/x-python",
   "name": "python",
   "nbconvert_exporter": "python",
   "pygments_lexer": "ipython3",
   "version": "3.7.0"
  }
 },
 "nbformat": 4,
 "nbformat_minor": 2
}
