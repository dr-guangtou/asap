{
 "cells": [
  {
   "cell_type": "code",
   "execution_count": 458,
   "metadata": {},
   "outputs": [
    {
     "name": "stdout",
     "output_type": "stream",
     "text": [
      "The autoreload extension is already loaded. To reload it, use:\n",
      "  %reload_ext autoreload\n"
     ]
    }
   ],
   "source": [
    "%matplotlib inline\n",
    "%load_ext autoreload \n",
    "%autoreload 2\n",
    "\n",
    "import os\n",
    "import sys\n",
    "import copy \n",
    "import warnings\n",
    "import cProfile\n",
    "\n",
    "from time import time\n",
    "\n",
    "from astropy.table import Table, Column, vstack\n",
    "\n",
    "import numpy as np \n",
    "\n",
    "import matplotlib.pyplot as plt\n",
    "import matplotlib.patches as patches\n",
    "\n",
    "plt.rc('text', usetex=True)"
   ]
  },
  {
   "cell_type": "markdown",
   "metadata": {},
   "source": [
    "### Visualize the student-T distribution as prior for the slope of the scaling relation"
   ]
  },
  {
   "cell_type": "code",
   "execution_count": 124,
   "metadata": {},
   "outputs": [],
   "source": [
    "from prospect.models import priors\n",
    "\n",
    "from scipy.stats import uniform\n",
    "from scipy.stats import t as student_t"
   ]
  },
  {
   "cell_type": "code",
   "execution_count": 175,
   "metadata": {},
   "outputs": [
    {
     "data": {
      "image/png": "[encoded data removed]",
      "text/plain": [
       "<Figure size 600x400 with 1 Axes>"
      ]
     },
     "metadata": {},
     "output_type": "display_data"
    }
   ],
   "source": [
    "from asap import priors\n",
    "\n",
    "flat = priors.TopHat(low=0.1, upp=0.8)\n",
    "\n",
    "_ = plt.hist(flat.sample(nsample=1000))"
   ]
  },
  {
   "cell_type": "code",
   "execution_count": 126,
   "metadata": {},
   "outputs": [
    {
     "data": {
      "text/plain": [
       "0.0"
      ]
     },
     "execution_count": 126,
     "metadata": {},
     "output_type": "execute_result"
    }
   ],
   "source": [
    "flat.inverse_unit_transform(0.1)"
   ]
  },
  {
   "cell_type": "code",
   "execution_count": 176,
   "metadata": {},
   "outputs": [
    {
     "data": {
      "image/png": "[encoded data removed]",
      "text/plain": [
       "<Figure size 600x400 with 1 Axes>"
      ]
     },
     "metadata": {},
     "output_type": "display_data"
    }
   ],
   "source": [
    "student = priors.StudentT(loc=0.6, scale=0.3, df=1)\n",
    "\n",
    "_ = plt.hist(student.sample(nsample=1000, limit=True))"
   ]
  },
  {
   "cell_type": "code",
   "execution_count": 289,
   "metadata": {},
   "outputs": [
    {
     "name": "stdout",
     "output_type": "stream",
     "text": [
      "[0.5 1. ]\n",
      "[ 0. -1.] [1. 3.]\n",
      "[<asap.priors.TopHat object at 0x169f74080>, <asap.priors.StudentT object at 0x169f74a90>]\n",
      "[[0.03558836 0.50710278]]\n",
      "(100, 2)\n",
      "[[0.65422401 0.84743317]\n",
      " [0.50455991 0.88369361]\n",
      " [0.41102608 1.26310917]\n",
      " [0.4839083  0.96745281]\n",
      " [0.60968016 1.13684102]\n",
      " [0.56399299 0.69378113]\n",
      " [0.43557554 1.13588799]\n",
      " [0.44812913 0.70116876]\n",
      " [0.29788239 0.89502531]\n",
      " [0.43747993 0.78462898]]\n",
      "-1.1447298858494\n",
      "-inf\n"
     ]
    }
   ],
   "source": [
    "from asap import priors, parameters\n",
    "\n",
    "# Parameters are described by a dictionary, which can be loaded from `yaml` configuration file.\n",
    "# The format of the config for parameter is:\n",
    "\n",
    "\"\"\"\n",
    "parameter_1:\n",
    "    name : 'a'\n",
    "    label : 'a'\n",
    "    type : 'flat'\n",
    "    ini : 0.0\n",
    "    sig : 1.0\n",
    "    min : -1.0\n",
    "    max : 1.0\n",
    "\"\"\"\n",
    "\n",
    "# For example, here are two parameters\n",
    "#    a : flat distribution between 0.0 and 1.0; use the min and max parameters\n",
    "#    b : 1-D student T-distribution with mean = 1.0, nu = 0.5; use the ini and sig parameters\n",
    "param_a = {'name': 'a', 'type': 'flat', 'min': 0.0, 'max': 1.0}\n",
    "param_b = {'name': 'b', 'type': 'student', 'ini': 1.0, 'sig': 0.5}\n",
    "param_dict = {'param_1': param_a, 'param_2': param_b}\n",
    "\n",
    "param = parameters.AsapParams(param_dict)\n",
    "\n",
    "# If you want to use the mean of each distribution to initiate the sample\n",
    "print(param.ini)\n",
    "\n",
    "# If you want to get the lower and upper boundaries of the distributinos.\n",
    "# For Student-T, using mean +/- 4 * nu\n",
    "print(param.low, param.upp)\n",
    "\n",
    "# The \"distr\" property gives you a list of prior distributions defined in priors.py\n",
    "print(param.distr)\n",
    "\n",
    "# If you want to generate a random set of parameters\n",
    "print(param.sample())\n",
    "\n",
    "# If you want to populate the emcee walkers using the prior distributions\n",
    "# e.g. N_walker = 100; the output is in (N_walker, N_param) shape.\n",
    "print(param.sample(nsamples=100).shape)\n",
    "\n",
    "# If you want to populate the emcee walkers using small perturbations around the mean \n",
    "# of each distribution \n",
    "# e.g. 10 walkers, 10% level perturbation\n",
    "print(param.perturb(nsample=10, level=0.1))\n",
    "\n",
    "# If you have a set of parameters, and need the sum of log(Prior) probabilities\n",
    "theta = [0.5, 0.5]\n",
    "print(param.lnprior(theta))\n",
    "\n",
    "# It will return -np.inf when the parameter is out of bounds\n",
    "theta = [1.2, 0.5]\n",
    "print(param.lnprior(theta))"
   ]
  },
  {
   "cell_type": "markdown",
   "metadata": {},
   "source": [
    "### Test: configuration file"
   ]
  },
  {
   "cell_type": "code",
   "execution_count": 651,
   "metadata": {},
   "outputs": [
    {
     "name": "stdout",
     "output_type": "stream",
     "text": [
      "# Running model: asap_mmax_m10_basic_test_A\n",
      "#    Will use emcee as sampler ...\n",
      "#    Use    32 walkers with    stretch moves for    10 x  1 steps of burn-in\n",
      "#    Use    32 walkers with    stretch moves for    10 steps of sampling\n",
      "\n",
      "# Observations:\n",
      "# Galaxy catalog: s16a_wide2_massive_fsps1_imgsub_use_short.fits\n",
      "# DSigma results: s16a_wide2_dsigma_logm11.6_12_bins.npy\n",
      "# SMF of inner Mstar: s16a_wide2_massive_smf_m10_11.6.npy\n",
      "# SMF of total Mstar: s16a_wide2_massive_smf_mmax_11.6.npy\n",
      "# Covariances for SMFs: s16a_wide2_massive_smf_mmax_m10_cov.npy\n",
      "# Reference SMF: primus_smf_z0.3_0.4.fits\n",
      "# Column of inner Mstar: logm_10\n",
      "# Column of total Mstar: logm_max\n",
      "\n",
      "# UniverseMachine:\n",
      "# Galaxy catalog : um_smdpl_0.7124_new_vagc_mpeak_11.5.npy\n",
      "# DSigma results : um_smdpl_0.7124_new_vagc_mpeak_11.5_50m_r_0.08_50_22bins.npy\n",
      "# Volumn of the simulation:    205348196.23 Mpc^3\n",
      "# Halo mass : logmh_host\n",
      "# Stellar mass : logms_tot\n",
      "# There are 12 DSigma profiles in this sample\n",
      "# SMF for total stellar mass: \n",
      "  11.6000 -- 12.3000 in 7 bins\n",
      "# SMF for inner stellar mass: \n",
      "  10.8000 -- 11.8000 in 10 bins\n",
      "# For inner stellar mass: \n",
      "    10 bins at 10.80 < logMinn < 11.80\n",
      "# For total stellar mass: \n",
      "    7 bins at 11.60 < logMtot < 12.30\n",
      "# The volume of the HSC data is    102860189.63 Mpc^3\n",
      "# 385125 out of 806306 galaxies are central\n",
      "-inf\n",
      "[ 6.00000000e-01  1.15000000e+01  4.08878139e-18  1.00000000e-01\n",
      "  6.50000000e-01 -2.00000000e-01  2.50000000e-01]\n"
     ]
    }
   ],
   "source": [
    "from asap import io\n",
    "from asap import config\n",
    "from asap import fitting\n",
    "from asap.parameters import AsapParams\n",
    "from asap.likelihood import ln_likelihood, ln_probability\n",
    "from asap.predictions import (predict_mstar_basic, predict_smf, \n",
    "                              predict_dsigma_profiles, make_model_predictions)\n",
    "\n",
    "config_file = '/Users/song/Dropbox/work/project/asap/asap/default_config.yaml'\n",
    "\n",
    "cfg, params, obs_data, um_data = fitting.initial_model(config_file, verbose=True)\n",
    "\n",
    "print(params.lnprior([0.2, 3.0, 0.05, 0.1, 0.6, -0.1, 0.2]))\n",
    "\n",
    "print(params.transform([0.5, 0.5, 0.5, 0.5, 0.5, 0.5, 0.5]))"
   ]
  },
  {
   "cell_type": "markdown",
   "metadata": {},
   "source": [
    "### Test: model predictions"
   ]
  },
  {
   "cell_type": "code",
   "execution_count": 652,
   "metadata": {},
   "outputs": [
    {
     "name": "stdout",
     "output_type": "stream",
     "text": [
      "[ 6.10e-01  1.17e+01  1.00e-02  8.00e-02  6.70e-01 -1.80e-01  7.00e-02]\n"
     ]
    },
    {
     "data": {
      "text/plain": [
       "<matplotlib.collections.PathCollection at 0x167b69240>"
      ]
     },
     "execution_count": 652,
     "metadata": {},
     "output_type": "execute_result"
    },
    {
     "data": {
      "image/png": "[encoded data removed]",
      "text/plain": [
       "<Figure size 432x288 with 1 Axes>"
      ]
     },
     "metadata": {},
     "output_type": "display_data"
    }
   ],
   "source": [
    "#param_test = params.sample()[0]\n",
    "param_test = params.ini\n",
    "\n",
    "param_test = np.array([0.61, 11.7, 0.01, 0.08, 0.67, -0.18 ,0.07])\n",
    "print(param_test)\n",
    "\n",
    "logms_inn, logms_tot, sig_logms, mask_use = predict_mstar_basic(\n",
    "    um_data['um_mock'], param_test, min_logms=cfg['um']['min_logms'],\n",
    "    logmh_col=cfg['um']['logmh_col'], min_scatter=cfg['um']['min_scatter'],\n",
    "    pivot=cfg['um']['pivot_logmh'])\n",
    "\n",
    "plt.scatter(logms_tot, logms_inn, s=1, alpha=0.5)\n",
    "plt.scatter(obs_data['mtot'], obs_data['minn'], s=1, alpha=0.3)"
   ]
  },
  {
   "cell_type": "code",
   "execution_count": 653,
   "metadata": {},
   "outputs": [
    {
     "data": {
      "text/plain": [
       "(array([6.22398228e-05, 2.68886768e-05, 1.06937769e-05, 3.78372347e-06,\n",
       "        1.15927592e-06, 3.01908090e-07, 4.56041935e-08]),\n",
       " array([3.54549041e-07, 1.82967647e-06, 7.50933218e-06, 2.25245025e-05,\n",
       "        3.64164872e-05, 2.67137985e-05, 8.70386163e-06, 1.29447028e-06,\n",
       "        1.17113766e-07, 5.23836112e-09]))"
      ]
     },
     "execution_count": 653,
     "metadata": {},
     "output_type": "execute_result"
    }
   ],
   "source": [
    "predict_smf(logms_tot, logms_inn, sig_logms, cfg, min_weight=0.4)"
   ]
  },
  {
   "cell_type": "code",
   "execution_count": 654,
   "metadata": {},
   "outputs": [
    {
     "data": {
      "text/plain": [
       "<matplotlib.collections.PathCollection at 0x1727c8208>"
      ]
     },
     "execution_count": 654,
     "metadata": {},
     "output_type": "execute_result"
    },
    {
     "data": {
      "image/png": "[encoded data removed]",
      "text/plain": [
       "<Figure size 432x288 with 1 Axes>"
      ]
     },
     "metadata": {},
     "output_type": "display_data"
    }
   ],
   "source": [
    "dsigma_noweight = predict_dsigma_profiles(\n",
    "    cfg, obs_data['wl_dsigma'], um_data['um_mock'], um_data['um_mass_encl'], \n",
    "    logms_tot, logms_inn, mask=mask_use, sig_logms=None, min_num=3, add_stellar=False)\n",
    "\n",
    "dsigma_weight = predict_dsigma_profiles(\n",
    "    cfg, obs_data['wl_dsigma'], um_data['um_mock'], um_data['um_mass_encl'], \n",
    "    logms_tot, logms_inn, mask=mask_use, sig_logms=sig_logms, min_num=3, add_stellar=False)\n",
    "\n",
    "dsigma_addstar = predict_dsigma_profiles(\n",
    "    cfg, obs_data['wl_dsigma'], um_data['um_mock'], um_data['um_mass_encl'], \n",
    "    logms_tot, logms_inn, mask=mask_use, sig_logms=sig_logms, min_num=3, add_stellar=True)\n",
    "\n",
    "plt.scatter(np.log10(obs_data['wl_dsigma'][11]['r_mpc']), np.log10(dsigma_noweight[11]))\n",
    "plt.scatter(np.log10(obs_data['wl_dsigma'][11]['r_mpc']), np.log10(dsigma_weight[11]))\n",
    "plt.scatter(np.log10(obs_data['wl_dsigma'][11]['r_mpc']), np.log10(dsigma_addstar[11]))"
   ]
  },
  {
   "cell_type": "code",
   "execution_count": 655,
   "metadata": {},
   "outputs": [
    {
     "data": {
      "text/plain": [
       "[<matplotlib.collections.PathCollection at 0x16aef37f0>,\n",
       " <matplotlib.collections.PathCollection at 0x16aef3be0>,\n",
       " <matplotlib.collections.PathCollection at 0x16aef3eb8>,\n",
       " <matplotlib.collections.PathCollection at 0x16aec7a90>,\n",
       " <matplotlib.collections.PathCollection at 0x16c01c438>,\n",
       " <matplotlib.collections.PathCollection at 0x16c01c748>,\n",
       " <matplotlib.collections.PathCollection at 0x16c01ca58>,\n",
       " <matplotlib.collections.PathCollection at 0x16c01cd68>,\n",
       " <matplotlib.collections.PathCollection at 0x16c01cf98>,\n",
       " <matplotlib.collections.PathCollection at 0x16c0292e8>,\n",
       " <matplotlib.collections.PathCollection at 0x16c0295f8>,\n",
       " <matplotlib.collections.PathCollection at 0x16c0299b0>]"
      ]
     },
     "execution_count": 655,
     "metadata": {},
     "output_type": "execute_result"
    },
    {
     "data": {
      "image/png": "[encoded data removed]",
      "text/plain": [
       "<Figure size 432x288 with 1 Axes>"
      ]
     },
     "metadata": {},
     "output_type": "display_data"
    }
   ],
   "source": [
    "logr_mpc = np.log10(obs_data['wl_dsigma'][0]['r_mpc'])\n",
    "\n",
    "[plt.scatter(logr_mpc, np.log10(mod)) for mod in dsigma_addstar]"
   ]
  },
  {
   "cell_type": "code",
   "execution_count": 611,
   "metadata": {},
   "outputs": [
    {
     "data": {
      "text/plain": [
       "[<matplotlib.collections.PathCollection at 0x16c08ccc0>,\n",
       " <matplotlib.collections.PathCollection at 0x16cc4dda0>,\n",
       " <matplotlib.collections.PathCollection at 0x16c096320>,\n",
       " <matplotlib.collections.PathCollection at 0x16c08cf60>,\n",
       " <matplotlib.collections.PathCollection at 0x16c096908>,\n",
       " <matplotlib.collections.PathCollection at 0x16c096c50>,\n",
       " <matplotlib.collections.PathCollection at 0x16c096f60>,\n",
       " <matplotlib.collections.PathCollection at 0x16c0a11d0>,\n",
       " <matplotlib.collections.PathCollection at 0x16c0a1588>,\n",
       " <matplotlib.collections.PathCollection at 0x16c0a18d0>,\n",
       " <matplotlib.collections.PathCollection at 0x16c0a17f0>,\n",
       " <matplotlib.collections.PathCollection at 0x16c0a1eb8>]"
      ]
     },
     "execution_count": 611,
     "metadata": {},
     "output_type": "execute_result"
    },
    {
     "data": {
      "image/png": "[encoded data removed]",
      "text/plain": [
       "<Figure size 432x288 with 1 Axes>"
      ]
     },
     "metadata": {},
     "output_type": "display_data"
    }
   ],
   "source": [
    "[plt.scatter(logr_mpc, np.log10(obs['dsigma'])) for obs in obs_data['wl_dsigma']]"
   ]
  },
  {
   "cell_type": "code",
   "execution_count": 656,
   "metadata": {},
   "outputs": [],
   "source": [
    "um_smf_tot, um_smf_inn, um_dsigma = make_model_predictions(param_test, cfg, obs_data, um_data, verbose=True)"
   ]
  },
  {
   "cell_type": "code",
   "execution_count": 657,
   "metadata": {},
   "outputs": [
    {
     "data": {
      "text/plain": [
       "-2541.7995371490033"
      ]
     },
     "execution_count": 657,
     "metadata": {},
     "output_type": "execute_result"
    }
   ],
   "source": [
    "ln_likelihood(param_test, cfg, obs_data, um_data)"
   ]
  },
  {
   "cell_type": "code",
   "execution_count": 671,
   "metadata": {},
   "outputs": [
    {
     "name": "stdout",
     "output_type": "stream",
     "text": [
      "[ 5.24534746e-01  1.25102787e+01  5.92847517e-02  9.93787658e-02\n",
      "  4.74576222e-01 -1.21010737e-02  4.60657779e-02]\n",
      "2.496909857913671\n"
     ]
    },
    {
     "data": {
      "text/plain": [
       "-44495536.28337714"
      ]
     },
     "execution_count": 671,
     "metadata": {},
     "output_type": "execute_result"
    }
   ],
   "source": [
    "params_rand = params.sample(nsamples=1)[0]\n",
    "\n",
    "print(params_rand)\n",
    "print(params.lnprior(params_rand, nested=False))\n",
    "\n",
    "ln_probability(params_rand, cfg, params, obs_data, um_data)"
   ]
  },
  {
   "cell_type": "code",
   "execution_count": 672,
   "metadata": {},
   "outputs": [
    {
     "data": {
      "text/plain": [
       "<matplotlib.collections.PathCollection at 0x16ad6a518>"
      ]
     },
     "execution_count": 672,
     "metadata": {},
     "output_type": "execute_result"
    },
    {
     "data": {
      "image/png": "[encoded data removed]",
      "text/plain": [
       "<Figure size 432x288 with 1 Axes>"
      ]
     },
     "metadata": {},
     "output_type": "display_data"
    }
   ],
   "source": [
    "logms_inn, logms_tot, sig_logms, mask_use = predict_mstar_basic(\n",
    "    um_data['um_mock'], params_rand, min_logms=cfg['um']['min_logms'],\n",
    "    logmh_col=cfg['um']['logmh_col'], min_scatter=cfg['um']['min_scatter'],\n",
    "    pivot=cfg['um']['pivot_logmh'])\n",
    "\n",
    "plt.scatter(obs_data['mtot'], obs_data['minn'], s=1, alpha=0.3)\n",
    "plt.scatter(logms_tot, logms_inn, s=1, alpha=0.5)"
   ]
  },
  {
   "cell_type": "code",
   "execution_count": 630,
   "metadata": {},
   "outputs": [
    {
     "name": "stdout",
     "output_type": "stream",
     "text": [
      "         1301 function calls in 0.062 seconds\n",
      "\n",
      "   Ordered by: standard name\n",
      "\n",
      "   ncalls  tottime  percall  cumtime  percall filename:lineno(function)\n",
      "        1    0.000    0.000    0.062    0.062 <string>:1(<module>)\n",
      "        4    0.000    0.000    0.000    0.000 <string>:2(_parse_args)\n",
      "        4    0.000    0.000    0.000    0.000 <string>:5(_parse_args_rvs)\n",
      "        3    0.000    0.000    0.000    0.000 _continuous_distns.py:4674(_rvs)\n",
      "        3    0.000    0.000    0.000    0.000 _continuous_distns.py:4686(_logpdf)\n",
      "        4    0.000    0.000    0.000    0.000 _continuous_distns.py:5925(_rvs)\n",
      "        4    0.000    0.000    0.000    0.000 _continuous_distns.py:5928(_pdf)\n",
      "        4    0.000    0.000    0.000    0.000 _distn_infrastructure.py:1614(_logpdf)\n",
      "        7    0.000    0.000    0.002    0.000 _distn_infrastructure.py:1666(logpdf)\n",
      "        7    0.000    0.000    0.001    0.000 _distn_infrastructure.py:524(argsreduce)\n",
      "        7    0.000    0.000    0.001    0.000 _distn_infrastructure.py:549(<listcomp>)\n",
      "        7    0.000    0.000    0.000    0.000 _distn_infrastructure.py:789(_argcheck_rvs)\n",
      "       17    0.000    0.000    0.000    0.000 _distn_infrastructure.py:803(squeeze_left)\n",
      "        7    0.000    0.000    0.000    0.000 _distn_infrastructure.py:819(<listcomp>)\n",
      "        7    0.000    0.000    0.000    0.000 _distn_infrastructure.py:848(<listcomp>)\n",
      "       14    0.000    0.000    0.000    0.000 _distn_infrastructure.py:863(_argcheck)\n",
      "        7    0.000    0.000    0.000    0.000 _distn_infrastructure.py:875(_support_mask)\n",
      "        7    0.000    0.000    0.001    0.000 _distn_infrastructure.py:909(rvs)\n",
      "        1    0.000    0.000    0.000    0.000 _methods.py:34(_sum)\n",
      "        7    0.000    0.000    0.000    0.000 _methods.py:42(_any)\n",
      "       14    0.000    0.000    0.000    0.000 _methods.py:45(_all)\n",
      "       34    0.000    0.000    0.000    0.000 fromnumeric.py:1471(ravel)\n",
      "       17    0.000    0.000    0.000    0.000 fromnumeric.py:1577(nonzero)\n",
      "        7    0.000    0.000    0.000    0.000 fromnumeric.py:1656(shape)\n",
      "        1    0.000    0.000    0.000    0.000 fromnumeric.py:1821(sum)\n",
      "        7    0.000    0.000    0.000    0.000 fromnumeric.py:1933(any)\n",
      "       14    0.000    0.000    0.000    0.000 fromnumeric.py:2016(all)\n",
      "       34    0.000    0.000    0.000    0.000 fromnumeric.py:49(_wrapfunc)\n",
      "       22    0.000    0.000    0.000    0.000 fromnumeric.py:64(_wrapreduction)\n",
      "       17    0.000    0.000    0.000    0.000 fromnumeric.py:86(take)\n",
      "       17    0.000    0.000    0.000    0.000 function_base.py:1516(extract)\n",
      "        7    0.000    0.000    0.000    0.000 function_base.py:1567(place)\n",
      "        1    0.000    0.000    0.061    0.061 likelihood.py:11(ln_probability)\n",
      "        1    0.000    0.000    0.059    0.059 likelihood.py:92(ln_likelihood)\n",
      "       41    0.000    0.000    0.000    0.000 numeric.py:433(asarray)\n",
      "       55    0.000    0.000    0.000    0.000 numeric.py:504(asanyarray)\n",
      "        7    0.000    0.000    0.000    0.000 numerictypes.py:1001(<listcomp>)\n",
      "        7    0.000    0.000    0.000    0.000 numerictypes.py:1002(<listcomp>)\n",
      "       14    0.000    0.000    0.000    0.000 numerictypes.py:927(_can_coerce_all)\n",
      "       98    0.000    0.000    0.000    0.000 numerictypes.py:936(<listcomp>)\n",
      "        7    0.000    0.000    0.000    0.000 numerictypes.py:950(find_common_type)\n",
      "        1    0.000    0.000    0.001    0.001 parameters.py:113(<listcomp>)\n",
      "        1    0.000    0.000    0.002    0.002 parameters.py:134(lnprior)\n",
      "        1    0.000    0.000    0.002    0.002 parameters.py:175(_lnprior)\n",
      "        1    0.000    0.000    0.002    0.002 parameters.py:190(<listcomp>)\n",
      "        1    0.000    0.000    0.001    0.001 parameters.py:99(sample)\n",
      "        1    0.000    0.000    0.000    0.000 predictions.py:19(frac_from_logmh)\n",
      "        1    0.000    0.000    0.059    0.059 predictions.py:414(make_model_predictions)\n",
      "        1    0.002    0.002    0.011    0.011 predictions.py:52(sigma_logms_from_logmh)\n",
      "        1    0.048    0.048    0.059    0.059 predictions.py:87(predict_mstar_basic)\n",
      "        8    0.000    0.000    0.000    0.000 priors.py:110(scale)\n",
      "        8    0.000    0.000    0.000    0.000 priors.py:115(loc)\n",
      "        3    0.000    0.000    0.001    0.000 priors.py:154(lnp)\n",
      "        3    0.000    0.000    0.001    0.000 priors.py:201(sample)\n",
      "       12    0.000    0.000    0.000    0.000 priors.py:229(scale)\n",
      "       12    0.000    0.000    0.000    0.000 priors.py:234(loc)\n",
      "        6    0.000    0.000    0.000    0.000 priors.py:239(df)\n",
      "        3    0.000    0.000    0.000    0.000 priors.py:244(low)\n",
      "        3    0.000    0.000    0.000    0.000 priors.py:249(upp)\n",
      "        4    0.000    0.000    0.001    0.000 priors.py:37(lnp)\n",
      "        4    0.000    0.000    0.000    0.000 priors.py:84(sample)\n",
      "       11    0.000    0.000    0.000    0.000 shape_base.py:11(atleast_1d)\n",
      "        7    0.000    0.000    0.000    0.000 stride_tricks.py:179(_broadcast_shape)\n",
      "        7    0.000    0.000    0.000    0.000 stride_tricks.py:198(broadcast_arrays)\n",
      "        7    0.000    0.000    0.000    0.000 stride_tricks.py:250(<listcomp>)\n",
      "       24    0.000    0.000    0.000    0.000 stride_tricks.py:254(<genexpr>)\n",
      "       14    0.000    0.000    0.000    0.000 {built-in method builtins.all}\n",
      "        1    0.000    0.000    0.062    0.062 {built-in method builtins.exec}\n",
      "       56    0.000    0.000    0.000    0.000 {built-in method builtins.getattr}\n",
      "       49    0.000    0.000    0.000    0.000 {built-in method builtins.isinstance}\n",
      "      144    0.000    0.000    0.000    0.000 {built-in method builtins.len}\n",
      "        7    0.000    0.000    0.000    0.000 {built-in method numpy.core.multiarray._insert}\n",
      "      115    0.008    0.000    0.008    0.000 {built-in method numpy.core.multiarray.array}\n",
      "        7    0.000    0.000    0.000    0.000 {built-in method numpy.core.multiarray.empty}\n",
      "        7    0.000    0.000    0.000    0.000 {built-in method numpy.core.multiarray.putmask}\n",
      "        3    0.001    0.000    0.001    0.000 {built-in method numpy.core.multiarray.where}\n",
      "       14    0.000    0.000    0.000    0.000 {method 'all' of 'numpy.generic' objects}\n",
      "        7    0.000    0.000    0.000    0.000 {method 'any' of 'numpy.generic' objects}\n",
      "       24    0.000    0.000    0.000    0.000 {method 'append' of 'list' objects}\n",
      "        1    0.000    0.000    0.000    0.000 {method 'disable' of '_lsprof.Profiler' objects}\n",
      "        7    0.000    0.000    0.000    0.000 {method 'fill' of 'numpy.ndarray' objects}\n",
      "        7    0.000    0.000    0.000    0.000 {method 'get' of 'dict' objects}\n",
      "       22    0.000    0.000    0.000    0.000 {method 'items' of 'dict' objects}\n",
      "       17    0.000    0.000    0.000    0.000 {method 'nonzero' of 'numpy.ndarray' objects}\n",
      "       21    0.000    0.000    0.000    0.000 {method 'pop' of 'dict' objects}\n",
      "       34    0.000    0.000    0.000    0.000 {method 'ravel' of 'numpy.ndarray' objects}\n",
      "       23    0.000    0.000    0.000    0.000 {method 'reduce' of 'numpy.ufunc' objects}\n",
      "       21    0.000    0.000    0.000    0.000 {method 'reshape' of 'numpy.ndarray' objects}\n",
      "        3    0.000    0.000    0.000    0.000 {method 'standard_t' of 'mtrand.RandomState' objects}\n",
      "        1    0.000    0.000    0.000    0.000 {method 'sum' of 'numpy.ndarray' objects}\n",
      "       17    0.000    0.000    0.000    0.000 {method 'take' of 'numpy.ndarray' objects}\n",
      "        4    0.000    0.000    0.000    0.000 {method 'uniform' of 'mtrand.RandomState' objects}\n",
      "\n",
      "\n"
     ]
    }
   ],
   "source": [
    "cProfile.run('ln_probability(params.sample(nsamples=1)[0], cfg, params, obs_data, um_data)')"
   ]
  },
  {
   "cell_type": "code",
   "execution_count": 615,
   "metadata": {},
   "outputs": [
    {
     "ename": "AttributeError",
     "evalue": "module 'asap.fitting' has no attribute 'run_emcee_sampler'",
     "output_type": "error",
     "traceback": [
      "\u001b[0;31m---------------------------------------------------------------------------\u001b[0m",
      "\u001b[0;31mAttributeError\u001b[0m                            Traceback (most recent call last)",
      "\u001b[0;32m<ipython-input-615-b1ec185b6a5f>\u001b[0m in \u001b[0;36m<module>\u001b[0;34m()\u001b[0m\n\u001b[0;32m----> 1\u001b[0;31m \u001b[0mini\u001b[0m \u001b[0;34m=\u001b[0m \u001b[0mfitting\u001b[0m\u001b[0;34m.\u001b[0m\u001b[0mrun_emcee_sampler\u001b[0m\u001b[0;34m(\u001b[0m\u001b[0mconfig_file\u001b[0m\u001b[0;34m,\u001b[0m \u001b[0mverbose\u001b[0m\u001b[0;34m=\u001b[0m\u001b[0;32mFalse\u001b[0m\u001b[0;34m)\u001b[0m\u001b[0;34m\u001b[0m\u001b[0m\n\u001b[0m",
      "\u001b[0;31mAttributeError\u001b[0m: module 'asap.fitting' has no attribute 'run_emcee_sampler'"
     ]
    }
   ],
   "source": [
    "ini = fitting.run_emcee_sampler(config_file, verbose=False)"
   ]
  },
  {
   "cell_type": "code",
   "execution_count": 478,
   "metadata": {},
   "outputs": [],
   "source": [
    "ini = params.perturb(nsample=500, level=0.1)"
   ]
  },
  {
   "cell_type": "code",
   "execution_count": 490,
   "metadata": {},
   "outputs": [
    {
     "data": {
      "image/png": "[encoded data removed]",
      "text/plain": [
       "<Figure size 432x288 with 1 Axes>"
      ]
     },
     "metadata": {},
     "output_type": "display_data"
    }
   ],
   "source": [
    "_ = plt.hist(ini[:, 2], bins=200)"
   ]
  },
  {
   "cell_type": "code",
   "execution_count": 575,
   "metadata": {},
   "outputs": [
    {
     "name": "stdout",
     "output_type": "stream",
     "text": [
      "# Running model: asap_mmax_m10_basic_test_A\n",
      "#    Will use emcee as sampler ...\n",
      "#    Use    32 walkers with    stretch moves for    10 x  1 steps of burn-in\n",
      "#    Use    32 walkers with    stretch moves for    10 steps of sampling\n",
      "\n",
      "# Observations:\n",
      "# Galaxy catalog: s16a_wide2_massive_fsps1_imgsub_use_short.fits\n",
      "# DSigma results: s16a_wide2_dsigma_logm11.6_12_bins.npy\n",
      "# SMF of inner Mstar: s16a_wide2_massive_smf_m10_11.6.npy\n",
      "# SMF of total Mstar: s16a_wide2_massive_smf_mmax_11.6.npy\n",
      "# Covariances for SMFs: s16a_wide2_massive_smf_mmax_m10_cov.npy\n",
      "# Reference SMF: primus_smf_z0.3_0.4.fits\n",
      "# Column of inner Mstar: logm_10\n",
      "# Column of total Mstar: logm_max\n",
      "\n",
      "# UniverseMachine:\n",
      "# Galaxy catalog : um_smdpl_0.7124_new_vagc_mpeak_11.5.npy\n",
      "# DSigma results : um_smdpl_0.7124_new_vagc_mpeak_11.5_50m_r_0.08_50_22bins.npy\n",
      "# Volumn of the simulation:    205348196.23 Mpc^3\n",
      "# Halo mass : logmh_host\n",
      "# Stellar mass : logms_tot\n",
      "# There are 12 DSigma profiles in this sample\n",
      "# SMF for total stellar mass: \n",
      "  11.6000 -- 12.3000 in 7 bins\n",
      "# SMF for inner stellar mass: \n",
      "  10.8000 -- 11.8000 in 10 bins\n",
      "# For inner stellar mass: \n",
      "    10 bins at 10.80 < logMinn < 11.80\n",
      "# For total stellar mass: \n",
      "    7 bins at 11.60 < logMtot < 12.30\n",
      "# The volume of the HSC data is    102860189.63 Mpc^3\n",
      "# 385125 out of 806306 galaxies are central\n",
      "\n",
      "# Phase: Burn-in ...\n"
     ]
    },
    {
     "name": "stderr",
     "output_type": "stream",
     "text": [
      "100%|██████████| 7/7 [07:43<00:00, 62.87s/it]\n"
     ]
    },
    {
     "name": "stdout",
     "output_type": "stream",
     "text": [
      "#------------------------------------------------------\n",
      "#  Mean acceptance fraction 0.040178571428571425\n",
      "#------------------------------------------------------\n",
      "#  Best ln(Probability): -3254.62080\n",
      "[ 7.06518984e-01  1.15732170e+01  1.63018692e-02  5.94230658e-02\n",
      "  7.63700211e-01 -3.39752064e-03  3.36538415e-01]\n",
      "#------------------------------------------------------\n",
      "(0.6041978876711929, 0.26336712626146896, 0.3993562160028624)\n",
      "(11.346203814273341, 1.2453664523101615, 0.7834507990066726)\n",
      "(0.003448988119750708, 0.05897429470125091, 0.05426940818445884)\n",
      "(0.09353468791071531, 0.07780167550146747, 0.06241355353931864)\n",
      "(0.6975790251787639, 0.18493055968303174, 0.2623371812871734)\n",
      "(-0.18831638671874995, 0.186503751578699, 0.2927036554646216)\n",
      "(0.2513512891028707, 0.21274040631738428, 0.15204721485941586)\n",
      "#------------------------------------------------------\n",
      "\n",
      "# Phase: Sampling Run ...\n"
     ]
    },
    {
     "name": "stderr",
     "output_type": "stream",
     "text": [
      "100%|██████████| 10/10 [14:41<00:00, 97.26s/it]"
     ]
    },
    {
     "name": "stdout",
     "output_type": "stream",
     "text": [
      "#------------------------------------------------------\n",
      "#  Mean acceptance fraction 0.025\n",
      "#------------------------------------------------------\n",
      "#  Best ln(Probability):  -800.97133\n",
      "[ 0.76766169 11.730521    0.1516084   0.15647739  0.8052876  -0.16272846\n",
      "  0.10949055]\n",
      "#------------------------------------------------------\n",
      "(0.4344940944266972, 0.3772793497942871, 0.6292958059680469)\n",
      "(11.316335448313197, 0.9533456597992735, 0.8290266731611808)\n",
      "(-0.019777728777682115, 0.08449560431362299, 0.07824329597923943)\n",
      "(0.11186418607588519, 0.08623530397802176, 0.07918334655793922)\n",
      "(0.665907490055189, 0.1393801136815337, 0.2316899615555318)\n",
      "(-0.26815308945992455, 0.15849150401867007, 0.2569315364218431)\n",
      "(0.15200619756087494, 0.2850329478710967, 0.1815463556027304)\n",
      "#------------------------------------------------------\n"
     ]
    },
    {
     "name": "stderr",
     "output_type": "stream",
     "text": [
      "\n"
     ]
    }
   ],
   "source": [
    "from asap import fitting\n",
    "from asap.likelihood import ln_likelihood, ln_probability\n",
    "from asap.predictions import (predict_mstar_basic, predict_smf, \n",
    "                              predict_dsigma_profiles, make_model_predictions)\n",
    " \n",
    "config_file = '/Users/song/Dropbox/work/project/asap/asap/default_config.yaml'\n",
    "\n",
    "results = fitting.fit_asap_model(config_file, verbose=True, debug=False)"
   ]
  },
  {
   "cell_type": "code",
   "execution_count": 562,
   "metadata": {},
   "outputs": [
    {
     "name": "stdout",
     "output_type": "stream",
     "text": [
      "#------------------------------------------------------\n",
      "#  Mean acceptance fraction 0.08035714285714285\n",
      "#------------------------------------------------------\n",
      "#  Best ln(Probability): -2058.30977\n",
      "[ 0.2740331  11.76146597  0.08145964  0.11492799  0.80359257 -0.04848538\n",
      "  0.20796642]\n",
      "#------------------------------------------------------\n",
      "(0.628822760006171, 0.4093856820343479, 0.34379640758060276)\n",
      "(11.514072208799094, 0.929336229600322, 0.8100952952451497)\n",
      "(0.014930585009936699, 0.03327207415769171, 0.0684655447288464)\n",
      "(0.10527436312372757, 0.05212636179381777, 0.08041105181364744)\n",
      "(0.6657201081283493, 0.14808269093175785, 0.25370397353714275)\n",
      "(-0.16899863144591315, 0.23521791479817722, 0.11948190485679433)\n",
      "(0.24974253759023474, 0.1004803938547078, 0.10045024024431792)\n",
      "#------------------------------------------------------\n"
     ]
    }
   ],
   "source": [
    "burns, bsampler = results\n",
    "\n",
    "io.save_results_to_npz(burns, bsampler, 'test.npz', 7, verbose=True)"
   ]
  },
  {
   "cell_type": "code",
   "execution_count": null,
   "metadata": {},
   "outputs": [],
   "source": []
  }
 ],
 "metadata": {
  "kernelspec": {
   "display_name": "Python 3",
   "language": "python",
   "name": "python3"
  },
  "language_info": {
   "codemirror_mode": {
    "name": "ipython",
    "version": 3
   },
   "file_extension": ".py",
   "mimetype": "text/x-python",
   "name": "python",
   "nbconvert_exporter": "python",
   "pygments_lexer": "ipython3",
   "version": "3.7.0"
  }
 },
 "nbformat": 4,
 "nbformat_minor": 2
}
