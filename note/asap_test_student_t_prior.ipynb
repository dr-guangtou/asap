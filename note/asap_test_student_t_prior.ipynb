{
 "cells": [
  {
   "cell_type": "code",
   "execution_count": 1,
   "metadata": {},
   "outputs": [],
   "source": [
    "%matplotlib inline\n",
    "%load_ext autoreload \n",
    "%autoreload 2\n",
    "\n",
    "import os\n",
    "import sys\n",
    "import copy \n",
    "import warnings\n",
    "from time import time\n",
    "\n",
    "from astropy.table import Table, Column, vstack\n",
    "\n",
    "import numpy as np \n",
    "\n",
    "import matplotlib.pyplot as plt\n",
    "import matplotlib.mlab as mlab\n",
    "from mpl_toolkits.axes_grid1 import make_axes_locatable\n",
    "from matplotlib.ticker import MaxNLocator\n",
    "from mpl_toolkits.axes_grid1.inset_locator import zoomed_inset_axes, inset_axes\n",
    "from mpl_toolkits.axes_grid1.inset_locator import mark_inset\n",
    "import matplotlib.patches as patches\n",
    "\n",
    "from astroML.stats import binned_statistic_2d\n",
    "\n",
    "plt.rc('text', usetex=True)\n",
    "    \n",
    "from asap.stellar_mass_function import get_smf_bootstrap\n",
    "from asap.asap_data_io import *\n",
    "from asap.asap_model_setup import *\n",
    "from asap.asap_utils import *\n",
    "from asap.asap_run_model import * \n",
    "from asap.asap_model_prediction import *\n",
    "from asap.asap_likelihood import * \n",
    "from asap.um_model_plot import *\n",
    "from asap.full_mass_profile_model import *\n",
    "from asap.asap_mass_model import * \n",
    "from asap.asap_model_prediction import asap_predict_mhalo "
   ]
  },
  {
   "cell_type": "markdown",
   "metadata": {},
   "source": [
    "### Visualize the student-T distribution as prior for the slope of the scaling relation"
   ]
  },
  {
   "cell_type": "code",
   "execution_count": 2,
   "metadata": {},
   "outputs": [],
   "source": [
    "from prospect.models import priors"
   ]
  }
 ],
 "metadata": {
  "kernelspec": {
   "display_name": "Python 3",
   "language": "python",
   "name": "python3"
  },
  "language_info": {
   "codemirror_mode": {
    "name": "ipython",
    "version": 3
   },
   "file_extension": ".py",
   "mimetype": "text/x-python",
   "name": "python",
   "nbconvert_exporter": "python",
   "pygments_lexer": "ipython3",
   "version": "3.7.0"
  }
 },
 "nbformat": 4,
 "nbformat_minor": 2
}
