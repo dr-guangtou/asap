{
 "cells": [
  {
   "cell_type": "code",
   "execution_count": 29,
   "metadata": {},
   "outputs": [
    {
     "name": "stdout",
     "output_type": "stream",
     "text": [
      "The autoreload extension is already loaded. To reload it, use:\n",
      "  %reload_ext autoreload\n"
     ]
    }
   ],
   "source": [
    "%matplotlib inline\n",
    "%load_ext autoreload\n",
    "%autoreload 2\n",
    "\n",
    "import os\n",
    "import sys\n",
    "import copy \n",
    "import warnings\n",
    "\n",
    "import _pickle as pickle\n",
    "\n",
    "from astropy.table import Table, Column, vstack, join\n",
    "\n",
    "import numpy as np \n",
    "\n",
    "import matplotlib.pyplot as plt\n",
    "import matplotlib.patches as patches\n",
    "\n",
    "from asap import io\n",
    "from asap import smf \n",
    "from asap import config\n",
    "from asap import fitting\n",
    "from asap import ensemble\n",
    "from asap import plotting\n",
    "from asap import predictions\n",
    "from asap.parameters import AsapParams\n",
    "from asap.likelihood import ln_likelihood, ln_probability\n",
    "from asap.predictions import (predict_mstar_basic, predict_smf, predict_mhalo,\n",
    "                              predict_dsigma_profiles, make_model_predictions)\n",
    "\n",
    "from dsigma import compute_ds as ds\n",
    "from dsigma import jackknife as jk\n",
    "from dsigma import covariance as cov\n",
    "from dsigma.stack_ds import stack_delta_sigma, batch_delta_sigma\n",
    "from dsigma.plots import show_delta_sigma_profiles, show_r_delta_sigma, show_single_profile\n",
    "\n",
    "plt.rc('text', usetex=True)"
   ]
  },
  {
   "cell_type": "code",
   "execution_count": 55,
   "metadata": {},
   "outputs": [],
   "source": [
    "def prepare_catalog_for_acf(catalog, logm='logm_max', object_id='object_id', ra='ra', dec='dec',\n",
    "                            redshift='z_best', min_logm=None):\n",
    "    \"\"\"Prepare the HSC catalog for awesome cluster finder.\"\"\"\n",
    "    # Make a copy of the file\n",
    "    cat_use = copy.deepcopy(catalog)\n",
    "\n",
    "    # Add a Mstar column. Notice that this is not the logM*, but just M*\n",
    "    cat_use.add_column(Column(data=(10.0 ** cat_use[logm]), name='Mstar'))\n",
    "\n",
    "    # Normalize some column names\n",
    "    if object_id is not 'id':\n",
    "        cat_use.rename_column(object_id, 'id')\n",
    "    if ra is not 'ra':\n",
    "        cat_use.renmae_column(ra, 'ra')\n",
    "    if dec is not 'dec':\n",
    "        cat_use.renmae_column(dec, 'dec')\n",
    "    if redshift is not 'z':\n",
    "        cat_use.rename_column(redshift, 'z')\n",
    "    \n",
    "    # Add index array if necessary\n",
    "    if 'index' not in cat_use.colnames:\n",
    "        cat_use.add_column(Column(data=np.arange(len(cat_use)), name='index'))\n",
    "\n",
    "    # Make a mass cut if necessary\n",
    "    if min_logm:\n",
    "        cat_use = cat_use[cat_use[logm] >= min_logm]\n",
    "        print(\"# Keep {} galaxies with {} >= {}\".format(len(cat_use), logm, min_logm))\n",
    "\n",
    "    # Only keep the useful columns\n",
    "    return cat_use['id', 'ra', 'dec', 'z', 'Mstar'].as_array()\n",
    "\n",
    "\n",
    "def stack_with_mask(lens_ds, lens_data, mask_use, rand_ds=None, rand_data=None,\n",
    "                    n_boots=10000, n_jobs=4, z_bins=8, selection_bias=True, \n",
    "                    weight_field='weight'):\n",
    "    \"\"\"Stack the DeltaSigma profiles for the selected lenses.\"\"\"\n",
    "    lens_ds_use, lens_data_use = lens_ds[mask_use], lens_data[mask_use]\n",
    "\n",
    "    # Get the stacked profile\n",
    "    dsig_all, dsig_boot, dsig_jk = cov.get_bootstrap_samples_dsigma(\n",
    "        lens_ds_use, rand_ds, lens_data_use, rand_data, n_boots=n_boots, n_jobs=n_jobs, \n",
    "        z_bins=z_bins, selection_bias=selection_bias, weight_field=weight_field, \n",
    "        use_boost=False)\n",
    "\n",
    "    # Get the covariance matrix\n",
    "    dsig_cov = np.cov(dsig_boot, rowvar=False)\n",
    "\n",
    "    # Use the diagnoal terms as uncertainties\n",
    "    dsig_err = np.sqrt(np.diag(dsig_cov))\n",
    "    \n",
    "    return dsig_all, dsig_err"
   ]
  },
  {
   "cell_type": "markdown",
   "metadata": {},
   "source": [
    "## Predict Weak Lensing DeltaSigma Profiles for HSC Galaxies in a Halo Mass Bin\n",
    "\n",
    "### Get the S16A lensing sample and random galaxies\n",
    "\n",
    "* `lens_data` is the `npy` catalog for all the massive galaxies\n",
    "* `rand_data` is the random catalog with 500k objects.\n",
    "* `lens_pre` and `rand_pre` are the pre-computed individual lensing pairs.\n",
    "    - `lens_ds`, `rand_ds` are the results from lensing pre-compute.\n",
    "    - `radial_bins` is the definitions of radial bins of DSigma profiles.\n",
    "* `lens_mass` is the lens catalog with a lot of additonal information. \n",
    "* **Notice**: `lens_mass` and `lens_ds` have corresponding items, so don't mess up the order."
   ]
  },
  {
   "cell_type": "code",
   "execution_count": 2,
   "metadata": {},
   "outputs": [
    {
     "name": "stdout",
     "output_type": "stream",
     "text": [
      "38653 38653 500000\n"
     ]
    }
   ],
   "source": [
    "wl_dir = '/Users/song/data/massive/dr16a/s16a_massive_dsig'\n",
    "\n",
    "# Lens data\n",
    "lens_data = np.load(os.path.join(wl_dir, 'lens/s16a_massive_lens_prep_new.npy'))\n",
    "rand_data = np.load(os.path.join(wl_dir, 'random/s16a_random_500k_prep_new.npy'))\n",
    "\n",
    "# Pre-compute results\n",
    "# Medium selection\n",
    "lens_pre = np.load(os.path.join(wl_dir, 'results/s16a_massive_lens_basic_dsig_pre.npz'))\n",
    "rand_pre = np.load(os.path.join(wl_dir, 'results/s16a_massive_rand_basic_dsig_pre.npz'))\n",
    "\n",
    "print(len(lens_data), len(lens_pre['delta_sigma']), len(rand_pre['delta_sigma']))\n",
    "\n",
    "ds.assert_precompute_catalog_consistent(lens_pre, lens_data)\n",
    "ds.assert_lens_rand_consistent(lens_pre, rand_pre)\n",
    "\n",
    "# Number of Jackknife fiedls\n",
    "njackknife_fields = 31\n",
    "\n",
    "# Get the pre-compute deltaSigma data, radial bins\n",
    "lens_ds, radial_bins = lens_pre['delta_sigma'], lens_pre['radial_bins']\n",
    "rand_ds = rand_pre[\"delta_sigma\"]\n",
    "\n",
    "lens_ds, rand_ds = jk.add_jackknife_both(lens_ds, rand_ds, njackknife_fields)\n",
    "\n",
    "# The cross-match is done outside \n",
    "# The astropy.table.join seems to change the order of the table.\n",
    "lens_mass = Table.read(os.path.join(wl_dir, 's16a_massive_lens_prep_cog_mask.fits'))\n",
    "\n",
    "assert np.all(lens_mass['object_id'] == lens_data['object_id'])"
   ]
  },
  {
   "cell_type": "code",
   "execution_count": 12,
   "metadata": {},
   "outputs": [],
   "source": [
    "# Add an index array, so that we won't mess up with the order\n",
    "lens_mass.add_column(Column(name='index', data=np.arange(len(lens_mass))))"
   ]
  },
  {
   "cell_type": "markdown",
   "metadata": {},
   "source": [
    "#### A basic quality cut for the massive galaxies\n",
    "\n",
    "* These empirical cuts make sure the galaxy has a useful 1-D profile"
   ]
  },
  {
   "cell_type": "code",
   "execution_count": 4,
   "metadata": {},
   "outputs": [
    {
     "name": "stdout",
     "output_type": "stream",
     "text": [
      "37945 38653\n"
     ]
    }
   ],
   "source": [
    "quality_mask = ((lens_mass['logm_5'] >= 10.00) & (lens_mass['logm_5'] <= 11.52) &\n",
    "                (lens_mass['logm_10'] >= 10.47) & (lens_mass['logm_10'] <= 11.72) &\n",
    "                lens_mass['clean_photometry'] & lens_mass['cog_mask'])\n",
    "\n",
    "print(quality_mask.sum(), len(lens_data))"
   ]
  },
  {
   "cell_type": "markdown",
   "metadata": {},
   "source": [
    "#### Try to use a very simple method to exclude satellites\n",
    "\n",
    "* This is based on the `awesome` cluster finder from Christopher Bradshaw\n",
    "\n",
    "##### \"Largest Central\" method\n",
    "\n",
    "* Under `acf.cluster_finder.largest_centrals()`\n",
    "* Format is:\n",
    "```python\n",
    "input_catalog, memberships = largest_centrals(input_catalog, cylinder_radius, cylinder_half_length)\n",
    "```\n",
    "* Both `cylinder_radius` and `cylinder_half_length` are in unit of Mpc and depen on the cosmology model.\n",
    "* The `membership` catalog has three columns: `id`, `cluster_num`, `is_central`.\n",
    "* For observations, we need to have these columns: `id`, `ra`, `dec`, `z`, `Mstar`."
   ]
  },
  {
   "cell_type": "code",
   "execution_count": 65,
   "metadata": {},
   "outputs": [],
   "source": [
    "import awesome_cluster_finder as acf\n",
    "\n",
    "# `acf` now will automatically read in a config file for simulation, we can ignore that.\n",
    "# Just make sure we are in the observation mode\n",
    "acf.config.use = 'observation'"
   ]
  },
  {
   "cell_type": "code",
   "execution_count": 66,
   "metadata": {},
   "outputs": [
    {
     "name": "stdout",
     "output_type": "stream",
     "text": [
      "# There are 30065 central galaxies\n"
     ]
    }
   ],
   "source": [
    "lens_acf = prepare_catalog_for_acf(lens_mass, logm='logm_max', object_id='index', redshift='z')\n",
    "\n",
    "lens_acf_sorted, lens_acf_mem = acf.cluster_finder.largest_centrals(lens_acf, 1.0, 20.)\n",
    "\n",
    "print(\"# There are {} central galaxies\".format(lens_acf_mem['is_central'].sum()))"
   ]
  },
  {
   "cell_type": "code",
   "execution_count": 67,
   "metadata": {},
   "outputs": [],
   "source": [
    "lens_acf_result = join(Table(lens_acf_sorted), Table(lens_acf_mem), keys='id', join_type='inner')\n",
    "\n",
    "central_mask = (lens_acf_result['is_central'] > 0)"
   ]
  },
  {
   "cell_type": "code",
   "execution_count": 83,
   "metadata": {},
   "outputs": [
    {
     "data": {
      "text/plain": [
       "<matplotlib.collections.PathCollection at 0x14efac9d0>"
      ]
     },
     "execution_count": 83,
     "metadata": {},
     "output_type": "execute_result"
    },
    {
     "data": {
      "image/png": "[encoded data removed]",
      "text/plain": [
       "<Figure size 432x288 with 1 Axes>"
      ]
     },
     "metadata": {
      "needs_background": "light"
     },
     "output_type": "display_data"
    }
   ],
   "source": [
    "plt.scatter(lens_mass['logm_max'][mask_3], lens_mass['logm_10'][mask_3])\n",
    "plt.scatter(lens_mass['logm_max'][mask_3_cen], lens_mass['logm_10'][mask_3_cen], alpha=0.8)"
   ]
  },
  {
   "cell_type": "markdown",
   "metadata": {},
   "source": [
    "### Assign halo mass to HSC galaxies\n",
    "\n",
    "#### Using Mhalo-Mmax-M10kpc plane\n",
    "\n",
    "* `13.6826 + 3.541 * (logm_max - 11.71) - 2.542 * (logm_10 - 11.33)`"
   ]
  },
  {
   "cell_type": "code",
   "execution_count": 75,
   "metadata": {},
   "outputs": [],
   "source": [
    "logmh_plane = 13.6826 + 3.541 * (lens_mass['logm_max'] - 11.71) - 2.542 * (lens_mass['logm_10'] - 11.33)\n",
    "\n",
    "#lens_mass.remove_column('logmh_plane')\n",
    "lens_mass.add_column(Column(data=logmh_plane, name='logmh_plane'))"
   ]
  },
  {
   "cell_type": "markdown",
   "metadata": {},
   "source": [
    "#### Get the DSigma profiles for all galaxies in the bin"
   ]
  },
  {
   "cell_type": "code",
   "execution_count": 76,
   "metadata": {},
   "outputs": [
    {
     "name": "stdout",
     "output_type": "stream",
     "text": [
      "10131 2956 621\n"
     ]
    }
   ],
   "source": [
    "mask_1 = ((lens_mass['logmh_plane'] >= 13.00) & (lens_mass['logmh_plane'] < 13.42) &\n",
    "          (lens_mass['logm_max'] >= 11.2) & quality_mask)\n",
    "\n",
    "mask_2 = ((lens_mass['logmh_plane'] >= 13.42) & (lens_mass['logmh_plane'] < 13.83) &\n",
    "          (lens_mass['logm_max'] >= 11.2) & quality_mask)\n",
    "\n",
    "mask_3 = ((lens_mass['logmh_plane'] >= 13.83) & (lens_mass['logmh_plane'] < 14.25) &\n",
    "          (lens_mass['logm_max'] >= 11.2) & quality_mask)\n",
    "\n",
    "print(mask_1.sum(), mask_2.sum(), mask_3.sum())\n",
    "\n",
    "dsig_1, err_1 = stack_with_mask(\n",
    "    lens_ds, lens_data, mask_1, rand_ds=rand_ds, rand_data=rand_data,\n",
    "    n_boots=10000, n_jobs=4, z_bins=8, selection_bias=True, \n",
    "    weight_field='weight')\n",
    "\n",
    "dsig_2, err_2 = stack_with_mask(\n",
    "    lens_ds, lens_data, mask_2, rand_ds=rand_ds, rand_data=rand_data,\n",
    "    n_boots=10000, n_jobs=4, z_bins=8, selection_bias=True, \n",
    "    weight_field='weight')\n",
    "\n",
    "dsig_3, err_3 = stack_with_mask(\n",
    "    lens_ds, lens_data, mask_3, rand_ds=rand_ds, rand_data=rand_data,\n",
    "    n_boots=10000, n_jobs=4, z_bins=8, selection_bias=True, \n",
    "    weight_field='weight')"
   ]
  },
  {
   "cell_type": "code",
   "execution_count": 84,
   "metadata": {},
   "outputs": [],
   "source": [
    "np.savez('asap_hsc_mvir_predict_1906_bin1.npz', rmpc=radial_bins, \n",
    "         dsigma=dsig_1, err=err_1)\n",
    "\n",
    "np.savez('asap_hsc_mvir_predict_1906_bin2.npz', rmpc=radial_bins, \n",
    "         dsigma=dsig_2, err=err_2)\n",
    "\n",
    "np.savez('asap_hsc_mvir_predict_1906_bin3.npz', rmpc=radial_bins, \n",
    "         dsigma=dsig_3, err=err_3)"
   ]
  },
  {
   "cell_type": "markdown",
   "metadata": {},
   "source": [
    "#### Get the DSigma for \"centrals\" only\n",
    "\n",
    "* TODO: there is something weird"
   ]
  },
  {
   "cell_type": "code",
   "execution_count": 81,
   "metadata": {},
   "outputs": [
    {
     "name": "stdout",
     "output_type": "stream",
     "text": [
      "3118 1260 389\n"
     ]
    }
   ],
   "source": [
    "mask_1_cen = ((lens_mass['logmh_plane'] >= 13.00) & (lens_mass['logmh_plane'] < 13.42) &\n",
    "              (lens_mass['logm_max'] >= 11.2) & quality_mask & ~central_mask)\n",
    "\n",
    "mask_2_cen = ((lens_mass['logmh_plane'] >= 13.42) & (lens_mass['logmh_plane'] < 13.83) &\n",
    "              (lens_mass['logm_max'] >= 11.2) & quality_mask & ~central_mask)\n",
    "\n",
    "mask_3_cen = ((lens_mass['logmh_plane'] >= 13.83) & (lens_mass['logmh_plane'] < 14.25) &\n",
    "              (lens_mass['logm_max'] >= 11.2) & quality_mask & ~central_mask)\n",
    "\n",
    "print(mask_1_cen.sum(), mask_2_cen.sum(), mask_3_cen.sum())\n",
    "\n",
    "dsig_1_cen, err_1_cen = stack_with_mask(\n",
    "    lens_ds, lens_data, mask_1_cen, rand_ds=rand_ds, rand_data=rand_data,\n",
    "    n_boots=10000, n_jobs=4, z_bins=8, selection_bias=True, \n",
    "    weight_field='weight')\n",
    "\n",
    "dsig_2_cen, err_2_cen = stack_with_mask(\n",
    "    lens_ds, lens_data, mask_2_cen, rand_ds=rand_ds, rand_data=rand_data,\n",
    "    n_boots=10000, n_jobs=4, z_bins=8, selection_bias=True, \n",
    "    weight_field='weight')\n",
    "\n",
    "dsig_3_cen, err_3_cen = stack_with_mask(\n",
    "    lens_ds, lens_data, mask_3_cen, rand_ds=rand_ds, rand_data=rand_data,\n",
    "    n_boots=10000, n_jobs=4, z_bins=8, selection_bias=True, \n",
    "    weight_field='weight')"
   ]
  },
  {
   "cell_type": "code",
   "execution_count": 82,
   "metadata": {},
   "outputs": [
    {
     "data": {
      "image/png": "[encoded data removed]",
      "text/plain": [
       "<Figure size 648x504 with 1 Axes>"
      ]
     },
     "metadata": {
      "needs_background": "light"
     },
     "output_type": "display_data"
    }
   ],
   "source": [
    "fig = plt.figure(figsize=(9, 7))\n",
    "fig.subplots_adjust(left=0.16, right=0.99, bottom=0.13, top=0.95,\n",
    "                    wspace=0.00, hspace=0.00)\n",
    "ax1 = fig.add_subplot(111)\n",
    "ax1.grid(linestyle='--', alpha=0.4, linewidth=2)\n",
    "\n",
    "ax1 = show_single_profile(radial_bins, dsig_1, dsigma_err=err_1,\n",
    "                          ax=ax1, s=70, marker='o', c=plt.cm.Accent(0.5), \n",
    "                          label=r'$[13.00, 13.42]\\ \\rm All$')\n",
    "\n",
    "ax1 = show_single_profile(radial_bins, dsig_1_cen, dsigma_err=err_1_cen,\n",
    "                          ax=ax1, s=80, marker='o', c=plt.cm.Accent(0.4), \n",
    "                          label=r'$[13.00, 13.42]\\ \\rm Cen$')\n",
    "\n",
    "ax1 = show_single_profile(radial_bins, dsig_2, dsigma_err=err_2,\n",
    "                          ax=ax1, s=70, marker='h', c=plt.cm.Accent(0.1), \n",
    "                          label=r'$[13.42, 13.83]\\ \\rm All$')\n",
    "\n",
    "ax1 = show_single_profile(radial_bins, dsig_2_cen, dsigma_err=err_2_cen,\n",
    "                          ax=ax1, s=80, marker='h', c=plt.cm.Accent(0.2), \n",
    "                          label=r'$[13.42, 13.83]\\ \\rm Cen$')\n",
    "\n",
    "ax1 = show_single_profile(radial_bins, dsig_3, dsigma_err=err_3,\n",
    "                          ax=ax1, s=70, marker='s', c=plt.cm.Accent(0.8), \n",
    "                          label=r'$[13.83, 14.25]\\ \\rm All$')\n",
    "\n",
    "ax1 = show_single_profile(radial_bins, dsig_3_cen, dsigma_err=err_3_cen,\n",
    "                          ax=ax1, s=80, marker='s', c=plt.cm.Accent(0.9), \n",
    "                          label=r'$[13.83, 14.25]\\ \\rm Cen$')\n",
    "\n",
    "ax1.legend(loc='upper right', fontsize=17)\n",
    "\n",
    "for tick in ax1.xaxis.get_major_ticks():\n",
    "    tick.label.set_fontsize(25)\n",
    "for tick in ax1.yaxis.get_major_ticks():\n",
    "    tick.label.set_fontsize(25)\n",
    "\n",
    "ax1.set_ylim(0.4, 289)\n",
    "\n",
    "_ = ax1.set_xlabel(r'$R\\ [\\mathrm{Mpc}]$', fontsize=30)\n",
    "_ = ax1.set_ylabel(r'$\\Delta\\Sigma\\ (M_{\\odot}/\\mathrm{pc}^2)$', fontsize=30)"
   ]
  }
 ],
 "metadata": {
  "kernelspec": {
   "display_name": "Python 3",
   "language": "python",
   "name": "python3"
  },
  "language_info": {
   "codemirror_mode": {
    "name": "ipython",
    "version": 3
   },
   "file_extension": ".py",
   "mimetype": "text/x-python",
   "name": "python",
   "nbconvert_exporter": "python",
   "pygments_lexer": "ipython3",
   "version": "3.7.4"
  }
 },
 "nbformat": 4,
 "nbformat_minor": 2
}
