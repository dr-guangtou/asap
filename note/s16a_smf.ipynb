{
 "cells": [
  {
   "cell_type": "code",
   "execution_count": 1,
   "metadata": {},
   "outputs": [],
   "source": [
    "%matplotlib inline \n",
    "%load_ext autoreload\n",
    "%autoreload 2\n",
    "\n",
    "import os\n",
    "import copy\n",
    "import glob\n",
    "import warnings\n",
    "import subprocess\n",
    "\n",
    "import numpy as np\n",
    "from numpy.lib.recfunctions import append_fields\n",
    "\n",
    "# Matplotlib related\n",
    "import matplotlib as mpl\n",
    "import matplotlib.pyplot as plt\n",
    "\n",
    "from astropy import units as u\n",
    "from astropy.table import Table, Column, vstack\n",
    "from astropy.cosmology import FlatLambdaCDM\n",
    "from astropy.coordinates import SkyCoord\n",
    "from astropy.utils.console import ProgressBar\n",
    "\n",
    "import hsc_massive\n",
    "from hsc_massive import s16a_path, mass_function\n",
    "from dsigma.jackknife import add_jackknife_field, add_jackknife_both\n",
    "\n",
    "envir = s16a_path.set_env(version='astro5')\n",
    "\n",
    "import palettable\n",
    "color_fancy = palettable.wesanderson.Mendl_4.mpl_colors\n",
    "color_bins = palettable.cartocolors.qualitative.Bold_4_r.mpl_colors"
   ]
  },
  {
   "cell_type": "markdown",
   "metadata": {},
   "source": [
    "### S16A HSC galaxy SMF"
   ]
  },
  {
   "cell_type": "code",
   "execution_count": 4,
   "metadata": {},
   "outputs": [],
   "source": [
    "um_dir = '/Volumes/astro5/massive/dr16a/um2/s16a_massive_wl/'\n",
    "\n",
    "mass_prep = np.load(\n",
    "    os.path.join(um_dir, 's16a_wide2_massive_fsps1_imgsub_use_short_prep.npy'))"
   ]
  },
  {
   "cell_type": "code",
   "execution_count": 6,
   "metadata": {},
   "outputs": [],
   "source": [
    "rand_dir = os.path.join(envir['s16a'], 'random/hsc_random_with_mask')\n",
    "\n",
    "rand_prep = np.load(\n",
    "    os.path.join(rand_dir, 's16a_random_acturus_master.npz'))['random']"
   ]
  },
  {
   "cell_type": "code",
   "execution_count": 9,
   "metadata": {},
   "outputs": [
    {
     "name": "stdout",
     "output_type": "stream",
     "text": [
      "['object_id', 'ra', 'dec', 'clean_photometry', 'z_spec', 'z', 'z_phot', 'z_type', 'gcmodel_mag', 'gcmodel_mag_err', 'rcmodel_mag', 'rcmodel_mag_err', 'icmodel_mag', 'icmodel_mag_err', 'zcmodel_mag', 'zcmodel_mag_err', 'ycmodel_mag', 'ycmodel_mag_err', 'MSTAR', 'lum_max', 'lum_150', 'lum_120', 'lum_100', 'lum_75', 'lum_50', 'lum_25', 'lum_10', 'lum_5', 'lum_15', 'lum_30', 'lum_40', 'lum_60', 'logm_5', 'logm_10', 'logm_15', 'logm_25', 'logm_30', 'logm_40', 'logm_50', 'logm_60', 'logm_75', 'logm_100', 'logm_120', 'logm_150', 'logm_max', 'photoz_err68_min', 'photoz_err68_max', 'vdisp_sdss', 'vdisp_err_sdss', 'gama_id', 'fluxscale_gama', 'logms_gama', 'logms_err_gama', 'id_cluster_redm', 'p_mem_redm', 'z_lambda_redm', 'z_lambda_err_redm', 'lambda_redm', 'lambda_err_redm', 'p_cen_1_redm', 'id_camira', 'z_camira', 'n_cor_camira', 'logms_camira', 'id_mem_camira', 'w_mem_camira', 'SFR', 'AV', 'TAU', 'AGE', 'ZMETAL', 'r20_max', 'r50_max', 'r80_max', 'r90_max', 'r20_120', 'r50_120', 'r80_120', 'r90_120', 'r20_100', 'r50_100', 'r80_100', 'r90_100', 'c82_max', 'c82_120', 'c82_100', 'field', 'weight']\n"
     ]
    }
   ],
   "source": [
    "mass_tab = Table(mass_prep)\n",
    "print(mass_tab.colnames)"
   ]
  },
  {
   "cell_type": "code",
   "execution_count": null,
   "metadata": {},
   "outputs": [],
   "source": [
    "mass_tab.write('..')"
   ]
  },
  {
   "cell_type": "code",
   "execution_count": 12,
   "metadata": {},
   "outputs": [],
   "source": [
    "# HSC Volume\n",
    "z_low, z_upp = 0.19, 0.52\n",
    "s16a_area = 144.7\n",
    "\n",
    "cosmo = FlatLambdaCDM(H0=70.0, Om0=0.3)\n",
    "s16a_vol = ((cosmo.comoving_volume(z_upp) - cosmo.comoving_volume(z_low)) * \n",
    "            (s16a_area / 41254.0)).value"
   ]
  },
  {
   "cell_type": "code",
   "execution_count": null,
   "metadata": {},
   "outputs": [],
   "source": []
  }
 ],
 "metadata": {
  "kernelspec": {
   "display_name": "Python 3",
   "language": "python",
   "name": "python3"
  },
  "language_info": {
   "codemirror_mode": {
    "name": "ipython",
    "version": 3
   },
   "file_extension": ".py",
   "mimetype": "text/x-python",
   "name": "python",
   "nbconvert_exporter": "python",
   "pygments_lexer": "ipython3",
   "version": "3.7.6"
  }
 },
 "nbformat": 4,
 "nbformat_minor": 4
}
