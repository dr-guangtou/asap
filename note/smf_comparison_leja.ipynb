{
 "cells": [
  {
   "cell_type": "code",
   "execution_count": 14,
   "metadata": {},
   "outputs": [
    {
     "name": "stdout",
     "output_type": "stream",
     "text": [
      "The autoreload extension is already loaded. To reload it, use:\n",
      "  %reload_ext autoreload\n"
     ]
    }
   ],
   "source": [
    "%matplotlib inline\n",
    "%load_ext autoreload\n",
    "%autoreload 2\n",
    "\n",
    "import os\n",
    "import sys\n",
    "import copy \n",
    "import warnings\n",
    "import cProfile\n",
    "\n",
    "from time import time\n",
    "\n",
    "from astropy.stats import sigma_clip\n",
    "from astropy.table import Table, Column, vstack\n",
    "\n",
    "import numpy as np \n",
    "\n",
    "import matplotlib.pyplot as plt\n",
    "import matplotlib.patches as patches\n",
    "from matplotlib import rcParams\n",
    "\n",
    "from asap import io\n",
    "from asap import smf \n",
    "from asap import config\n",
    "from asap import fitting\n",
    "from asap import ensemble\n",
    "from asap import plotting\n",
    "from asap.parameters import AsapParams\n",
    "from asap.likelihood import ln_likelihood, ln_probability\n",
    "from asap.predictions import (predict_mstar_basic, predict_smf, predict_mhalo,\n",
    "                              predict_dsigma_profiles, make_model_predictions)\n",
    "\n",
    "plt.rc('text', usetex=True)\n",
    "\n",
    "rcParams.update({'axes.linewidth': 1.5})\n",
    "rcParams.update({'xtick.direction': 'in'})\n",
    "rcParams.update({'ytick.direction': 'in'})\n",
    "rcParams.update({'xtick.minor.visible': 'True'})\n",
    "rcParams.update({'ytick.minor.visible': 'True'})\n",
    "rcParams.update({'xtick.major.pad': '7.0'})\n",
    "rcParams.update({'xtick.major.size': '8.0'})\n",
    "rcParams.update({'xtick.major.width': '1.5'})\n",
    "rcParams.update({'xtick.minor.pad': '7.0'})\n",
    "rcParams.update({'xtick.minor.size': '4.0'})\n",
    "rcParams.update({'xtick.minor.width': '1.5'})\n",
    "rcParams.update({'ytick.major.pad': '7.0'})\n",
    "rcParams.update({'ytick.major.size': '8.0'})\n",
    "rcParams.update({'ytick.major.width': '1.5'})\n",
    "rcParams.update({'ytick.minor.pad': '7.0'})\n",
    "rcParams.update({'ytick.minor.size': '4.0'})\n",
    "rcParams.update({'ytick.minor.width': '1.5'})\n",
    "rcParams.update({'axes.titlepad': '10.0'})\n",
    "rcParams.update({'font.size': 25})"
   ]
  },
  {
   "cell_type": "code",
   "execution_count": 27,
   "metadata": {},
   "outputs": [],
   "source": [
    "# From \n",
    "\n",
    "def schechter(logm, logphi, logmstar, alpha, m_lower=None):\n",
    "    \"\"\"\n",
    "    Generate a Schechter function (in dlogm).\n",
    "    \"\"\"\n",
    "    phi = ((10**logphi) * np.log(10) *\n",
    "           10**((logm - logmstar) * (alpha + 1)) *\n",
    "           np.exp(-10**(logm - logmstar)))\n",
    "    return phi\n",
    "\n",
    "def parameter_at_z0(y, z0, z1=0.2, z2=1.6, z3=3.0):\n",
    "    \"\"\"\n",
    "    Compute parameter at redshift ‘z0‘ as a function\n",
    "    of the polynomial parameters ‘y‘ and the\n",
    "    redshift anchor points ‘z1‘, ‘z2‘, and ‘z3‘.\n",
    "    \"\"\"\n",
    "    y1, y2, y3 = y\n",
    "    a = (((y3 - y1) + (y2 - y1) / (z2 - z1) * (z1 - z3)) /\n",
    "         (z3**2 - z1**2 + (z2**2 - z1**2) / (z2 - z1) * (z1 - z3)))\n",
    "    b = ((y2 - y1) - a * (z2**2 - z1**2)) / (z2 - z1)\n",
    "    c = y1 - a * z1**2 - b * z1\n",
    "    \n",
    "    return a * z0**2 + b * z0 + c\n",
    "\n",
    "def get_smf_leja19(z0, ndraw=1000):\n",
    "    # Continuity model median parameters + 1-sigma uncertainties.\n",
    "    pars = {'logphi1': [-2.44, -3.08, -4.14],\n",
    "            'logphi1_err': [0.02, 0.03, 0.1],\n",
    "            'logphi2': [-2.89, -3.29, -3.51],\n",
    "            'logphi2_err': [0.04, 0.03, 0.03],\n",
    "            'logmstar': [10.79,10.88,10.84],\n",
    "            'logmstar_err': [0.02, 0.02, 0.04],\n",
    "            'alpha1': [-0.28],\n",
    "            'alpha1_err': [0.07],\n",
    "            'alpha2': [-1.48],\n",
    "            'alpha2_err': [0.1]}\n",
    "\n",
    "    # Draw samples from posterior assuming independent Gaussian uncertainties.\n",
    "    # Then convert to mass function at ‘z=z0‘.\n",
    "    draws = {}\n",
    "\n",
    "    for par in ['logphi1', 'logphi2', 'logmstar', 'alpha1', 'alpha2']:\n",
    "        samp = np.array([np.random.normal(median, scale=err, size=ndraw)\n",
    "                         for median, err in zip(pars[par], pars[par+'_err'])])\n",
    "        if par in ['logphi1', 'logphi2', 'logmstar']:\n",
    "            draws[par] = parameter_at_z0(samp, z0)\n",
    "        else:\n",
    "            draws[par] = samp.squeeze()\n",
    "\n",
    "    # Generate Schechter functions.\n",
    "    logm = np.linspace(8, 12, 100)[:, None]  # log(M) grid\n",
    "\n",
    "    phi1 = schechter(logm, draws['logphi1'],  # primary component\n",
    "                     draws['logmstar'], draws['alpha1'])\n",
    "    phi2 = schechter(logm, draws['logphi2'],  # secondary component\n",
    "                     draws['logmstar'], draws['alpha2'])\n",
    "    phi = phi1 + phi2  # combined mass function\n",
    "\n",
    "    # Compute median and 1-sigma uncertainties as a function of mass.\n",
    "    phi_50, phi_84, phi_16 = np.percentile(phi, [50, 84, 16], axis=1)\n",
    "    \n",
    "    return logm.flatten(), phi_50, phi_84, phi_16"
   ]
  },
  {
   "cell_type": "code",
   "execution_count": 34,
   "metadata": {},
   "outputs": [],
   "source": [
    "logm, smf_2, smf_2_low, smf_2_upp = get_smf_leja19(0.2)\n",
    "logm, smf_3, smf_3_low, smf_3_upp = get_smf_leja19(0.3)\n",
    "logm, smf_4, smf_4_low, smf_4_upp = get_smf_leja19(0.4)\n",
    "logm, smf_5, smf_5_low, smf_5_upp = get_smf_leja19(0.5)\n",
    "logm, smf_10, smf_10_low, smf_10_upp = get_smf_leja19(1.0)"
   ]
  },
  {
   "cell_type": "code",
   "execution_count": 8,
   "metadata": {},
   "outputs": [
    {
     "name": "stdout",
     "output_type": "stream",
     "text": [
      "# Running model: asap_test_final_6\n",
      "#    Will use emcee as sampler ...\n",
      "#    Use   256 walkers with    snooker moves for   200 x  3 steps of burn-in\n",
      "#    Use   256 walkers with        kde moves for 15000 steps of sampling\n",
      "\n",
      "# Observations:\n",
      "# Galaxy catalog: s16a_wide2_massive_fsps1_imgsub_use_short.fits\n",
      "# DSigma results: s16a_wide2_dsigma_logm11.6_12_bins.npy\n",
      "# SMF of inner Mstar: s16a_wide2_massive_smf_m10_11.6.npy\n",
      "# SMF of total Mstar: s16a_wide2_massive_smf_mmax_11.6.npy\n",
      "# Covariances for SMFs: s16a_wide2_massive_smf_mmax_m10_cov.npy\n",
      "# Reference SMF: primus_smf_z0.3_0.4.fits\n",
      "# Column of inner Mstar: logm_10\n",
      "# Column of total Mstar: logm_max\n",
      "\n",
      "# UniverseMachine:\n",
      "# Galaxy catalog : um_smdpl_insitu_exsitu_0.7124_basic_logmp_11.5_short.npy\n",
      "# DSigma results : um_smdpl_insitu_exsitu_0.7124_basic_logmp_11.5_50m_r_0.08_50_22bins.npy\n",
      "# Volumn of the simulation:    205348196.23 Mpc^3\n",
      "# Halo mass : logmh_host\n",
      "# Stellar mass : logms_tot\n",
      "# There are 12 DSigma profiles in this sample\n",
      "# SMF for total stellar mass: \n",
      "  11.6000 -- 12.3000 in 7 bins\n",
      "# SMF for inner stellar mass: \n",
      "  10.8000 -- 11.8000 in 10 bins\n",
      "# For inner stellar mass: \n",
      "    10 bins at 10.80 < logMinn < 11.80\n",
      "# For total stellar mass: \n",
      "    7 bins at 11.60 < logMtot < 12.30\n",
      "# The volume of the HSC data is    101441428.40 Mpc^3\n",
      "# 1124544 out of 1557939 galaxies are central\n"
     ]
    }
   ],
   "source": [
    "test_dir = '../model/'\n",
    "model_str = 'final_6'\n",
    "\n",
    "# The configuration file\n",
    "config_file = os.path.join(test_dir, 'asap_test_%s.yaml' % model_str)\n",
    "\n",
    "# The results from the 3-stage burn-in results\n",
    "burnin_file_1 = os.path.join(test_dir, 'asap_test_%s_burnin_1.npz' % model_str)\n",
    "burnin_file_2 = os.path.join(test_dir, 'asap_test_%s_burnin_2.npz' % model_str)\n",
    "#burnin_file_3 = os.path.join(test_dir, 'asap_test_%s_burnin_3.npz' % model_str)\n",
    "\n",
    "# The results of the final sampling process\n",
    "result_file = os.path.join(test_dir, 'asap_test_%s_sample.npz' % model_str)\n",
    "\n",
    "# Initialize the model, load the data\n",
    "cfg, params, obs_data, um_data = fitting.initial_model(config_file, verbose=True)"
   ]
  },
  {
   "cell_type": "code",
   "execution_count": 7,
   "metadata": {},
   "outputs": [
    {
     "data": {
      "text/plain": [
       "array([(11.65, 11.6, 11.7, 1.71161607e-04, 1.20814277e-05, 1.59080179e-04, 1.83243035e-04),\n",
       "       (11.75, 11.7, 11.8, 8.47523361e-05, 7.80613369e-06, 7.69462024e-05, 9.25584698e-05),\n",
       "       (11.85, 11.8, 11.9, 3.54304684e-05, 4.30153739e-06, 3.11289310e-05, 3.97320058e-05),\n",
       "       (11.95, 11.9, 12. , 1.29720695e-05, 2.80263948e-06, 1.01694301e-05, 1.57747090e-05),\n",
       "       (12.05, 12. , 12.1, 3.14448583e-06, 1.26828718e-06, 1.87619864e-06, 4.41277301e-06),\n",
       "       (12.15, 12.1, 12.2, 8.79523394e-07, 6.43642169e-07, 2.35881225e-07, 1.52316556e-06),\n",
       "       (12.25, 12.2, 12.3, 1.82666668e-07, 2.87105622e-07, 1.00000000e-08, 4.69772289e-07)],\n",
       "      dtype=[('logm_mean', '<f8'), ('logm_0', '<f8'), ('logm_1', '<f8'), ('smf', '<f8'), ('smf_err', '<f8'), ('smf_low', '<f8'), ('smf_upp', '<f8')])"
      ]
     },
     "execution_count": 7,
     "metadata": {},
     "output_type": "execute_result"
    }
   ],
   "source": [
    "obs_data['smf_tot']"
   ]
  },
  {
   "cell_type": "code",
   "execution_count": 36,
   "metadata": {},
   "outputs": [
    {
     "data": {
      "image/png": "[encoded data removed]",
      "text/plain": [
       "<Figure size 504x432 with 1 Axes>"
      ]
     },
     "metadata": {
      "needs_background": "light"
     },
     "output_type": "display_data"
    }
   ],
   "source": [
    "fig = plt.figure(figsize=(7, 6))\n",
    "fig.subplots_adjust(left=0.18, right=0.99,\n",
    "                    bottom=0.13, top=0.95,\n",
    "                    wspace=0.00, hspace=0.00)\n",
    "ax1 = fig.add_subplot(111)\n",
    "ax1.grid(linestyle='--', alpha=0.4, linewidth=2)\n",
    "\n",
    "ax1.set_yscale(\"log\", nonposy='clip')\n",
    "\n",
    "ax1.fill_between(logm, smf_2_low, smf_2_upp, alpha=0.4)\n",
    "ax1.plot(logm, smf_2, linestyle='-', linewidth=5.0, alpha=0.6, \n",
    "         label=r'${\\rm Leja19}\\ z=0.2$')\n",
    "\n",
    "ax1.fill_between(logm, smf_5_low, smf_5_upp, alpha=0.4)\n",
    "ax1.plot(logm, smf_5, linestyle='-', linewidth=5.0, alpha=0.6, \n",
    "         label=r'${\\rm Leja19}\\ z=0.5$')\n",
    "\n",
    "ax1.fill_between(logm, smf_10_low, smf_10_upp, alpha=0.4)\n",
    "ax1.plot(logm, smf_10, linestyle='-', linewidth=5.0, alpha=0.6, \n",
    "         label=r'${\\rm Leja19}\\ z=1.0$')\n",
    "\n",
    "ax1.fill_between(obs_data['smf_tot']['logm_mean'], \n",
    "                 obs_data['smf_tot']['smf_low'],\n",
    "                 obs_data['smf_tot']['smf_upp'], alpha=0.4)\n",
    "ax1.plot(obs_data['smf_tot']['logm_mean'], obs_data['smf_tot']['smf'], \n",
    "         linestyle='--', linewidth=5.0, alpha=0.6, \n",
    "         label=r'${\\rm HSC}\\ z\\sim 0.4$')\n",
    "\n",
    "ax1.legend(loc='best', fontsize=22)\n",
    "\n",
    "_ = ax1.set_xlim(9.9, 12.3)\n",
    "_ = ax1.set_ylim(0.5e-8, 4e-2)\n",
    "\n",
    "_ = ax1.set_xlabel(r'$\\log (M_{\\star}/M_{\\odot})$', fontsize=30)\n",
    "_ = ax1.set_ylabel(r'$\\Phi$', fontsize=30)"
   ]
  },
  {
   "cell_type": "code",
   "execution_count": null,
   "metadata": {},
   "outputs": [],
   "source": []
  }
 ],
 "metadata": {
  "kernelspec": {
   "display_name": "Python 3",
   "language": "python",
   "name": "python3"
  },
  "language_info": {
   "codemirror_mode": {
    "name": "ipython",
    "version": 3
   },
   "file_extension": ".py",
   "mimetype": "text/x-python",
   "name": "python",
   "nbconvert_exporter": "python",
   "pygments_lexer": "ipython3",
   "version": "3.7.4"
  }
 },
 "nbformat": 4,
 "nbformat_minor": 4
}
