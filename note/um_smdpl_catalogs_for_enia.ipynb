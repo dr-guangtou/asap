{
 "cells": [
  {
   "cell_type": "code",
   "execution_count": 1,
   "metadata": {
    "ExecuteTime": {
     "end_time": "2018-02-24T01:32:33.759054Z",
     "start_time": "2018-02-24T01:32:32.399615Z"
    }
   },
   "outputs": [],
   "source": [
    "%matplotlib inline\n",
    "%load_ext autoreload \n",
    "%autoreload 2\n",
    "\n",
    "import os\n",
    "import sys\n",
    "import copy \n",
    "from time import time\n",
    "\n",
    "from astropy.table import Table, Column, vstack\n",
    "\n",
    "import numpy as np \n",
    "import matplotlib.pyplot as plt\n",
    "    \n",
    "import matplotlib.mlab as ml\n",
    "from mpl_toolkits.axes_grid1 import make_axes_locatable\n",
    "from matplotlib.ticker import MaxNLocator\n",
    "\n",
    "from astroML.stats import binned_statistic_2d\n",
    "\n",
    "from cap_loess_2d import loess_2d\n",
    "from cap_plot_velfield import plot_velfield\n",
    "\n",
    "from mpl_toolkits.axes_grid1 import make_axes_locatable\n",
    "\n",
    "%config InlineBackend.figure_format='retina'\n",
    "plt.rcParams['figure.dpi'] = 100.0\n",
    "plt.rcParams['figure.facecolor'] = 'w'\n",
    "plt.rcParams['font.family'] = 'serif'\n",
    "plt.rcParams['font.size'] = 12.0\n",
    "plt.rc('text', usetex=True)\n",
    "\n",
    "from hsc_massive import \\\n",
    "    s16a_path, \\\n",
    "    sample_selection, \\\n",
    "    prepare_sed, \\\n",
    "    catalog_summary, \\\n",
    "    mass_function, \\\n",
    "    smhm, \\\n",
    "    plotting"
   ]
  },
  {
   "cell_type": "markdown",
   "metadata": {
    "ExecuteTime": {
     "end_time": "2018-01-16T20:26:52.390370Z",
     "start_time": "2018-01-16T20:26:52.367204Z"
    }
   },
   "source": [
    "# Catalogs for Enia\n",
    "\n",
    "For quick computation using the same Universe Machine Multidark simulations as we are using for your project. \n",
    "\n",
    "She will be using halo tools to compute \n",
    "1. the correlation function between halos with Mhalo>10^14 and DESI like galaxies\n",
    "2. the correlation function between halos with Mhalo>10^14 and dark matter particles.\n",
    "\n",
    "Catalogs:\n",
    "1. take the galaxies in the UM mock and make a stellar mass cut such that the cumulative number density is about 6e-3 (with h=1). Send Enia the galaxy catalog (she just needs x,y,z positions, central satellite flag).\n",
    "2. x, y, z, Mhalo for halos with Mhalo>1e14\n",
    "3. x,y,z for dark matter particles"
   ]
  },
  {
   "cell_type": "code",
   "execution_count": 2,
   "metadata": {
    "ExecuteTime": {
     "end_time": "2018-02-24T01:32:35.238812Z",
     "start_time": "2018-02-24T01:32:35.211582Z"
    }
   },
   "outputs": [
    {
     "name": "stdout",
     "output_type": "stream",
     "text": [
      "# Volume of the UniverseMachine model: 64000000 Mpc\n"
     ]
    }
   ],
   "source": [
    "um_smdpl_box = 400.0 # Mpc \n",
    "um_smdpl_h0 = 1.0 \n",
    "um_smdpl_vol = np.power(um_smdpl_box / um_smdpl_h0, 3.0)\n",
    "\n",
    "print(\"# Volume of the UniverseMachine model: %d Mpc\" % um_smdpl_vol)"
   ]
  },
  {
   "cell_type": "code",
   "execution_count": 3,
   "metadata": {
    "ExecuteTime": {
     "end_time": "2018-02-24T01:32:36.162061Z",
     "start_time": "2018-02-24T01:32:36.133336Z"
    }
   },
   "outputs": [
    {
     "data": {
      "text/plain": [
       "384000.0"
      ]
     },
     "execution_count": 3,
     "metadata": {},
     "output_type": "execute_result"
    }
   ],
   "source": [
    "um_smdpl_vol * 6.0E-3"
   ]
  },
  {
   "cell_type": "code",
   "execution_count": 5,
   "metadata": {
    "ExecuteTime": {
     "end_time": "2018-02-24T01:33:54.616183Z",
     "start_time": "2018-02-24T01:33:48.135914Z"
    }
   },
   "outputs": [
    {
     "name": "stdout",
     "output_type": "stream",
     "text": [
      "(3194800, 14478087)\n"
     ]
    }
   ],
   "source": [
    "um_smdpl_dir = '/Users/song/data/massive/dr16a/um2/um2_new/um_smdpl'\n",
    "# um_smdpl_dir = '/Users/song/astro5/massive/dr16a/um2/um2_new/um_smdpl_small'\n",
    "um_smdpl_short = 'sfr_catalog_insitu_exsitu_0.712400_final_logmp_11.npz'\n",
    "\n",
    "um_smdpl_new_cen = np.load(\n",
    "    os.path.join(um_smdpl_dir, um_smdpl_short))['centrals']\n",
    "um_smdpl_new_sat = np.load(\n",
    "    os.path.join(um_smdpl_dir, um_smdpl_short))['satellites']\n",
    "\n",
    "print(len(um_smdpl_new_cen), len(um_smdpl_new_sat))"
   ]
  },
  {
   "cell_type": "code",
   "execution_count": 6,
   "metadata": {
    "ExecuteTime": {
     "end_time": "2018-02-24T01:34:02.941064Z",
     "start_time": "2018-02-24T01:33:58.484419Z"
    },
    "scrolled": false
   },
   "outputs": [
    {
     "name": "stdout",
     "output_type": "stream",
     "text": [
      "['id', 'upid', 'x', 'y', 'z', 'vx', 'vy', 'vz', 'm', 'mp', 'sm', 'icl', 'sfr']\n"
     ]
    }
   ],
   "source": [
    "um_smdpl_tab_cen = Table(um_smdpl_new_cen)\n",
    "um_smdpl_tab_sat = Table(um_smdpl_new_sat)\n",
    "\n",
    "um_smdpl_tab = vstack([um_smdpl_tab_cen, um_smdpl_tab_sat])\n",
    "print(um_smdpl_tab.colnames)"
   ]
  },
  {
   "cell_type": "code",
   "execution_count": 7,
   "metadata": {
    "ExecuteTime": {
     "end_time": "2018-02-24T01:34:09.734238Z",
     "start_time": "2018-02-24T01:34:09.542890Z"
    }
   },
   "outputs": [],
   "source": [
    "um_smdpl_tab.add_column(Column(data=(um_smdpl_tab['sm'] + um_smdpl_tab['icl']), \n",
    "                               name='ms_tot'))"
   ]
  },
  {
   "cell_type": "code",
   "execution_count": 8,
   "metadata": {
    "ExecuteTime": {
     "end_time": "2018-02-24T01:34:37.100427Z",
     "start_time": "2018-02-24T01:34:11.534781Z"
    }
   },
   "outputs": [],
   "source": [
    "um_smdpl_tab.write(\n",
    "    os.path.join(um_smdpl_dir, 'sfr_catalog_insitu_exsitu_0.712400_final_logmp_11.fits'),\n",
    "    format='fits', overwrite=True)"
   ]
  },
  {
   "cell_type": "markdown",
   "metadata": {},
   "source": [
    "## Catalog 1"
   ]
  },
  {
   "cell_type": "code",
   "execution_count": 47,
   "metadata": {
    "ExecuteTime": {
     "end_time": "2018-01-16T21:04:07.865565Z",
     "start_time": "2018-01-16T21:03:54.346441Z"
    }
   },
   "outputs": [],
   "source": [
    "um_smdpl_tab.sort('ms_tot')\n",
    "um_smdpl_tab.reverse()"
   ]
  },
  {
   "cell_type": "code",
   "execution_count": 49,
   "metadata": {
    "ExecuteTime": {
     "end_time": "2018-01-16T21:06:51.144571Z",
     "start_time": "2018-01-16T21:06:51.117727Z"
    }
   },
   "outputs": [
    {
     "data": {
      "text/plain": [
       "10.623796983177254"
      ]
     },
     "execution_count": 49,
     "metadata": {},
     "output_type": "execute_result"
    }
   ],
   "source": [
    "np.log10(um_smdpl_tab[384000]['ms_tot'])"
   ]
  },
  {
   "cell_type": "code",
   "execution_count": 51,
   "metadata": {},
   "outputs": [],
   "source": [
    "um_smdpl_gal1 = um_smdpl_tab[:384000]\n",
    "\n",
    "um_smdpl_gal1.write(os.path.join('/Users/song/Downloads/',\n",
    "                                 'um_smdpl_logms_gal_top_4m.fits'))"
   ]
  },
  {
   "cell_type": "markdown",
   "metadata": {},
   "source": [
    "## Catalog 2"
   ]
  },
  {
   "cell_type": "code",
   "execution_count": 52,
   "metadata": {},
   "outputs": [
    {
     "name": "stdout",
     "output_type": "stream",
     "text": [
      "1805\n"
     ]
    }
   ],
   "source": [
    "halo_mask = ((um_smdpl_tab['upid'] == -1) & \n",
    "             (np.log10(um_smdpl_tab['mp']) >= 14.0))\n",
    "print(sum(halo_mask))"
   ]
  },
  {
   "cell_type": "code",
   "execution_count": 53,
   "metadata": {},
   "outputs": [],
   "source": [
    "um_smdpl_gal2 = um_smdpl_tab[halo_mask]\n",
    "\n",
    "um_smdpl_gal2.write(os.path.join('/Users/song/Downloads/',\n",
    "                                 'um_smdpl_logmh_peak_14.0.fits'))"
   ]
  },
  {
   "cell_type": "markdown",
   "metadata": {},
   "source": [
    "## Catalog 3: Particles"
   ]
  },
  {
   "cell_type": "code",
   "execution_count": 8,
   "metadata": {},
   "outputs": [],
   "source": [
    "um_smdpl_10m = np.load('/Users/song/astro5/massive/dr16a/um2/um2_new/um_smdpl_particles_0.7124_10m_v.npy')\n",
    "um_smdpl_50m = np.load('/Users/song/astro5/massive/dr16a/um2/um2_new/um_smdpl_particles_0.7124_50m_v.npy')"
   ]
  },
  {
   "cell_type": "code",
   "execution_count": 9,
   "metadata": {},
   "outputs": [],
   "source": [
    "um_smdpl_10m_tab = Table(um_smdpl_10m)\n",
    "um_smdpl_50m_tab = Table(um_smdpl_50m)"
   ]
  },
  {
   "cell_type": "code",
   "execution_count": 10,
   "metadata": {},
   "outputs": [
    {
     "data": {
      "text/html": [
       "&lt;Table length=10000000&gt;\n",
       "<table id=\"table4554844240\" class=\"table-striped table-bordered table-condensed\">\n",
       "<thead><tr><th>x</th><th>y</th><th>z</th><th>vx</th><th>vy</th><th>vz</th></tr></thead>\n",
       "<thead><tr><th>float64</th><th>float64</th><th>float64</th><th>float64</th><th>float64</th><th>float64</th></tr></thead>\n",
       "<tr><td>26.385693</td><td>155.637787</td><td>272.54562400000003</td><td>306.78204300000004</td><td>875.9756470000001</td><td>-613.103516</td></tr>\n",
       "<tr><td>87.219139</td><td>112.175758</td><td>132.70533799999998</td><td>-173.78956599999998</td><td>260.49707</td><td>-16.969305</td></tr>\n",
       "<tr><td>138.164505</td><td>236.24818399999998</td><td>58.923714000000004</td><td>325.57662999999997</td><td>-188.93086200000002</td><td>-229.29731800000002</td></tr>\n",
       "<tr><td>174.715546</td><td>341.994141</td><td>32.361649</td><td>-213.701065</td><td>-277.57919300000003</td><td>205.549957</td></tr>\n",
       "<tr><td>157.268723</td><td>3.7650589999999995</td><td>227.342438</td><td>-383.187958</td><td>-51.1507</td><td>204.251892</td></tr>\n",
       "<tr><td>100.059814</td><td>397.09549</td><td>137.771408</td><td>884.2397460000001</td><td>235.00379900000001</td><td>-53.026073</td></tr>\n",
       "<tr><td>0.90895</td><td>88.962151</td><td>382.43255600000003</td><td>-82.771698</td><td>255.23345899999998</td><td>-430.706604</td></tr>\n",
       "<tr><td>141.053818</td><td>312.628723</td><td>154.497391</td><td>-133.73439</td><td>163.941177</td><td>249.331497</td></tr>\n",
       "<tr><td>52.208397</td><td>31.681793</td><td>353.586548</td><td>475.40487699999994</td><td>123.50423400000001</td><td>-507.69848600000006</td></tr>\n",
       "<tr><td>161.046295</td><td>197.29028300000002</td><td>268.847839</td><td>-31.773907</td><td>-165.50143400000002</td><td>279.120117</td></tr>\n",
       "<tr><td>...</td><td>...</td><td>...</td><td>...</td><td>...</td><td>...</td></tr>\n",
       "<tr><td>246.53010600000002</td><td>299.511597</td><td>51.068317</td><td>-405.056946</td><td>-256.310272</td><td>-329.390625</td></tr>\n",
       "<tr><td>249.48393199999998</td><td>161.2612</td><td>161.79895</td><td>556.487183</td><td>-84.741463</td><td>-296.771057</td></tr>\n",
       "<tr><td>92.32019</td><td>160.28624</td><td>369.543793</td><td>-9.479431</td><td>-77.3797</td><td>-463.864319</td></tr>\n",
       "<tr><td>268.344208</td><td>70.879623</td><td>122.30953999999998</td><td>-56.364838</td><td>537.7470089999999</td><td>-402.049042</td></tr>\n",
       "<tr><td>259.213593</td><td>198.68696599999998</td><td>311.01129199999997</td><td>-290.498688</td><td>230.20414700000003</td><td>542.428528</td></tr>\n",
       "<tr><td>109.84306299999999</td><td>86.593422</td><td>35.905468</td><td>-210.050659</td><td>-224.66394</td><td>419.190033</td></tr>\n",
       "<tr><td>153.994659</td><td>250.93920899999998</td><td>312.60195899999997</td><td>314.687317</td><td>533.3701169999999</td><td>-639.121399</td></tr>\n",
       "<tr><td>28.877484999999997</td><td>316.526154</td><td>155.58596799999998</td><td>197.23095700000002</td><td>-130.441299</td><td>355.506683</td></tr>\n",
       "<tr><td>395.823151</td><td>84.89739200000001</td><td>24.519533</td><td>-303.197449</td><td>-442.646515</td><td>-341.262329</td></tr>\n",
       "<tr><td>2.797488</td><td>72.322456</td><td>170.50882</td><td>53.726870999999996</td><td>149.800385</td><td>247.46966600000002</td></tr>\n",
       "</table>"
      ],
      "text/plain": [
       "<Table length=10000000>\n",
       "        x                  y          ...          vz        \n",
       "     float64            float64       ...       float64      \n",
       "------------------ ------------------ ... -------------------\n",
       "         26.385693         155.637787 ...         -613.103516\n",
       "         87.219139         112.175758 ...          -16.969305\n",
       "        138.164505 236.24818399999998 ... -229.29731800000002\n",
       "        174.715546         341.994141 ...          205.549957\n",
       "        157.268723 3.7650589999999995 ...          204.251892\n",
       "        100.059814          397.09549 ...          -53.026073\n",
       "           0.90895          88.962151 ...         -430.706604\n",
       "        141.053818         312.628723 ...          249.331497\n",
       "         52.208397          31.681793 ... -507.69848600000006\n",
       "        161.046295 197.29028300000002 ...          279.120117\n",
       "               ...                ... ...                 ...\n",
       "246.53010600000002         299.511597 ...         -329.390625\n",
       "249.48393199999998           161.2612 ...         -296.771057\n",
       "          92.32019          160.28624 ...         -463.864319\n",
       "        268.344208          70.879623 ...         -402.049042\n",
       "        259.213593 198.68696599999998 ...          542.428528\n",
       "109.84306299999999          86.593422 ...          419.190033\n",
       "        153.994659 250.93920899999998 ...         -639.121399\n",
       "28.877484999999997         316.526154 ...          355.506683\n",
       "        395.823151  84.89739200000001 ...         -341.262329\n",
       "          2.797488          72.322456 ...  247.46966600000002"
      ]
     },
     "execution_count": 10,
     "metadata": {},
     "output_type": "execute_result"
    }
   ],
   "source": [
    "um_smdpl_10m_tab"
   ]
  },
  {
   "cell_type": "code",
   "execution_count": 11,
   "metadata": {},
   "outputs": [],
   "source": [
    "um_smdpl_10m_tab.write('/Users/song/Downloads/um_smdpl_particles_0.7124_10m_v.fits', \n",
    "                       format='fits', overwrite=True)\n",
    "um_smdpl_50m_tab.write('/Users/song/Downloads/um_smdpl_particles_0.7124_50m_v.fits', \n",
    "                       format='fits', overwrite=True)"
   ]
  }
 ],
 "metadata": {
  "hide_input": false,
  "kernelspec": {
   "display_name": "Python 2",
   "language": "python",
   "name": "python2"
  },
  "language_info": {
   "codemirror_mode": {
    "name": "ipython",
    "version": 2
   },
   "file_extension": ".py",
   "mimetype": "text/x-python",
   "name": "python",
   "nbconvert_exporter": "python",
   "pygments_lexer": "ipython2",
   "version": "2.7.15"
  },
  "nav_menu": {},
  "toc": {
   "colors": {
    "hover_highlight": "#DAA520",
    "navigate_num": "#000000",
    "navigate_text": "#333333",
    "running_highlight": "#FF0000",
    "selected_highlight": "#FFD700",
    "sidebar_border": "#EEEEEE",
    "wrapper_background": "#FFFFFF"
   },
   "moveMenuLeft": true,
   "nav_menu": {
    "height": "84px",
    "width": "253px"
   },
   "navigate_menu": true,
   "number_sections": true,
   "sideBar": true,
   "threshold": 4,
   "toc_cell": false,
   "toc_section_display": "block",
   "toc_window_display": false,
   "widenNotebook": false
  }
 },
 "nbformat": 4,
 "nbformat_minor": 2
}
