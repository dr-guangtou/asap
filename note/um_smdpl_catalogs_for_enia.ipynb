{
 "cells": [
  {
   "cell_type": "code",
   "execution_count": 1,
   "metadata": {
    "ExecuteTime": {
     "end_time": "2018-01-16T20:49:12.040115Z",
     "start_time": "2018-01-16T20:49:11.765235Z"
    }
   },
   "outputs": [],
   "source": [
    "%matplotlib inline\n",
    "%load_ext autoreload \n",
    "%autoreload 2\n",
    "\n",
    "import os\n",
    "import sys\n",
    "import copy \n",
    "from time import time\n",
    "\n",
    "from astropy.table import Table, Column, vstack\n",
    "\n",
    "import numpy as np \n",
    "import matplotlib.pyplot as plt\n",
    "    \n",
    "import matplotlib.mlab as ml\n",
    "from mpl_toolkits.axes_grid1 import make_axes_locatable\n",
    "from matplotlib.ticker import MaxNLocator\n",
    "\n",
    "from astroML.stats import binned_statistic_2d\n",
    "\n",
    "from cap_loess_2d import loess_2d\n",
    "from cap_plot_velfield import plot_velfield\n",
    "\n",
    "from mpl_toolkits.axes_grid1 import make_axes_locatable\n",
    "\n",
    "%config InlineBackend.figure_format='retina'\n",
    "plt.rcParams['figure.dpi'] = 100.0\n",
    "plt.rcParams['figure.facecolor'] = 'w'\n",
    "plt.rcParams['font.family'] = 'serif'\n",
    "plt.rcParams['font.size'] = 12.0\n",
    "plt.rc('text', usetex=True)\n",
    "\n",
    "from hsc_massive import \\\n",
    "    s16a_path, \\\n",
    "    sample_selection, \\\n",
    "    prepare_sed, \\\n",
    "    catalog_summary, \\\n",
    "    mass_function, \\\n",
    "    smhm, \\\n",
    "    plotting"
   ]
  },
  {
   "cell_type": "markdown",
   "metadata": {
    "ExecuteTime": {
     "end_time": "2018-01-16T20:26:52.390370Z",
     "start_time": "2018-01-16T20:26:52.367204Z"
    }
   },
   "source": [
    "# Catalogs for Enia\n",
    "\n",
    "For quick computation using the same Universe Machine Multidark simulations as we are using for your project. \n",
    "\n",
    "She will be using halo tools to compute \n",
    "1. the correlation function between halos with Mhalo>10^14 and DESI like galaxies\n",
    "2. the correlation function between halos with Mhalo>10^14 and dark matter particles.\n",
    "\n",
    "Catalogs:\n",
    "1. take the galaxies in the UM mock and make a stellar mass cut such that the cumulative number density is about 6e-3 (with h=1). Send Enia the galaxy catalog (she just needs x,y,z positions, central satellite flag).\n",
    "2. x, y, z, Mhalo for halos with Mhalo>1e14\n",
    "3. x,y,z for dark matter particles"
   ]
  },
  {
   "cell_type": "code",
   "execution_count": 38,
   "metadata": {
    "ExecuteTime": {
     "end_time": "2018-01-16T20:27:00.919639Z",
     "start_time": "2018-01-16T20:27:00.896596Z"
    }
   },
   "outputs": [
    {
     "name": "stdout",
     "output_type": "stream",
     "text": [
      "# Volume of the UniverseMachine model: 64000000 Mpc\n"
     ]
    }
   ],
   "source": [
    "um_smdpl_box = 400.0 # Mpc \n",
    "um_smdpl_h0 = 1.0 \n",
    "um_smdpl_vol = np.power(um_smdpl_box / um_smdpl_h0, 3.0)\n",
    "\n",
    "print(\"# Volume of the UniverseMachine model: %d Mpc\" % um_smdpl_vol)"
   ]
  },
  {
   "cell_type": "code",
   "execution_count": 39,
   "metadata": {
    "ExecuteTime": {
     "end_time": "2018-01-16T21:02:09.416271Z",
     "start_time": "2018-01-16T21:02:09.387159Z"
    }
   },
   "outputs": [
    {
     "data": {
      "text/plain": [
       "384000.0"
      ]
     },
     "execution_count": 39,
     "metadata": {},
     "output_type": "execute_result"
    }
   ],
   "source": [
    "um_smdpl_vol * 6.0E-3"
   ]
  },
  {
   "cell_type": "code",
   "execution_count": 40,
   "metadata": {
    "ExecuteTime": {
     "end_time": "2018-01-16T20:44:31.559171Z",
     "start_time": "2018-01-16T20:44:24.213857Z"
    }
   },
   "outputs": [
    {
     "name": "stdout",
     "output_type": "stream",
     "text": [
      "(3194800, 14478087)\n"
     ]
    }
   ],
   "source": [
    "# um_smdpl_dir = '/Users/song/data/massive/dr16a/um2/um2_new/um_smdpl_small'\n",
    "um_smdpl_dir = '/Users/song/astro5/massive/dr16a/um2/um2_new/um_smdpl_small'\n",
    "um_smdpl_short = 'sfr_catalog_insitu_exsitu_0.712400_final_logmp_11.npz'\n",
    "\n",
    "um_smdpl_new_cen = np.load(\n",
    "    os.path.join(um_smdpl_dir, um_smdpl_short))['centrals']\n",
    "um_smdpl_new_sat = np.load(\n",
    "    os.path.join(um_smdpl_dir, um_smdpl_short))['satellites']\n",
    "\n",
    "print(len(um_smdpl_new_cen), len(um_smdpl_new_sat))"
   ]
  },
  {
   "cell_type": "code",
   "execution_count": 42,
   "metadata": {
    "scrolled": false
   },
   "outputs": [
    {
     "name": "stdout",
     "output_type": "stream",
     "text": [
      "['id', 'upid', 'x', 'y', 'z', 'vx', 'vy', 'vz', 'm', 'mp', 'sm', 'icl', 'sfr']\n"
     ]
    }
   ],
   "source": [
    "um_smdpl_tab_cen = Table(um_smdpl_new_cen)\n",
    "um_smdpl_tab_sat = Table(um_smdpl_new_sat)\n",
    "\n",
    "um_smdpl_tab = vstack([um_smdpl_tab_cen, um_smdpl_tab_sat])\n",
    "print(um_smdpl_tab.colnames)"
   ]
  },
  {
   "cell_type": "code",
   "execution_count": 44,
   "metadata": {},
   "outputs": [],
   "source": [
    "um_smdpl_tab.write(\n",
    "    os.path.join(um_smdpl_dir, 'sfr_catalog_insitu_exsitu_0.712400_final_logmp_11.fits'),\n",
    "    format='fits', overwrite=True)"
   ]
  },
  {
   "cell_type": "code",
   "execution_count": 45,
   "metadata": {
    "ExecuteTime": {
     "end_time": "2018-01-16T20:50:25.316280Z",
     "start_time": "2018-01-16T20:50:25.228347Z"
    }
   },
   "outputs": [],
   "source": [
    "um_smdpl_tab.add_column(Column(data=(um_smdpl_tab['sm'] + um_smdpl_tab['icl']), \n",
    "                               name='ms_tot'))"
   ]
  },
  {
   "cell_type": "markdown",
   "metadata": {},
   "source": [
    "## Catalog 1"
   ]
  },
  {
   "cell_type": "code",
   "execution_count": 47,
   "metadata": {
    "ExecuteTime": {
     "end_time": "2018-01-16T21:04:07.865565Z",
     "start_time": "2018-01-16T21:03:54.346441Z"
    }
   },
   "outputs": [],
   "source": [
    "um_smdpl_tab.sort('ms_tot')\n",
    "um_smdpl_tab.reverse()"
   ]
  },
  {
   "cell_type": "code",
   "execution_count": 49,
   "metadata": {
    "ExecuteTime": {
     "end_time": "2018-01-16T21:06:51.144571Z",
     "start_time": "2018-01-16T21:06:51.117727Z"
    }
   },
   "outputs": [
    {
     "data": {
      "text/plain": [
       "10.623796983177254"
      ]
     },
     "execution_count": 49,
     "metadata": {},
     "output_type": "execute_result"
    }
   ],
   "source": [
    "np.log10(um_smdpl_tab[384000]['ms_tot'])"
   ]
  },
  {
   "cell_type": "code",
   "execution_count": 51,
   "metadata": {},
   "outputs": [],
   "source": [
    "um_smdpl_gal1 = um_smdpl_tab[:384000]\n",
    "\n",
    "um_smdpl_gal1.write(os.path.join('/Users/song/Downloads/',\n",
    "                                 'um_smdpl_logms_gal_top_4m.fits'))"
   ]
  },
  {
   "cell_type": "markdown",
   "metadata": {},
   "source": [
    "## Catalog 2"
   ]
  },
  {
   "cell_type": "code",
   "execution_count": 52,
   "metadata": {},
   "outputs": [
    {
     "name": "stdout",
     "output_type": "stream",
     "text": [
      "1805\n"
     ]
    }
   ],
   "source": [
    "halo_mask = ((um_smdpl_tab['upid'] == -1) & \n",
    "             (np.log10(um_smdpl_tab['mp']) >= 14.0))\n",
    "print(sum(halo_mask))"
   ]
  },
  {
   "cell_type": "code",
   "execution_count": 53,
   "metadata": {},
   "outputs": [],
   "source": [
    "um_smdpl_gal2 = um_smdpl_tab[halo_mask]\n",
    "\n",
    "um_smdpl_gal2.write(os.path.join('/Users/song/Downloads/',\n",
    "                                 'um_smdpl_logmh_peak_14.0.fits'))"
   ]
  },
  {
   "cell_type": "markdown",
   "metadata": {},
   "source": [
    "## Catalog 3: Particles"
   ]
  },
  {
   "cell_type": "code",
   "execution_count": 56,
   "metadata": {},
   "outputs": [],
   "source": [
    "um_smdpl_10m = np.load('/Users/song/astro5/massive/dr16a/um2/um2_new/um_smdpl_particles_0.7124_10m_v.npy')\n",
    "um_smdpl_50m = np.load('/Users/song/astro5/massive/dr16a/um2/um2_new/um_smdpl_particles_0.7124_50m_v.npy')"
   ]
  },
  {
   "cell_type": "code",
   "execution_count": 57,
   "metadata": {},
   "outputs": [],
   "source": [
    "um_smdpl_10m_tab = Table(um_smdpl_10m)\n",
    "um_smdpl_50m_tab = Table(um_smdpl_50m)"
   ]
  },
  {
   "cell_type": "code",
   "execution_count": 58,
   "metadata": {},
   "outputs": [],
   "source": [
    "um_smdpl_10m_tab.write('/Users/song/Downloads/um_smdpl_particles_0.7124_10m_v.fits', \n",
    "                       format='fits', overwrite=True)\n",
    "um_smdpl_50m_tab.write('/Users/song/Downloads/um_smdpl_particles_0.7124_50m_v.fits', \n",
    "                       format='fits', overwrite=True)"
   ]
  }
 ],
 "metadata": {
  "hide_input": false,
  "kernelspec": {
   "display_name": "Python 2",
   "language": "python",
   "name": "python2"
  },
  "language_info": {
   "codemirror_mode": {
    "name": "ipython",
    "version": 2
   },
   "file_extension": ".py",
   "mimetype": "text/x-python",
   "name": "python",
   "nbconvert_exporter": "python",
   "pygments_lexer": "ipython2",
   "version": "2.7.13"
  },
  "nav_menu": {},
  "toc": {
   "navigate_menu": true,
   "number_sections": true,
   "sideBar": true,
   "threshold": 4,
   "toc_cell": false,
   "toc_section_display": "block",
   "toc_window_display": false
  }
 },
 "nbformat": 4,
 "nbformat_minor": 2
}
