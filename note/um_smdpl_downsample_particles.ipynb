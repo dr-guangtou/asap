{
 "cells": [
  {
   "cell_type": "markdown",
   "metadata": {},
   "source": [
    "This notebook will read the dark matter particle table for the SMDPL simulation, and downsample it for our model.\n",
    "\n",
    "We will create two versions:\n",
    "1. default one will have 10 million particles.\n",
    "2. another one with 50 million particles for test.\n",
    "\n",
    "We will use fixed seed for random so the results can be reproduced.\n",
    "\n",
    "* There are 6 columns in the table, which are: `X Y Z VX VY VZ ID`\n",
    "* There are 113241782 particles in the table"
   ]
  },
  {
   "cell_type": "markdown",
   "metadata": {},
   "source": [
    "# Particle table"
   ]
  },
  {
   "cell_type": "code",
   "execution_count": 1,
   "metadata": {},
   "outputs": [],
   "source": [
    "%matplotlib inline\n",
    "%load_ext autoreload \n",
    "%autoreload 2\n",
    "\n",
    "import os\n",
    "import sys\n",
    "import copy \n",
    "from time import time\n",
    "\n",
    "import numpy as np \n",
    "import matplotlib.pyplot as plt\n",
    "    \n",
    "import matplotlib.mlab as ml\n",
    "from mpl_toolkits.axes_grid1 import make_axes_locatable\n",
    "from matplotlib.ticker import MaxNLocator\n",
    "\n",
    "%config InlineBackend.figure_format='retina'\n",
    "plt.rcParams['figure.dpi'] = 100.0\n",
    "plt.rcParams['figure.facecolor'] = 'w'\n",
    "plt.rcParams['font.family'] = 'serif'\n",
    "plt.rcParams['font.size'] = 12.0\n",
    "plt.rc('text', usetex=True)\n",
    "\n",
    "# Personal repo\n",
    "from stellar_mass_function import compute_smf, \\\n",
    "    bootstrap_smf\n",
    "from load_mdpl2_mock import value_added_smdpl_mock\n",
    "from model_predictions import total_stellar_mass_including_satellites\n",
    "    \n",
    "from hsc_massive import \\\n",
    "    s16a_path, \\\n",
    "    sample_selection, \\\n",
    "    prepare_sed, \\\n",
    "    catalog_summary, \\\n",
    "    smhm, \\\n",
    "    plotting"
   ]
  },
  {
   "cell_type": "code",
   "execution_count": 2,
   "metadata": {},
   "outputs": [],
   "source": [
    "# Setup environment \n",
    "envir = s16a_path.set_env(version='astro5')\n",
    "#envir = s16a_path.set_env(version='kungpao')\n",
    "\n",
    "# Folder for new UM model \n",
    "um_dir = os.path.join(envir['s16a'], 'um2/um2_new')\n",
    "um_smdpl_dir = os.path.join(um_dir, 'um_smdpl')\n",
    "\n",
    "# The gzipped particle table\n",
    "um_smdpl_ptbl = os.path.join(um_smdpl_dir, 'particles_0.712400_demo.txt')"
   ]
  },
  {
   "cell_type": "code",
   "execution_count": 3,
   "metadata": {},
   "outputs": [],
   "source": [
    "particle_table_dtype = [\n",
    "        (\"x\", \"float64\"), (\"y\", \"float64\"), (\"z\", \"float64\") # halo position (comoving Mpc/h)\n",
    "]"
   ]
  },
  {
   "cell_type": "code",
   "execution_count": 4,
   "metadata": {},
   "outputs": [],
   "source": [
    "um_smdpl_particles = np.loadtxt(um_smdpl_ptbl, usecols=[0, 1, 2],\n",
    "                                dtype=particle_table_dtype)"
   ]
  },
  {
   "cell_type": "markdown",
   "metadata": {},
   "source": [
    "## Try pandas"
   ]
  },
  {
   "cell_type": "code",
   "execution_count": 8,
   "metadata": {},
   "outputs": [],
   "source": [
    "import pandas as pd"
   ]
  },
  {
   "cell_type": "code",
   "execution_count": 35,
   "metadata": {},
   "outputs": [],
   "source": [
    "um_smdpl_pchunks = pd.read_csv(um_smdpl_ptbl, usecols=[0, 1, 2], delim_whitespace=True,\n",
    "                               names=['x', 'y', 'z', 'vx', 'vy', 'vz', 'id'], \n",
    "                               dtype=particle_table_dtype, index_col=False,\n",
    "                               chunksize=100)\n",
    "um_smdpl_pdframe = pd.concat(um_smdpl_pchunks) \n",
    "um_smdpl_precord = um_smdpl_pdframe.to_records(index=False)"
   ]
  },
  {
   "cell_type": "code",
   "execution_count": 36,
   "metadata": {},
   "outputs": [
    {
     "data": {
      "text/plain": [
       "array([(  0.554414,  3.620944,   4.901208),\n",
       "       (  1.838998,  3.358941,  11.42914 ),\n",
       "       (  1.460224,  2.60776 ,  11.639965),\n",
       "       (  3.435613,  2.901746,   4.131958),\n",
       "       (  1.550081,  1.911004,  10.203577),\n",
       "       (  7.726359,  4.966696,   7.731567),\n",
       "       (  1.45306 ,  2.564067,  11.682394),\n",
       "       (  3.494777,  0.367842,   4.753884),\n",
       "       (  5.267225,  5.51451 ,   5.069497),\n",
       "       (  7.053959,  3.248732,   9.290101),\n",
       "       (  2.121845,  2.271478,   9.827484),\n",
       "       (  3.347456,  0.219273,   7.149325),\n",
       "       (  0.794051,  0.771552,  12.103573),\n",
       "       ( 12.435402,  5.906353,   7.086499),\n",
       "       (  0.900026,  0.608125,  12.219157),\n",
       "       (  0.223927,  5.363194,  11.917305),\n",
       "       (  5.884121,  5.328557,  11.144092),\n",
       "       (  3.102147,  5.484324,   3.493193),\n",
       "       (  2.233747,  2.720783,   4.073768),\n",
       "       (  4.683961,  3.210879,   2.088361),\n",
       "       (  0.791117,  0.932481,  12.35815 ),\n",
       "       (  1.5651  ,  2.83578 ,   6.083983),\n",
       "       (  0.536318,  4.736416,   4.290358),\n",
       "       (  6.099455,  1.96655 ,   3.544105),\n",
       "       (  1.661998,  1.633939,   9.396072),\n",
       "       (  1.903435,  5.119205,  10.390203),\n",
       "       (  0.282026,  4.029526,   6.015766),\n",
       "       (  5.733738,  2.501651,   9.34104 ),\n",
       "       (  1.04873 ,  5.687883,   4.657211),\n",
       "       (  3.748412,  2.163315,   4.091714),\n",
       "       (  3.10405 ,  5.477737,   2.749406),\n",
       "       (  3.529903,  4.381277,   1.865017),\n",
       "       (  2.063173,  4.260504,   5.214561),\n",
       "       (  2.800365,  5.961293,   2.775894),\n",
       "       (  3.298821,  5.968672,   1.191896),\n",
       "       (  0.980775,  4.078641,  12.448301),\n",
       "       (  6.096347,  0.695665,   5.439016),\n",
       "       (  0.393955,  5.045432,   3.763831),\n",
       "       (  3.235666,  5.776628,   2.653559),\n",
       "       (  5.754764,  5.239753,  11.019865),\n",
       "       (  1.193075,  3.954261,   8.211569),\n",
       "       (  1.924233,  3.359227,   5.533465),\n",
       "       (  1.268797,  0.691936,   7.019191),\n",
       "       (  0.042198,  4.048276,   4.122468),\n",
       "       (  1.905025,  2.229541,   7.412472),\n",
       "       (  7.851247,  5.899552,   8.487173),\n",
       "       (  2.793852,  2.660422,   4.424333),\n",
       "       (  5.889132,  5.268718,  11.291221),\n",
       "       (  0.910399,  0.897239,  12.082011),\n",
       "       (  5.537745,  1.826782,   4.802659),\n",
       "       (  1.967636,  3.633434,   5.938973),\n",
       "       (  0.762311,  2.822302,   5.445144),\n",
       "       (  5.096558,  4.512143,  11.449351),\n",
       "       (  1.561002,  3.570519,   9.319984),\n",
       "       (  1.916517,  2.599756,  10.679041),\n",
       "       (  2.194446,  3.41632 ,   5.495691),\n",
       "       (  0.281163,  4.748642,   3.398947),\n",
       "       (  2.793505,  6.126917,   4.520953),\n",
       "       (  0.605835,  4.734   ,   4.466577),\n",
       "       (  5.459882,  3.627506,   5.307601),\n",
       "       (  0.441551,  5.319582,   1.990326),\n",
       "       (  1.764297,  2.9546  ,   6.427329),\n",
       "       (  0.723699,  3.432058,   4.916204),\n",
       "       (  1.798311,  2.92097 ,   6.546526),\n",
       "       (  1.151951,  3.759863,  11.01071 ),\n",
       "       (  7.963954,  6.055377,   8.088948),\n",
       "       (  0.491005,  4.481955,   4.132665),\n",
       "       ( 10.617768,  3.94978 ,   7.292129),\n",
       "       (  5.940706,  5.244657,  11.187187),\n",
       "       (  0.835247,  5.758391,   5.170507),\n",
       "       (  2.007231,  3.899118,   4.770995),\n",
       "       (  2.551456,  4.801409,   5.185485),\n",
       "       (  1.719048,  1.974792,  10.314412),\n",
       "       (  6.089571,  2.682422,   9.029097),\n",
       "       (  2.477139,  5.177713,   3.593296),\n",
       "       (  3.077843,  6.066402,   3.696252),\n",
       "       (  2.244792,  3.450995,   8.800427),\n",
       "       (  8.13116 ,  4.33498 ,   9.854808),\n",
       "       (  2.555255,  5.009861,   4.843677),\n",
       "       (  0.824918,  0.762809,  12.101367),\n",
       "       (  2.266047,  6.203681,  11.189269),\n",
       "       (  3.255875,  4.381662,   7.644286),\n",
       "       (  4.658173,  4.496617,  11.063664),\n",
       "       (  1.467566,  5.154199,  11.793948),\n",
       "       (  1.942851,  2.760823,   6.639001),\n",
       "       (  1.704237,  2.427975,   8.087442),\n",
       "       (  5.860643,  4.50358 ,  11.696384),\n",
       "       (  5.420784,  1.17619 ,   0.253952),\n",
       "       (  3.310662,  6.152612,   2.963787),\n",
       "       (  2.139675,  2.449556,   7.034875),\n",
       "       (  5.446896,  3.159291,  12.463887),\n",
       "       (  0.943163,  4.170246,  12.414446),\n",
       "       (  1.882398,  3.538911,   6.440246),\n",
       "       (  3.00901 ,  5.88146 ,   2.921199),\n",
       "       (  1.938511,  2.796465,   6.529251),\n",
       "       (  2.357245,  2.230751,  11.475102),\n",
       "       (  4.091933,  5.93465 ,   4.227842),\n",
       "       (  1.435542,  2.535068,  11.662829),\n",
       "       (  5.399049,  1.180807,   0.191391),\n",
       "       (  2.310649,  4.145153,   4.617399)],\n",
       "      dtype=(numpy.record, [(u'x', '<f8'), (u'y', '<f8'), (u'z', '<f8')]))"
      ]
     },
     "execution_count": 36,
     "metadata": {},
     "output_type": "execute_result"
    }
   ],
   "source": [
    "np.random.seed(2018)\n",
    "np.random.choice(um_smdpl_precord, 100, replace=False)"
   ]
  }
 ],
 "metadata": {
  "hide_input": false,
  "kernelspec": {
   "display_name": "Python 2",
   "language": "python",
   "name": "python2"
  },
  "language_info": {
   "codemirror_mode": {
    "name": "ipython",
    "version": 2
   },
   "file_extension": ".py",
   "mimetype": "text/x-python",
   "name": "python",
   "nbconvert_exporter": "python",
   "pygments_lexer": "ipython2",
   "version": "2.7.13"
  },
  "nav_menu": {},
  "toc": {
   "navigate_menu": true,
   "number_sections": true,
   "sideBar": true,
   "threshold": 6,
   "toc_cell": false,
   "toc_section_display": "block",
   "toc_window_display": false
  }
 },
 "nbformat": 4,
 "nbformat_minor": 2
}
