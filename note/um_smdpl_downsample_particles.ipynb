{
 "cells": [
  {
   "cell_type": "markdown",
   "metadata": {},
   "source": [
    "This notebook will read the dark matter particle table for the SMDPL simulation, and downsample it for our model.\n",
    "\n",
    "We will create two versions:\n",
    "1. default one will have 10 million particles.\n",
    "2. another one with 50 million particles for test.\n",
    "\n",
    "We will use fixed seed for random so the results can be reproduced.\n",
    "\n",
    "* There are 6 columns in the table, which are: `X Y Z VX VY VZ ID`\n",
    "* There are 113241782 particles in the table"
   ]
  },
  {
   "cell_type": "markdown",
   "metadata": {},
   "source": [
    "# Particle table"
   ]
  },
  {
   "cell_type": "code",
   "execution_count": 2,
   "metadata": {},
   "outputs": [],
   "source": [
    "%matplotlib inline\n",
    "%load_ext autoreload \n",
    "%autoreload 2\n",
    "\n",
    "import os\n",
    "import sys\n",
    "import copy \n",
    "from time import time\n",
    "\n",
    "import numpy as np \n",
    "import matplotlib.pyplot as plt\n",
    "    \n",
    "import matplotlib.mlab as ml\n",
    "from mpl_toolkits.axes_grid1 import make_axes_locatable\n",
    "from matplotlib.ticker import MaxNLocator\n",
    "\n",
    "%config InlineBackend.figure_format='retina'\n",
    "plt.rcParams['figure.dpi'] = 100.0\n",
    "plt.rcParams['figure.facecolor'] = 'w'\n",
    "plt.rcParams['font.family'] = 'serif'\n",
    "plt.rcParams['font.size'] = 12.0\n",
    "plt.rc('text', usetex=True)\n",
    "\n",
    "# Personal repo\n",
    "from stellar_mass_function import compute_smf, \\\n",
    "    bootstrap_smf\n",
    "from load_mdpl2_mock import value_added_smdpl_mock\n",
    "from model_predictions import total_stellar_mass_including_satellites\n",
    "    \n",
    "from hsc_massive import \\\n",
    "    s16a_path, \\\n",
    "    sample_selection, \\\n",
    "    prepare_sed, \\\n",
    "    catalog_summary, \\\n",
    "    smhm, \\\n",
    "    plotting"
   ]
  },
  {
   "cell_type": "code",
   "execution_count": 5,
   "metadata": {},
   "outputs": [],
   "source": [
    "# Setup environment \n",
    "envir = s16a_path.set_env(version='astro5')\n",
    "#envir = s16a_path.set_env(version='kungpao')\n",
    "\n",
    "# Folder for new UM model \n",
    "um_dir = os.path.join(envir['s16a'], 'um2/um2_new')\n",
    "um_smdpl_dir = os.path.join(um_dir, 'um_smdpl')\n",
    "\n",
    "# The gzipped particle table\n",
    "um_smdpl_ptbl = os.path.join(um_smdpl_dir, 'particles_0.712400.txt')"
   ]
  },
  {
   "cell_type": "code",
   "execution_count": null,
   "metadata": {},
   "outputs": [],
   "source": [
    "um_smdpl_particles = np.loadtxt(um_smdpl_ptbl)"
   ]
  },
  {
   "cell_type": "code",
   "execution_count": null,
   "metadata": {},
   "outputs": [],
   "source": []
  }
 ],
 "metadata": {
  "hide_input": false,
  "kernelspec": {
   "display_name": "Python 2",
   "language": "python",
   "name": "python2"
  },
  "language_info": {
   "codemirror_mode": {
    "name": "ipython",
    "version": 2
   },
   "file_extension": ".py",
   "mimetype": "text/x-python",
   "name": "python",
   "nbconvert_exporter": "python",
   "pygments_lexer": "ipython2",
   "version": "2.7.13"
  },
  "nav_menu": {},
  "toc": {
   "navigate_menu": true,
   "number_sections": true,
   "sideBar": true,
   "threshold": 6,
   "toc_cell": false,
   "toc_section_display": "block",
   "toc_window_display": false
  }
 },
 "nbformat": 4,
 "nbformat_minor": 2
}
