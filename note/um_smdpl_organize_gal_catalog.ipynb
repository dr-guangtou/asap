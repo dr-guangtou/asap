{
 "cells": [
  {
   "cell_type": "markdown",
   "metadata": {},
   "source": [
    "### Intro\n",
    "\n",
    "This note book will organize the galaxy catalogs from the UniverseMachine model using the small multidark planck simulation (SMDPL).  The results are provided by Peter Behroozi, and the initial catalogs are made by Christopher Bradshaw. \n",
    "\n",
    "The models are for galaxies at z~0.4.  Two models are provided: \n",
    "1. `sfr_catalog_0.712400.txt.gz`: old fashion `bcg` and `icl` components one. \n",
    "2. `sfr_catalog_insitu_exsitu_0.712400.txt.gz`: new `in-situ` and `ex-situ` components one. \n",
    "3. `particles_0.712400.txt.gz`: DM particles file. \n",
    "\n",
    "The useful information has been summarized into a smaller catalog, also the central and satellite galaxies are separated now.  (`.npz`) format. \n",
    "\n",
    "Here, we: \n",
    "\n",
    "1. Explore the basic properties of these new models. \n",
    "2. Compare their SMF with observed ones. \n",
    "3. Explore new M100-M10 models.\n",
    "4. Select the relevant massive galaxies, and save the value-added catalog. \n",
    "\n",
    "We also need to downsample the particle tables and pre-compute the `DeltaSigma` signals around the selected massive galaxies.\n",
    "\n",
    "#### Small MultiDark Simulation\n",
    "\n",
    "* For details, please see: https://www.cosmosim.org/cms/simulations/smdpl/"
   ]
  },
  {
   "cell_type": "markdown",
   "metadata": {},
   "source": [
    "![](cosmosim_smdpl_sum.png)"
   ]
  },
  {
   "cell_type": "code",
   "execution_count": 1,
   "metadata": {
    "ExecuteTime": {
     "end_time": "2018-01-04T18:22:35.820881Z",
     "start_time": "2018-01-04T18:22:34.583163Z"
    }
   },
   "outputs": [],
   "source": [
    "%matplotlib inline\n",
    "%load_ext autoreload \n",
    "%autoreload 2\n",
    "\n",
    "import os\n",
    "import sys\n",
    "import copy \n",
    "from time import time\n",
    "\n",
    "import numpy as np \n",
    "import matplotlib.pyplot as plt\n",
    "    \n",
    "import matplotlib.mlab as ml\n",
    "from mpl_toolkits.axes_grid1 import make_axes_locatable\n",
    "from matplotlib.ticker import MaxNLocator\n",
    "\n",
    "%config InlineBackend.figure_format='retina'\n",
    "plt.rcParams['figure.dpi'] = 100.0\n",
    "plt.rcParams['figure.facecolor'] = 'w'\n",
    "plt.rcParams['font.family'] = 'serif'\n",
    "plt.rcParams['font.size'] = 12.0\n",
    "plt.rc('text', usetex=True)\n",
    "\n",
    "# Personal repo\n",
    "from stellar_mass_function import compute_smf, \\\n",
    "    bootstrap_smf\n",
    "    \n",
    "from hsc_massive import \\\n",
    "    s16a_path, \\\n",
    "    sample_selection, \\\n",
    "    prepare_sed, \\\n",
    "    catalog_summary, \\\n",
    "    smhm, \\\n",
    "    plotting"
   ]
  },
  {
   "cell_type": "code",
   "execution_count": 15,
   "metadata": {
    "ExecuteTime": {
     "end_time": "2018-01-04T18:32:41.138711Z",
     "start_time": "2018-01-04T18:32:41.117677Z"
    }
   },
   "outputs": [],
   "source": [
    "from astropy.table import Table, Column"
   ]
  },
  {
   "cell_type": "markdown",
   "metadata": {
    "ExecuteTime": {
     "end_time": "2018-01-04T18:25:52.016259Z",
     "start_time": "2018-01-04T18:25:51.995136Z"
    }
   },
   "source": [
    "# Summary catalogs for SMDPL-UniverseMachine model"
   ]
  },
  {
   "cell_type": "code",
   "execution_count": 18,
   "metadata": {
    "ExecuteTime": {
     "end_time": "2018-01-04T18:34:12.695638Z",
     "start_time": "2018-01-04T18:34:06.438514Z"
    }
   },
   "outputs": [
    {
     "name": "stdout",
     "output_type": "stream",
     "text": [
      "(385125, 10809469)\n",
      "(385125, 10809469)\n",
      "['id', 'upid', 'x', 'y', 'z', 'm', 'mp', 'sm', 'icl', 'sfr']\n"
     ]
    }
   ],
   "source": [
    "# Setup environment \n",
    "#envir = s16a_path.set_env(version='astro5')\n",
    "envir = s16a_path.set_env(version='kungpao')\n",
    "\n",
    "# Folder for new UM model \n",
    "um_dir = os.path.join(envir['s16a'], 'um2/um2_new')\n",
    "um_smdpl_dir = os.path.join(um_dir, 'um_smdpl_small')\n",
    "\n",
    "# Summary catalogs for new UM models \n",
    "um_smdpl_old = np.load(os.path.join(um_smdpl_dir, \n",
    "                                    'sfr_catalog_0.712400_final.npz'))\n",
    "um_smdpl_new = np.load(os.path.join(um_smdpl_dir, \n",
    "                                    'sfr_catalog_insitu_exsitu_0.712400_final.npz'))\n",
    "\n",
    "# Results for central and satellite galaxies\n",
    "um_smdpl_old_cen = Table(um_smdpl_old['centrals'])\n",
    "um_smdpl_old_sat = Table(um_smdpl_old['satellites'])\n",
    "\n",
    "um_smdpl_new_cen = Table(um_smdpl_new['centrals'])\n",
    "um_smdpl_new_sat = Table(um_smdpl_new['satellites'])\n",
    "\n",
    "print(len(um_smdpl_old_cen), len(um_smdpl_old_sat))\n",
    "print(len(um_smdpl_new_cen), len(um_smdpl_new_sat))\n",
    "\n",
    "print(um_smdpl_old_cen.colnames)"
   ]
  },
  {
   "cell_type": "code",
   "execution_count": 17,
   "metadata": {
    "ExecuteTime": {
     "end_time": "2018-01-04T18:33:06.954497Z",
     "start_time": "2018-01-04T18:33:06.015853Z"
    }
   },
   "outputs": [
    {
     "data": {
      "text/plain": [
       "array([ (       8272347655, 8272347654,   13.83487 ,   18.749399,   16.14661 ,   1.98400000e+09,   3.11700000e+09,   2.31400000e+05,   0.00000000e+00,   6.41000000e-05),\n",
       "       (       8272348262, 8272347732,   15.026   ,   17.7521  ,   17.388531,   1.98400000e+09,   2.26700000e+09,   1.15200000e+03,   0.00000000e+00,   2.51000000e-06),\n",
       "       (       8272348449, 8272347732,   15.09965 ,   17.864719,   17.39245 ,   4.10900000e+09,   9.77600000e+09,   3.21900000e+05,   0.00000000e+00,   1.55000000e-04),\n",
       "       ...,\n",
       "       (34000004223609451, 8360215083,  384.851227,  396.654236,  391.585083,   1.63100000e+10,   1.29100000e+11,   1.37000000e+09,   2.81900000e+06,   1.15700000e-02),\n",
       "       (       8360215126, 8360215083,  384.742859,  396.397644,  391.56073 ,   5.68200000e+10,   2.57900000e+11,   1.36100000e+09,   2.40200000e+08,   1.95500000e-03),\n",
       "       (       8360215113, 8360215083,  385.014954,  396.380035,  391.405884,   1.33400000e+12,   3.05400000e+12,   5.34800000e+10,   1.04400000e+09,   9.21700000e-03)],\n",
       "      dtype=[('id', '<i8'), ('upid', '<i8'), ('x', '<f8'), ('y', '<f8'), ('z', '<f8'), ('m', '<f8'), ('mp', '<f8'), ('sm', '<f8'), ('icl', '<f8'), ('sfr', '<f8')])"
      ]
     },
     "execution_count": 17,
     "metadata": {},
     "output_type": "execute_result"
    }
   ],
   "source": [
    "um_smdpl_old['satellites']"
   ]
  }
 ],
 "metadata": {
  "kernelspec": {
   "display_name": "Python 2",
   "language": "python",
   "name": "python2"
  },
  "language_info": {
   "codemirror_mode": {
    "name": "ipython",
    "version": 2
   },
   "file_extension": ".py",
   "mimetype": "text/x-python",
   "name": "python",
   "nbconvert_exporter": "python",
   "pygments_lexer": "ipython2",
   "version": "2.7.14"
  },
  "toc": {
   "colors": {
    "hover_highlight": "#DAA520",
    "navigate_num": "#000000",
    "navigate_text": "#333333",
    "running_highlight": "#FF0000",
    "selected_highlight": "#FFD700",
    "sidebar_border": "#EEEEEE",
    "wrapper_background": "#FFFFFF"
   },
   "moveMenuLeft": true,
   "nav_menu": {
    "height": "81px",
    "width": "252px"
   },
   "navigate_menu": true,
   "number_sections": true,
   "sideBar": true,
   "threshold": 4,
   "toc_cell": false,
   "toc_section_display": "block",
   "toc_window_display": false,
   "widenNotebook": false
  }
 },
 "nbformat": 4,
 "nbformat_minor": 2
}
