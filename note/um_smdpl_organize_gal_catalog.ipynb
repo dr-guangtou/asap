{
 "cells": [
  {
   "cell_type": "markdown",
   "metadata": {},
   "source": [
    "### Intro\n",
    "\n",
    "This note book will organize the galaxy catalogs from the UniverseMachine model using the small multidark planck simulation (SMDPL).  The results are provided by Peter Behroozi, and the initial catalogs are made by Christopher Bradshaw. \n",
    "\n",
    "The models are for galaxies at z~0.4.  Two models are provided: \n",
    "1. `sfr_catalog_0.712400.txt.gz`: old fashion `bcg` and `icl` components one. \n",
    "2. `sfr_catalog_insitu_exsitu_0.712400.txt.gz`: new `in-situ` and `ex-situ` components one. \n",
    "3. `particles_0.712400.txt.gz`: DM particles file. \n",
    "\n",
    "The useful information has been summarized into a smaller catalog, also the central and satellite galaxies are separated now.  (`.npz`) format. \n",
    "\n",
    "Here, we: \n",
    "\n",
    "1. Explore the basic properties of these new models. \n",
    "2. Compare their SMF with observed ones. \n",
    "3. Explore new M100-M10 models.\n",
    "4. Select the relevant massive galaxies, and save the value-added catalog. \n",
    "\n",
    "We also need to downsample the particle tables and pre-compute the `DeltaSigma` signals around the selected massive galaxies.\n",
    "\n",
    "#### Small MultiDark Simulation\n",
    "\n",
    "* For details, please see: https://www.cosmosim.org/cms/simulations/smdpl/"
   ]
  },
  {
   "cell_type": "markdown",
   "metadata": {},
   "source": [
    "![](cosmosim_smdpl_sum.png)"
   ]
  },
  {
   "cell_type": "code",
   "execution_count": 11,
   "metadata": {
    "ExecuteTime": {
     "end_time": "2018-01-04T18:22:35.820881Z",
     "start_time": "2018-01-04T18:22:34.583163Z"
    }
   },
   "outputs": [
    {
     "name": "stdout",
     "output_type": "stream",
     "text": [
      "The autoreload extension is already loaded. To reload it, use:\n",
      "  %reload_ext autoreload\n"
     ]
    }
   ],
   "source": [
    "%matplotlib inline\n",
    "%load_ext autoreload \n",
    "%autoreload 2\n",
    "\n",
    "import os\n",
    "import sys\n",
    "import copy \n",
    "from time import time\n",
    "\n",
    "import numpy as np \n",
    "import matplotlib.pyplot as plt\n",
    "    \n",
    "import matplotlib.mlab as ml\n",
    "from mpl_toolkits.axes_grid1 import make_axes_locatable\n",
    "from matplotlib.ticker import MaxNLocator\n",
    "\n",
    "%config InlineBackend.figure_format='retina'\n",
    "plt.rcParams['figure.dpi'] = 100.0\n",
    "plt.rcParams['figure.facecolor'] = 'w'\n",
    "plt.rcParams['font.family'] = 'serif'\n",
    "plt.rcParams['font.size'] = 12.0\n",
    "plt.rc('text', usetex=True)\n",
    "\n",
    "# Personal repo\n",
    "from stellar_mass_function import compute_smf, \\\n",
    "    bootstrap_smf\n",
    "from load_mdpl2_mock import value_added_smdpl_mock\n",
    "from model_predictions import total_stellar_mass_including_satellites\n",
    "    \n",
    "from hsc_massive import \\\n",
    "    s16a_path, \\\n",
    "    sample_selection, \\\n",
    "    prepare_sed, \\\n",
    "    catalog_summary, \\\n",
    "    smhm, \\\n",
    "    plotting"
   ]
  },
  {
   "cell_type": "code",
   "execution_count": 5,
   "metadata": {
    "ExecuteTime": {
     "end_time": "2018-01-04T18:32:41.138711Z",
     "start_time": "2018-01-04T18:32:41.117677Z"
    }
   },
   "outputs": [],
   "source": [
    "from astropy.table import Table, Column, vstack"
   ]
  },
  {
   "cell_type": "markdown",
   "metadata": {
    "ExecuteTime": {
     "end_time": "2018-01-04T18:25:52.016259Z",
     "start_time": "2018-01-04T18:25:51.995136Z"
    }
   },
   "source": [
    "# Summary catalogs for SMDPL-UniverseMachine model"
   ]
  },
  {
   "cell_type": "code",
   "execution_count": 4,
   "metadata": {
    "ExecuteTime": {
     "end_time": "2018-01-04T18:34:12.695638Z",
     "start_time": "2018-01-04T18:34:06.438514Z"
    }
   },
   "outputs": [
    {
     "name": "stdout",
     "output_type": "stream",
     "text": [
      "(385125, 10809469)\n",
      "(385125, 10809469)\n",
      "['id', 'upid', 'x', 'y', 'z', 'm', 'mp', 'sm', 'icl', 'sfr']\n"
     ]
    }
   ],
   "source": [
    "# Setup environment \n",
    "envir = s16a_path.set_env(version='astro5')\n",
    "#envir = s16a_path.set_env(version='kungpao')\n",
    "\n",
    "# Folder for new UM model \n",
    "um_dir = os.path.join(envir['s16a'], 'um2/um2_new')\n",
    "um_smdpl_dir = os.path.join(um_dir, 'um_smdpl_small')\n",
    "\n",
    "# Summary catalogs for new UM models \n",
    "um_smdpl_old = np.load(os.path.join(um_smdpl_dir, \n",
    "                                    'sfr_catalog_0.712400_final.npz'))\n",
    "um_smdpl_new = np.load(os.path.join(um_smdpl_dir, \n",
    "                                    'sfr_catalog_insitu_exsitu_0.712400_final.npz'))\n",
    "\n",
    "# Results for central and satellite galaxies\n",
    "um_smdpl_old_cen = Table(um_smdpl_old['centrals'])\n",
    "um_smdpl_old_sat = Table(um_smdpl_old['satellites'])\n",
    "\n",
    "um_smdpl_new_cen = Table(um_smdpl_new['centrals'])\n",
    "um_smdpl_new_sat = Table(um_smdpl_new['satellites'])\n",
    "\n",
    "print(len(um_smdpl_old_cen), len(um_smdpl_old_sat))\n",
    "print(len(um_smdpl_new_cen), len(um_smdpl_new_sat))\n",
    "\n",
    "print(um_smdpl_old_cen.colnames)"
   ]
  },
  {
   "cell_type": "code",
   "execution_count": 30,
   "metadata": {
    "ExecuteTime": {
     "end_time": "2018-01-04T18:33:06.954497Z",
     "start_time": "2018-01-04T18:33:06.015853Z"
    }
   },
   "outputs": [],
   "source": [
    "# vstack the centrals and satellites \n",
    "\n",
    "um_smdpl_old_all = vstack([um_smdpl_old_cen, um_smdpl_old_sat])\n",
    "um_smdpl_new_all = vstack([um_smdpl_new_cen, um_smdpl_new_sat])\n",
    "\n",
    "# Value added the catalogs \n",
    "um_smdpl_old_all = value_added_smdpl_mock(um_smdpl_old_all)\n",
    "um_smdpl_new_all = value_added_smdpl_mock(um_smdpl_new_all)"
   ]
  },
  {
   "cell_type": "code",
   "execution_count": 29,
   "metadata": {
    "code_folding": [
     0
    ]
   },
   "outputs": [],
   "source": [
    "def umPrepCatalog(um_mock, um_min_mvir=None, use_mvir=False):\n",
    "    \"\"\"\n",
    "    Prepare the UniverseMachine mock catalog.\n",
    "\n",
    "    The goal is to prepare a FITS catalog that include all\n",
    "    necessary information.\n",
    "    During the modeling part, we just need to load this catalog once.\n",
    "    \"\"\"\n",
    "    # Sort the catalog based on the host halo ID\n",
    "    um_mock.sort('halo_hostid')\n",
    "\n",
    "    # Make a mask for central galaxies\n",
    "    mask_central = um_mock['upid'] == -1\n",
    "    um_mock.add_column(Column(data=mask_central,\n",
    "                              name='mask_central'))\n",
    "\n",
    "    # Add a column as the BCG+ICL mass\n",
    "    um_mock.add_column(Column(data=(um_mock['sm'] + um_mock['icl']),\n",
    "                              name='mtot_galaxy'))\n",
    "\n",
    "    # Total stellar masses within a halo, including the satellites\n",
    "    mstar_mhalo = total_stellar_mass_including_satellites(um_mock,\n",
    "                                                          'mtot_galaxy')\n",
    "    um_mock.add_column(Column(data=mstar_mhalo,\n",
    "                              name='mstar_mhalo'))\n",
    "\n",
    "    # Add log10(Mass)\n",
    "    # Stellar mass\n",
    "    um_mock.add_column(Column(data=np.log10(um_mock['sm']),\n",
    "                              name='logms_gal'))\n",
    "    um_mock.add_column(Column(data=np.log10(um_mock['icl']),\n",
    "                              name='logms_icl'))\n",
    "    um_mock.add_column(Column(data=np.log10(um_mock['mtot_galaxy']),\n",
    "                              name='logms_tot'))\n",
    "    um_mock.add_column(Column(data=np.log10(um_mock['mstar_mhalo']),\n",
    "                              name='logms_halo'))\n",
    "    # Halo mass\n",
    "    um_mock.add_column(Column(data=np.log10(um_mock['mvir']),\n",
    "                              name='logmh_vir'))\n",
    "    um_mock.add_column(Column(data=np.log10(um_mock['mpeak']),\n",
    "                              name='logmh_peak'))\n",
    "    um_mock.add_column(Column(data=np.log10(um_mock['host_halo_mvir']),\n",
    "                              name='logmh_host'))\n",
    "    \n",
    "    um_mock.rename_column('host_halo_mvir', 'mhalo_host')\n",
    "\n",
    "    if um_min_mvir is not None:\n",
    "        if use_mvir:\n",
    "            um_mock_use = um_mock[um_mock['logmh_vir'] >= um_min_mvir]\n",
    "        else:\n",
    "            um_mock_use = um_mock[um_mock['logmh_host'] >= um_min_mvir]\n",
    "    else:\n",
    "        um_mock_use = um_mock\n",
    "\n",
    "    return um_mock_use"
   ]
  },
  {
   "cell_type": "code",
   "execution_count": 31,
   "metadata": {},
   "outputs": [
    {
     "name": "stdout",
     "output_type": "stream",
     "text": [
      "['halo_id', 'upid', 'x', 'y', 'z', 'mvir', 'mpeak', 'sm', 'icl', 'sfr', 'halo_hostid', 'mhalo_host', 'mask_central', 'mtot_galaxy', 'mstar_mhalo', 'logms_gal', 'logms_icl', 'logms_tot', 'logms_halo', 'logmh_vir', 'logmh_peak', 'logmh_host']\n",
      "11193763\n"
     ]
    }
   ],
   "source": [
    "um_smdpl_old_all_vagc = umPrepCatalog(um_smdpl_old_all, um_min_mvir=11.5)\n",
    "um_smdpl_new_all_vagc = umPrepCatalog(um_smdpl_new_all, um_min_mvir=11.5)\n",
    "\n",
    "print(um_smdpl_new_all_vagc.colnames)\n",
    "print(len(um_smdpl_new_all_vagc))"
   ]
  },
  {
   "cell_type": "code",
   "execution_count": 24,
   "metadata": {},
   "outputs": [],
   "source": [
    "# Save the results\n",
    "\n",
    "# FITS table\n",
    "um_smdpl_old_all_vagc.write(os.path.join(um_dir,\n",
    "                                         'um_smdpl_0.7124_old_vagc_mhost_11.5.fits'),\n",
    "                            format='fits', overwrite=True)\n",
    "um_smdpl_new_all_vagc.write(os.path.join(um_dir,\n",
    "                                         'um_smdpl_0.7124_new_vagc_mhost_11.5.fits'),\n",
    "                            format='fits', overwrite=True)\n",
    "\n",
    "# Numpy array \n",
    "np.save(os.path.join(um_dir,\n",
    "                     'um_smdpl_0.7124_old_vagc_mhost_11.5.npy'),\n",
    "        np.asarray(um_smdpl_old_all_vagc)\n",
    "       )\n",
    "np.save(os.path.join(um_dir,\n",
    "                     'um_smdpl_0.7124_new_vagc_mhost_11.5.npy'),\n",
    "        np.asarray(um_smdpl_new_all_vagc)\n",
    "       )"
   ]
  },
  {
   "cell_type": "markdown",
   "metadata": {},
   "source": [
    "## Select a sample of galaxies in massive haloes for our model\n",
    "\n",
    "* Choose logMh_peak > 11.5 for now"
   ]
  },
  {
   "cell_type": "code",
   "execution_count": 33,
   "metadata": {},
   "outputs": [
    {
     "name": "stdout",
     "output_type": "stream",
     "text": [
      "806306\n"
     ]
    }
   ],
   "source": [
    "um_smdpl_old_mvagc = um_smdpl_old_all[um_smdpl_old_all['logmh_peak'] >= 11.5]\n",
    "um_smdpl_new_mvagc = um_smdpl_new_all[um_smdpl_new_all['logmh_peak'] >= 11.5]\n",
    "\n",
    "print(len(um_smdpl_new_mvagc))"
   ]
  },
  {
   "cell_type": "code",
   "execution_count": 34,
   "metadata": {},
   "outputs": [],
   "source": [
    "# Save the results\n",
    "\n",
    "# FITS table\n",
    "um_smdpl_old_mvagc.write(os.path.join(um_dir,\n",
    "                                      'um_smdpl_0.7124_old_vagc_mpeak_11.5.fits'),\n",
    "                            format='fits', overwrite=True)\n",
    "um_smdpl_new_mvagc.write(os.path.join(um_dir,\n",
    "                                      'um_smdpl_0.7124_new_vagc_mpeak_11.5.fits'),\n",
    "                            format='fits', overwrite=True)\n",
    "\n",
    "# Numpy array \n",
    "np.save(os.path.join(um_dir,\n",
    "                     'um_smdpl_0.7124_old_vagc_mpeak_11.5.npy'),\n",
    "        np.asarray(um_smdpl_old_mvagc)\n",
    "       )\n",
    "np.save(os.path.join(um_dir,\n",
    "                     'um_smdpl_0.7124_new_vagc_mpeak_11.5.npy'),\n",
    "        np.asarray(um_smdpl_new_mvagc)\n",
    "       )"
   ]
  }
 ],
 "metadata": {
  "hide_input": false,
  "kernelspec": {
   "display_name": "Python 2",
   "language": "python",
   "name": "python2"
  },
  "language_info": {
   "codemirror_mode": {
    "name": "ipython",
    "version": 2
   },
   "file_extension": ".py",
   "mimetype": "text/x-python",
   "name": "python",
   "nbconvert_exporter": "python",
   "pygments_lexer": "ipython2",
   "version": "2.7.13"
  },
  "nav_menu": {},
  "toc": {
   "navigate_menu": true,
   "number_sections": true,
   "sideBar": true,
   "threshold": 4,
   "toc_cell": false,
   "toc_section_display": "block",
   "toc_window_display": false
  }
 },
 "nbformat": 4,
 "nbformat_minor": 2
}
