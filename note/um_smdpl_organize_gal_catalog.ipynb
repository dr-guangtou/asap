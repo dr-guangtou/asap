{
 "cells": [
  {
   "cell_type": "markdown",
   "metadata": {},
   "source": [
    "### Intro\n",
    "\n",
    "This note book will organize the galaxy catalogs from the UniverseMachine model using the small multidark planck simulation (SMDPL).  The results are provided by Peter Behroozi, and the initial catalogs are made by Christopher Bradshaw. \n",
    "\n",
    "The models are for galaxies at z~0.4.  Two models are provided: \n",
    "1. `sfr_catalog_0.712400.txt.gz`: old fashion `bcg` and `icl` components one. \n",
    "2. `sfr_catalog_insitu_exsitu_0.712400.txt.gz`: new `in-situ` and `ex-situ` components one. \n",
    "3. `particles_0.712400.txt.gz`: DM particles file. \n",
    "\n",
    "The useful information has been summarized into a smaller catalog, also the central and satellite galaxies are separated now.  (`.npz`) format. \n",
    "\n",
    "Here, we: \n",
    "\n",
    "1. Explore the basic properties of these new models. \n",
    "2. Compare their SMF with observed ones. \n",
    "3. Explore new M100-M10 models.\n",
    "4. Select the relevant massive galaxies, and save the value-added catalog. \n",
    "\n",
    "We also need to downsample the particle tables and pre-compute the `DeltaSigma` signals around the selected massive galaxies.\n",
    "\n",
    "#### Small MultiDark Simulation\n",
    "\n",
    "* For details, please see: https://www.cosmosim.org/cms/simulations/smdpl/"
   ]
  },
  {
   "cell_type": "markdown",
   "metadata": {},
   "source": [
    "![](cosmosim_smdpl_sum.png)"
   ]
  },
  {
   "cell_type": "code",
   "execution_count": 11,
   "metadata": {
    "ExecuteTime": {
     "end_time": "2018-01-05T19:43:34.212529Z",
     "start_time": "2018-01-05T19:43:34.156211Z"
    }
   },
   "outputs": [
    {
     "name": "stdout",
     "output_type": "stream",
     "text": [
      "The autoreload extension is already loaded. To reload it, use:\n",
      "  %reload_ext autoreload\n"
     ]
    }
   ],
   "source": [
    "%matplotlib inline\n",
    "%load_ext autoreload \n",
    "%autoreload 2\n",
    "\n",
    "import os\n",
    "import sys\n",
    "import copy \n",
    "from time import time\n",
    "\n",
    "import numpy as np \n",
    "import matplotlib.pyplot as plt\n",
    "    \n",
    "import matplotlib.mlab as ml\n",
    "from mpl_toolkits.axes_grid1 import make_axes_locatable\n",
    "from matplotlib.ticker import MaxNLocator\n",
    "\n",
    "from astropy.table import Table, Column, vstack\n",
    "\n",
    "%config InlineBackend.figure_format='retina'\n",
    "plt.rcParams['figure.dpi'] = 100.0\n",
    "plt.rcParams['figure.facecolor'] = 'w'\n",
    "plt.rcParams['font.family'] = 'serif'\n",
    "plt.rcParams['font.size'] = 12.0\n",
    "plt.rc('text', usetex=True)\n",
    "\n",
    "# Personal repo\n",
    "from asap.um_prepare_catalog import prep_um_catalog\n",
    "from asap.um_vagc_mock import *\n",
    "    \n",
    "from hsc_massive import \\\n",
    "    s16a_path, \\\n",
    "    sample_selection, \\\n",
    "    prepare_sed, \\\n",
    "    catalog_summary, \\\n",
    "    smhm, \\\n",
    "    plotting"
   ]
  },
  {
   "cell_type": "markdown",
   "metadata": {
    "ExecuteTime": {
     "end_time": "2018-01-04T18:25:52.016259Z",
     "start_time": "2018-01-04T18:25:51.995136Z"
    }
   },
   "source": [
    "## Old model (before 1806): Summary catalogs for SMDPL-UniverseMachine model"
   ]
  },
  {
   "cell_type": "code",
   "execution_count": 8,
   "metadata": {
    "ExecuteTime": {
     "end_time": "2018-01-05T19:36:25.550113Z",
     "start_time": "2018-01-05T19:36:21.634131Z"
    }
   },
   "outputs": [
    {
     "name": "stdout",
     "output_type": "stream",
     "text": [
      "(385125, 10809469)\n",
      "(385125, 10809469)\n",
      "['id', 'upid', 'x', 'y', 'z', 'm', 'mp', 'sm', 'icl', 'sfr']\n"
     ]
    }
   ],
   "source": [
    "# Setup environment \n",
    "#envir = s16a_path.set_env(version='astro5')\n",
    "envir = s16a_path.set_env(version='kungpao')\n",
    "\n",
    "# Folder for new UM model \n",
    "um_dir = os.path.join(envir['s16a'], 'um2/um2_new')\n",
    "um_smdpl_dir = os.path.join(um_dir, 'um_smdpl_small')\n",
    "\n",
    "# Summary catalogs for new UM models \n",
    "um_smdpl_old = np.load(os.path.join(um_smdpl_dir, \n",
    "                                    'sfr_catalog_0.712400_final.npz'))\n",
    "um_smdpl_new = np.load(os.path.join(um_smdpl_dir, \n",
    "                                    'sfr_catalog_insitu_exsitu_0.712400_final_extended.npz'))\n",
    "\n",
    "# Results for central and satellite galaxies\n",
    "um_smdpl_old_cen = Table(um_smdpl_old['centrals'])\n",
    "um_smdpl_old_sat = Table(um_smdpl_old['satellites'])\n",
    "\n",
    "um_smdpl_new_cen = Table(um_smdpl_new['centrals'])\n",
    "um_smdpl_new_sat = Table(um_smdpl_new['satellites'])\n",
    "\n",
    "print(len(um_smdpl_old_cen), len(um_smdpl_old_sat))\n",
    "print(len(um_smdpl_new_cen), len(um_smdpl_new_sat))\n",
    "\n",
    "print(um_smdpl_old_cen.colnames)"
   ]
  },
  {
   "cell_type": "code",
   "execution_count": 9,
   "metadata": {
    "ExecuteTime": {
     "end_time": "2018-01-05T19:36:43.132070Z",
     "start_time": "2018-01-05T19:36:26.685605Z"
    }
   },
   "outputs": [],
   "source": [
    "# vstack the centrals and satellites \n",
    "um_smdpl_old_all = vstack([um_smdpl_old_cen, um_smdpl_old_sat])\n",
    "um_smdpl_new_all = vstack([um_smdpl_new_cen, um_smdpl_new_sat])"
   ]
  },
  {
   "cell_type": "code",
   "execution_count": 10,
   "metadata": {},
   "outputs": [],
   "source": [
    "um_smdpl_new_all.rename_column('mvir', 'mvir_hlist')\n",
    "um_smdpl_new_all.rename_column('rvir', 'rvir_hlist')\n",
    "um_smdpl_new_all.rename_column('rs', 'rs_hlist')\n",
    "um_smdpl_new_all.rename_column('Halfmass_Scale', 'scale_half_mass')\n",
    "um_smdpl_new_all.rename_column('scale_of_last_MM', 'scale_last_mm')\n",
    "um_smdpl_new_all.rename_column('M200b', 'm200b_hlist')\n",
    "um_smdpl_new_all.rename_column('M200c', 'm200c_hlist')\n",
    "um_smdpl_new_all.rename_column('Acc_Rate_Inst', 'acc_rate_inst')\n",
    "um_smdpl_new_all.rename_column('Acc_Rate_100Myr', 'acc_rate_100myr')\n",
    "um_smdpl_new_all.rename_column('Acc_Rate_1*Tdyn', 'acc_rate_1_tdyn')\n",
    "um_smdpl_new_all.rename_column('Acc_Rate_2*Tdyn', 'acc_rate_2_tdyn')\n",
    "um_smdpl_new_all.rename_column('Acc_Rate_Mpeak', 'acc_rate_mpeak')\n",
    "um_smdpl_new_all.rename_column('Vmax@Mpeak', 'vmax_at_mpeak')"
   ]
  },
  {
   "cell_type": "code",
   "execution_count": 13,
   "metadata": {},
   "outputs": [],
   "source": [
    "# Value added the catalogs \n",
    "um_smdpl_old_all = value_added_smdpl_mock(um_smdpl_old_all)\n",
    "um_smdpl_new_all = value_added_smdpl_mock(um_smdpl_new_all)"
   ]
  },
  {
   "cell_type": "code",
   "execution_count": 14,
   "metadata": {
    "ExecuteTime": {
     "end_time": "2018-01-05T19:44:08.186971Z",
     "start_time": "2018-01-05T19:43:43.369110Z"
    }
   },
   "outputs": [
    {
     "name": "stdout",
     "output_type": "stream",
     "text": [
      "['halo_id', 'upid', 'x', 'y', 'z', 'mvir', 'mpeak', 'sm', 'icl', 'sfr', 'mvir_hlist', 'rvir_hlist', 'rs_hlist', 'scale_half_mass', 'scale_last_mm', 'm200b_hlist', 'm200c_hlist', 'acc_rate_inst', 'acc_rate_100myr', 'acc_rate_1_tdyn', 'acc_rate_2_tdyn', 'acc_rate_mpeak', 'vmax_at_mpeak', 'halo_hostid', 'mhalo_host', 'mask_central', 'mtot_galaxy', 'mstar_mhalo', 'logms_gal', 'logms_icl', 'logms_tot', 'logms_halo', 'logmh_vir', 'logmh_peak', 'logmh_host']\n",
      "11193763\n"
     ]
    }
   ],
   "source": [
    "um_smdpl_old_all_vagc = prep_um_catalog(um_smdpl_old_all, um_min_mvir=11.5)\n",
    "um_smdpl_new_all_vagc = prep_um_catalog(um_smdpl_new_all, um_min_mvir=11.5)\n",
    "\n",
    "print(um_smdpl_new_all_vagc.colnames)\n",
    "print(len(um_smdpl_new_all_vagc))"
   ]
  },
  {
   "cell_type": "code",
   "execution_count": 10,
   "metadata": {
    "ExecuteTime": {
     "end_time": "2018-01-05T19:45:28.724580Z",
     "start_time": "2018-01-05T19:44:08.191245Z"
    }
   },
   "outputs": [],
   "source": [
    "# Save the results\n",
    "\n",
    "# FITS table\n",
    "um_smdpl_old_all_vagc.write(os.path.join(um_dir,\n",
    "                                         'um_smdpl_0.7124_old_vagc_mhost_11.5.fits'),\n",
    "                            format='fits', overwrite=True)\n",
    "um_smdpl_new_all_vagc.write(os.path.join(um_dir,\n",
    "                                         'um_smdpl_0.7124_new_vagc_mhost_11.5_extended.fits'),\n",
    "                            format='fits', overwrite=True)\n",
    "\n",
    "# Numpy array \n",
    "np.save(os.path.join(um_dir,\n",
    "                     'um_smdpl_0.7124_old_vagc_mhost_11.5.npy'),\n",
    "        np.asarray(um_smdpl_old_all_vagc)\n",
    "       )\n",
    "np.save(os.path.join(um_dir,\n",
    "                     'um_smdpl_0.7124_new_vagc_mhost_11.5_extended.npy'),\n",
    "        np.asarray(um_smdpl_new_all_vagc)\n",
    "       )"
   ]
  },
  {
   "cell_type": "markdown",
   "metadata": {},
   "source": [
    "## New Galaxy v.s. IHL model [1806]"
   ]
  },
  {
   "cell_type": "code",
   "execution_count": 17,
   "metadata": {},
   "outputs": [
    {
     "name": "stdout",
     "output_type": "stream",
     "text": [
      "(3194800, 14488529)\n",
      "['id', 'upid', 'x', 'y', 'z', 'vx', 'vy', 'vz', 'm', 'mp', 'vmp', 'r', 'sm', 'icl', 'sfr', 'ssfr']\n"
     ]
    }
   ],
   "source": [
    "smdpl_gal_dir = \"/Users/song/data/massive/umachine/1806/smdpl_bestfit\"\n",
    "\n",
    "# New galaxy v.s. IHL model using SMDPL\n",
    "um_smdpl_gal = np.load(os.path.join(smdpl_gal_dir, \n",
    "                                    \"sfr_catalog_0.712400_final_logmp_11.npz\"))\n",
    "\n",
    "# Results for central and satellite galaxies\n",
    "um_smdpl_gal_cen = Table(um_smdpl_gal['centrals'])\n",
    "um_smdpl_gal_sat = Table(um_smdpl_gal['satellites'])\n",
    "\n",
    "print(len(um_smdpl_gal_cen), len(um_smdpl_gal_sat))\n",
    "\n",
    "print(um_smdpl_gal_cen.colnames)"
   ]
  },
  {
   "cell_type": "markdown",
   "metadata": {},
   "source": [
    "## Select a sample of galaxies in massive haloes for our model\n",
    "\n",
    "* Choose logMh_peak > 11.5 for now"
   ]
  },
  {
   "cell_type": "code",
   "execution_count": 11,
   "metadata": {
    "ExecuteTime": {
     "end_time": "2018-01-05T19:45:29.744202Z",
     "start_time": "2018-01-05T19:45:28.728911Z"
    }
   },
   "outputs": [
    {
     "name": "stdout",
     "output_type": "stream",
     "text": [
      "806306\n"
     ]
    }
   ],
   "source": [
    "um_smdpl_old_mvagc = um_smdpl_old_all[um_smdpl_old_all['logmh_peak'] >= 11.5]\n",
    "um_smdpl_new_mvagc = um_smdpl_new_all[um_smdpl_new_all['logmh_peak'] >= 11.5]\n",
    "\n",
    "print(len(um_smdpl_new_mvagc))"
   ]
  },
  {
   "cell_type": "code",
   "execution_count": 12,
   "metadata": {
    "ExecuteTime": {
     "end_time": "2018-01-05T19:45:35.351512Z",
     "start_time": "2018-01-05T19:45:29.747538Z"
    }
   },
   "outputs": [],
   "source": [
    "# Save the results\n",
    "\n",
    "# FITS table\n",
    "um_smdpl_old_mvagc.write(os.path.join(um_dir,\n",
    "                                      'um_smdpl_0.7124_old_vagc_mpeak_11.5.fits'),\n",
    "                            format='fits', overwrite=True)\n",
    "um_smdpl_new_mvagc.write(os.path.join(um_dir,\n",
    "                                      'um_smdpl_0.7124_new_vagc_mpeak_11.5.fits'),\n",
    "                            format='fits', overwrite=True)\n",
    "\n",
    "# Numpy array \n",
    "np.save(os.path.join(um_dir,\n",
    "                     'um_smdpl_0.7124_old_vagc_mpeak_11.5.npy'),\n",
    "        np.asarray(um_smdpl_old_mvagc)\n",
    "       )\n",
    "np.save(os.path.join(um_dir,\n",
    "                     'um_smdpl_0.7124_new_vagc_mpeak_11.5.npy'),\n",
    "        np.asarray(um_smdpl_new_mvagc)\n",
    "       )"
   ]
  }
 ],
 "metadata": {
  "hide_input": false,
  "kernelspec": {
   "display_name": "Python 2",
   "language": "python",
   "name": "python2"
  },
  "language_info": {
   "codemirror_mode": {
    "name": "ipython",
    "version": 3
   },
   "file_extension": ".py",
   "mimetype": "text/x-python",
   "name": "python",
   "nbconvert_exporter": "python",
   "pygments_lexer": "ipython3",
   "version": "3.7.0"
  },
  "nav_menu": {},
  "toc": {
   "navigate_menu": true,
   "number_sections": true,
   "sideBar": true,
   "threshold": 4,
   "toc_cell": false,
   "toc_section_display": "block",
   "toc_window_display": false
  }
 },
 "nbformat": 4,
 "nbformat_minor": 2
}
