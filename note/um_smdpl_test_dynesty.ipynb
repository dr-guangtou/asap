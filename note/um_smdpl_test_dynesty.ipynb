{
 "cells": [
  {
   "cell_type": "code",
   "execution_count": 26,
   "metadata": {},
   "outputs": [
    {
     "name": "stdout",
     "output_type": "stream",
     "text": [
      "The autoreload extension is already loaded. To reload it, use:\n",
      "  %reload_ext autoreload\n"
     ]
    }
   ],
   "source": [
    "%matplotlib inline\n",
    "%load_ext autoreload \n",
    "%autoreload 2\n",
    "\n",
    "import os\n",
    "import sys\n",
    "import copy \n",
    "from time import time\n",
    "\n",
    "from astropy.table import Table, vstack\n",
    "\n",
    "import numpy as np \n",
    "import emcee\n",
    "\n",
    "import scipy.ndimage\n",
    "from scipy.ndimage.filters import gaussian_filter\n",
    "\n",
    "import matplotlib.pyplot as plt\n",
    "import matplotlib.mlab as ml\n",
    "from mpl_toolkits.axes_grid1 import make_axes_locatable\n",
    "from matplotlib.ticker import MaxNLocator\n",
    "\n",
    "from astroML.stats import binned_statistic_2d\n",
    "\n",
    "from cap_loess_2d import loess_2d\n",
    "from cap_plot_velfield import plot_velfield\n",
    "\n",
    "plt.rcParams['figure.dpi'] = 100.0\n",
    "plt.rcParams['figure.facecolor'] = 'w'\n",
    "plt.rcParams['font.family'] = 'serif'\n",
    "plt.rcParams['font.size'] = 12.0\n",
    "plt.rc('text', usetex=True)\n",
    "    \n",
    "from asap.um_model_plot import plot_mtot_minn_smf, plot_dsigma_profiles\n",
    "from asap.asap_data_io import parse_config, load_observed_data, \\\n",
    "    config_observed_data, config_um_data, load_um_data\n",
    "from asap.asap_utils import mcmc_save_chains, mcmc_save_results, \\\n",
    "    mcmc_initial_guess, mcmc_samples_stats, mcmc_save_results\n",
    "from asap.asap_model_setup import setup_model\n",
    "from asap.asap_likelihood import asap_flat_prior, asap_ln_like, asap_flat_prior_transform\n",
    "\n",
    "from asap.asap_run_model import * \n",
    "from asap.asap_model_prediction import *\n",
    "from asap.asap_likelihood import * "
   ]
  },
  {
   "cell_type": "code",
   "execution_count": 6,
   "metadata": {},
   "outputs": [],
   "source": [
    "from numpy import linalg\n",
    "\n",
    "import dynesty\n",
    "from dynesty import plotting as dyplot"
   ]
  },
  {
   "cell_type": "markdown",
   "metadata": {},
   "source": [
    "### Read the configuration and data"
   ]
  },
  {
   "cell_type": "code",
   "execution_count": 35,
   "metadata": {},
   "outputs": [
    {
     "name": "stdout",
     "output_type": "stream",
     "text": [
      "# Stellar mass catalog: s16a_wide2_massive_fsps1_imgsub_use_short.fits\n",
      "# Weak lensing profile sample: s16a_wide2_massive_boxbin3_default\n",
      "# Pre-computed SMF for inner logMs: ../data/s16a_massive_wide2/smf/s16a_wide2_massive_smf_m10_11.5.fits\n",
      "# Pre-computed SMF for total logMs: ../data/s16a_massive_wide2/smf/s16a_wide2_massive_smf_mmax_11.5.fits\n",
      "# Using logm_10 as inner stellar mass.\n",
      "# Using logm_max as total stellar mass.\n",
      "# There are 15 weak lensing profiles in this sample\n",
      "# SMF for total stellar mass: \n",
      "  11.5000 -- 12.4000 in 9 bins\n",
      "# SMF for inner stellar mass: \n",
      "  10.8000 -- 11.8000 in 10 bins\n",
      "# Pre-computed full SMF: primus_smf_z0.3_0.4.fits\n",
      "# For inner stellar mass: \n",
      "    10 bins at 10.80 < logMinn < 11.80\n",
      "# For total stellar mass: \n",
      "    9 bins at 11.50 < logMtot < 12.40\n",
      "# The volume of the HSC data is    102060083.62 Mpc^3\n",
      "# The volume of the UniverseMachine mock is    205348196.23 Mpc^3\n"
     ]
    }
   ],
   "source": [
    "config_file = '../asap/asap_default_config.yaml'\n",
    "\n",
    "cfg_ini = parse_config(config_file)\n",
    "\n",
    "global cfg, obs_data, um_data\n",
    "\n",
    "cfg, obs_data, um_data = initial_model(cfg_ini, verbose=True)"
   ]
  },
  {
   "cell_type": "code",
   "execution_count": 40,
   "metadata": {},
   "outputs": [
    {
     "name": "stdout",
     "output_type": "stream",
     "text": [
      "['um_min_scatter', 'param_ini', 'mcmc_out_dir', 'obs_smf_n_data', 'obs_wl_sample', 'obs_omega_m', 'obs_smf_tot', 'obs_smf_full_fits', 'smf_tot_file', 'um_mtot_nbin_min', 'param_sig', 'mcmc_wl_only', 'mcmc_nsamples', 'um_model', 'obs_smf_inn', 'obs_h0', 'obs_smf_full_file', 'obs_minn_col', 'um_wl_add_stellar', 'obs_dir', 'obs_area', 'um_redshift', 'obs_smf_inn_nbin', 'mcmc_wl_weight', 'um_wl_nbin', 'obs_cosmo', 'obs_volume', 'um_cosmo', 'obs_smf_inn_min', 'obs_cat', 'obs_smf_tot_nbin', 'mcmc_run_file', 'mcmc_prefix', 'mcmc_smf_only', 'mcmc_nthreads', 'obs_wl_n_bin', 'um_dir', 'obs_smf_tot_min', 'smf_inn_file', 'um_min_mvir', 'mcmc_labels', 'um_lbox', 'um_mtot_nbin', 'um_wl_cat', 'param_upp', 'obs_z_col', 'um_omega_m', 'param_low', 'um_min_nobj_per_bin', 'obs_dsigma_n_data', 'um_star_col', 'um_wl_minr', 'obs_mtot_col', 'um_halo_col', 'obs_smf_inn_max', 'mcmc_ndims', 'um_h0', 'mcmc_nwalkers', 'um_volume', 'um_wl_maxr', 'mcmc_burnin_file', 'model_type', 'model_dof', 'obs_wl_out', 'mcmc_nburnin', 'obs_smf_tot_max']\n"
     ]
    }
   ],
   "source": [
    "print(cfg.keys())"
   ]
  },
  {
   "cell_type": "markdown",
   "metadata": {},
   "source": [
    "### Test flat prior transform"
   ]
  },
  {
   "cell_type": "code",
   "execution_count": 14,
   "metadata": {},
   "outputs": [],
   "source": [
    "from prospect.models import priors\n",
    "\n",
    "a = priors.TopHat(mini=-0.1, maxi=3.0)"
   ]
  },
  {
   "cell_type": "code",
   "execution_count": 41,
   "metadata": {},
   "outputs": [
    {
     "data": {
      "text/plain": [
       "array([ 0.58133591,  6.6947321 , -0.12088829,  0.06932583,  0.47029372,\n",
       "        0.12406602])"
      ]
     },
     "execution_count": 41,
     "metadata": {},
     "output_type": "execute_result"
    }
   ],
   "source": [
    "unit_cube = np.random.random(cfg_ini['mcmc_ndims'])\n",
    "\n",
    "asap_flat_prior_transform(unit_cube, cfg['param_low'], cfg['param_upp'])"
   ]
  },
  {
   "cell_type": "markdown",
   "metadata": {},
   "source": [
    "### Test dynesty sampling"
   ]
  },
  {
   "cell_type": "code",
   "execution_count": 46,
   "metadata": {},
   "outputs": [],
   "source": [
    "sampler = dynesty.NestedSampler(asap_ln_like, \n",
    "                                asap_flat_prior_transform, \n",
    "                                cfg['mcmc_ndims'],\n",
    "                                logl_args=[cfg, obs_data, um_data],\n",
    "                                ptform_args=[cfg['param_low'], cfg['param_upp']],\n",
    "                                bound='single', \n",
    "                                nlive=100)"
   ]
  },
  {
   "cell_type": "code",
   "execution_count": null,
   "metadata": {},
   "outputs": [
    {
     "name": "stderr",
     "output_type": "stream",
     "text": [
      "iter: 1253 | bound: 111 | nc: 25 | ncall: 13266 | eff(%):  9.445 | loglstar:   -inf < -240.012 <    inf | logz: -253.953 +/-  0.357 | dlogz: 12.985 >  0.010               "
     ]
    }
   ],
   "source": [
    "sampler.run_nested(dlogz=0.01)\n",
    "res = sampler.results"
   ]
  },
  {
   "cell_type": "code",
   "execution_count": null,
   "metadata": {},
   "outputs": [],
   "source": [
    "# Plot results.\n",
    "lnz_truth = ndim * -np.log(2 * 10.)  # analytic evidence solution\n",
    "fig, axes = dyplot.runplot(res, lnz_truth=lnz_truth)"
   ]
  }
 ],
 "metadata": {
  "hide_input": false,
  "kernelspec": {
   "display_name": "Python 2",
   "language": "python",
   "name": "python2"
  },
  "language_info": {
   "codemirror_mode": {
    "name": "ipython",
    "version": 2
   },
   "file_extension": ".py",
   "mimetype": "text/x-python",
   "name": "python",
   "nbconvert_exporter": "python",
   "pygments_lexer": "ipython2",
   "version": "2.7.13"
  },
  "nav_menu": {},
  "toc": {
   "navigate_menu": true,
   "number_sections": true,
   "sideBar": true,
   "threshold": 6,
   "toc_cell": false,
   "toc_section_display": "block",
   "toc_window_display": false
  }
 },
 "nbformat": 4,
 "nbformat_minor": 2
}
